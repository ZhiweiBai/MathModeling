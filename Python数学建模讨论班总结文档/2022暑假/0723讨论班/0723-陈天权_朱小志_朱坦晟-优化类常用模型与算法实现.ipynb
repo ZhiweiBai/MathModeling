{
 "cells": [
  {
   "cell_type": "markdown",
   "id": "61b2fc26",
   "metadata": {},
   "source": [
    "# 7.23日讨论会总结\n",
    "总结人：王湛，刘思奇\n",
    "# 一、线性规划与整数规划\n",
    "## 1.线性规划\n",
    "\n",
    "### 1.1线性规划的概念和理论\n",
    "线性规划 (linear programming, LP) 是运筹学的一个重要分支, 它起源于工业生产组织管理的决策问题, 在数学上用来确定多变量线性函数在变量满足线性约東条件下的最优值. 线性规划模型通常由三个要素一决策变量、目标函数和约束 条件构成. 一般来讲, 决策变量是决策者为了达到预定目标而要控制的那些量, 问题的求解就是找出决策变量的最终取值; 目标函数是决策者希望对其进行优化的那个指标, 它是决策变量的线性函数, 描述决策变量与预定目标之间的关系, 约束条 件是决策者在现实世界中所受到的限制, 或者说决策变量在这些限制范围之内才有意义.\n",
    "#### 1.1.1 线性规划的一般模型\n",
    "线性规划模型的一般形式为\n",
    "$$\n",
    "\\begin{array}{ll}\n",
    "\\max (\\min ) & z=\\sum_{j=1}^n{c_j}x_j,&&\\left( 1 \\right)\\\\\n",
    "\\text{ s.t. } &\t\\left\\{ \\begin{array}{l}\n",
    "\\sum_{j=1}^n{a_{ij}}x_j\\leqslant (\\geqslant ,=)b_i,   i=1,2,\\cdots ,m,\\\\\n",
    "x_j\\geqslant 0,                      j=1,2,\\cdots ,n.\\\\\n",
    "\\end{array}\\right.&&\\left( 2 \\right)\\\\\n",
    "\\end{array}\\\n",
    "$$\n",
    "\n",
    "也可以表示为矩阵形式\n",
    "<!-- $ z=c^{\\mathrm{T}} \\boldsymbol{x}$,\n",
    "s.t. $\\left\\{\\begin{array}{l}\\boldsymbol{A x} \\leqslant(\\geqslant,=) \\boldsymbol{b}, \\\\ \\boldsymbol{x} \\geqslant \\mathbf{0},\\end{array}\\right.$ -->\n",
    "$$\n",
    "\\begin{array}{ll}\n",
    "\\ z=c^{\\mathrm{T}} \\boldsymbol{x}\\\\\n",
    "\\text{ s.t. } &\t\\left\\{\\begin{array}{l}\n",
    "\\boldsymbol{A x} \\leqslant(\\geqslant,=) \\boldsymbol{b}, \\\\ \n",
    "\\boldsymbol{x} \\geqslant \\mathbf{0},\n",
    "\\end{array}\\right.\n",
    "\\end{array}\n",
    "$$\n",
    "或者向量形式\n",
    "$$\n",
    "\\begin{array}{ll}\n",
    "\\max (\\min ) & z=c^{\\mathrm{T}} \\boldsymbol{x}, \\\\\n",
    "\\text { s.t. } & \\left\\{\\begin{array}{l}\n",
    "\\sum_{j=1}^{n} \\boldsymbol{p}_{j} x_{j} \\leqslant(\\geqslant,=) \\boldsymbol{b}, \\\\\n",
    "\\boldsymbol{x} \\geqslant \\mathbf{0} .\n",
    "\\end{array}\\right.\n",
    "\\end{array}\n",
    "$$\n",
    "上面的表达式中, 式 (1) 称为目标函数, 式 (2) 称为约束条件, 其中 $c=$ $\\left[c_{1}, c_{2}, \\cdots, c_{n}\\right]^{\\mathrm{T}}$, 称其为价值向量 (或目标向量); $\\boldsymbol{x}=\\left[x_{1}, x_{2}, \\cdots, x_{n}\\right]^{\\mathrm{T}}$, 称其为决策 向量; $\\boldsymbol{b}=\\left[b_{1}, b_{2}, \\cdots, b_{m}\\right]^{\\mathrm{T}}$, 称其为资源向量; $\\boldsymbol{A}=\\left(a_{i j}\\right)_{m \\times n}$, 称其为约束条件的系 数矩阵; $\\boldsymbol{p}_{j}=\\left[a_{1 j}, a_{2 j}, \\cdots, a_{m j}\\right]^{\\mathrm{T}}(j=1,2, \\cdots, n)$, 称其为约束条件的系数向量.\n",
    "从上面的模型可以看出, 线性规划的目标函数可以是最大化问题, 也可以是最\n",
    "在一些实际问题中决策变量可以是非负的, 也可以是非正的, 甚至可以是无约 束的 (即可以取任何值). 为了便于研究, 在数学理论上规定线性规划模型的标准形 为\n",
    "$$\n",
    "\\begin{aligned}\n",
    "&\\max \\quad z=\\boldsymbol{c}^{\\mathrm{T}} \\boldsymbol{x} \\\\\n",
    "&\\text { s.t. } \\quad\\left\\{\\begin{array}{l}\n",
    "\\boldsymbol{A} \\boldsymbol{x}=\\boldsymbol{b} \\\\\n",
    "\\boldsymbol{x} \\geqslant \\mathbf{0}\n",
    "\\end{array}\\right.\n",
    "\\end{aligned}\n",
    "$$"
   ]
  },
  {
   "cell_type": "markdown",
   "id": "20a4a210",
   "metadata": {},
   "source": [
    "#### 1.1.2 线性规划解的概念和理论\n",
    "定义 $1.1$   \n",
    "对于线性规划模型,  \n",
    " (1) 满足全部约束条件的决策向量 $x \\in \\mathbb{R}^{n}$ 称为可行解;  \n",
    " (2) 全部可行解构成的集合 (它是 $n$ 维欧氏空间 $\\mathbb{R}^{n}$ 中的点集, 而且是一个 “凸 多面体\") 称为可行域;  \n",
    " (3) 使目标函数达到最优值 (最大值或最小值, 并且有界) 的可行解称为最优解. 定理 $5.1$ 当线性规划问题有最优解时, 一定可以在可行域的某个顶点上取 到. 当有唯一解时, 最优解就是可行域的某个顶点. 当有无穷多个最优解时, 其中 至少有一个解是可行域的一个顶点.    \n",
    " \n",
    "定理 $1.1$   \n",
    "当线性规划问题有最优解时, 一定可以在可行域的某个顶点上取 到. 当有唯一解时, 最优解就是可行域的某个顶点. 当有无穷多个最优解时, 其中 至少有一个解是可行域的一个顶点.   \n",
    "  \n",
    "根据定理 $1.1$, 线性规划模型的最优解有以下几种情况:\n",
    "(1) 有最优解时, 可能有唯一最优解, 也可能有无穷多个最优解. 如果最优解不唯一, 则最优解一定有无穷多个, 不可能有有限个. 最优解对应的目标函数值 (最优值) 均相等.\n",
    "(2) 没有最优解时, 也有两种情形. 一是可行域为空集, 即无可行解; 二是可行域非空, 但目标函数值无界 (求最大时无上界, 求最小时无下界). \n",
    "\n",
    "#### 1.1.3 可转化为线性规划的问题\n",
    "很多看起来不是线性规划的问题也可以通过变换转化为线性规划问题来求解, 如问题\n",
    "$$\n",
    "\\begin{array}{ll}\n",
    "\\min & \\left|x_{1}\\right|+\\left|x_{2}\\right|+\\cdots+\\left|x_{n}\\right|, \\\\\n",
    "\\text { s.t. } & \\boldsymbol{A x} \\leqslant \\boldsymbol{b},\n",
    "\\end{array}\n",
    "$$\n",
    "式中, $\\boldsymbol{x}=\\left[x_{1}, x_{2}, \\cdots, x_{n}\\right]^{\\mathrm{T}}, \\boldsymbol{A}$ 和 $\\boldsymbol{b}$ 为相应维数的矩阵和向量.\n",
    "要把上面的问题转化成线性规划问题, 主要注意到事实: 对任意的 $x_{i}$, 存在 $u_{i}, v_{i} \\geqslant 0$ 满足\n",
    "$$\n",
    "x_{i}=u_{i}-v_{i}, \\quad\\left|x_{i}\\right|=u_{i}+v_{i} .\n",
    "$$\n",
    "事实上, 只要取 $u_{i}=\\frac{x_{i}+\\left|x_{i}\\right|}{2}, v_{i}=\\frac{\\left|x_{i}\\right|-x_{i}}{2}$ 就可以满足上面的条件.\n",
    "这样, 记 $u=\\left[u_{1}, u_{2}, \\cdots, u_{n}\\right]^{\\mathrm{T}}, \\boldsymbol{v}=\\left[v_{1}, v_{2}, \\cdots, v_{n}\\right]^{\\mathrm{T}}$ 就可把上面的问题变成\\\\\n",
    "$$\n",
    "\\begin{aligned}\n",
    "&\\min \\sum_{i=1}^{n}\\left(u_{i}+v_{i}\\right) \\text {, }\\\\\n",
    "&\\text { s.t. }\\left\\{\\begin{array}{l}\n",
    "{[A,-A]\\left[\\begin{array}{l}\n",
    "u \\\\\n",
    "v\n",
    "\\end{array}\\right] \\leqslant b,} \\\\\n",
    "u, v \\geqslant 0 .\n",
    "\\end{array}\\right.\n",
    "\\end{aligned}\n",
    "$$"
   ]
  },
  {
   "cell_type": "markdown",
   "id": "98ed6c07",
   "metadata": {},
   "source": [
    "### 1.2线性规划的python求解\n",
    "#### 1.2.1使用spicy库的linprog函数求解\n",
    "SciPy 中线性规划模型的标准形为\n",
    "$$\n",
    "\\begin{aligned}\n",
    "&\\min \\quad z=\\boldsymbol{c}^{\\mathrm{T}} \\boldsymbol{x}, \\\\\n",
    "&\\text { s.t. } \\quad\\left\\{\\begin{array}{l}\n",
    "\\boldsymbol{A} \\cdot \\boldsymbol{x} \\leqslant \\boldsymbol{b}, \\\\\n",
    "\\mathrm{Aeq} \\cdot \\boldsymbol{x}=\\mathrm{beq}, \\\\\n",
    "\\mathbf{L b} \\leqslant \\boldsymbol{x} \\leqslant \\mathrm{Ub} .\n",
    "\\end{array}\\right.\n",
    "\\end{aligned}\n",
    "$$  \n",
    "linprog 的基本调用格式为  \n",
    "  \n",
    "from scipy.optimize import linprog  \n",
    "res =linprog (c, A, b, Aeq, beq)        #默认每个决策变量下界为 0 , 上界为 $+\\infty$  \n",
    "res=linprog (c, A=None, b=None, Aeq=None, beq=None, bounds=None, method ='simplex')  \n",
    "print(res.fun)            #显示目标函数最小值  \n",
    "print(res.x) #显示最优解  "
   ]
  },
  {
   "cell_type": "markdown",
   "id": "652603f8",
   "metadata": {},
   "source": [
    "其中, c 对应于上述标准形中的目标向量, A, b 对应于不等号约束, Aeq, beq 对应 于等号约束, bounds 是决策向量的下界向量和上界向量所组成的 $n$ 个元素的元组, 下面通过例子说明 bounds 的写法, bounds 的默认取值下界都是 0 , 上界都是 $+\\infty$; 返回值 res. $x$ 是求得的最优解, res.fun 是目标函数的最优值."
   ]
  },
  {
   "cell_type": "markdown",
   "id": "4d84657c",
   "metadata": {},
   "source": [
    "例1  求解下列线性规划问题\n",
    "$$\n",
    "\\begin{aligned}\n",
    "&\\max z=x_{1}-2 x_{2}-3 x_{3}, \\\\\n",
    "&\\text { s.t. }\\left\\{\\begin{array}{l}\n",
    "-2 x_{1}+x_{2}+x_{3} \\leq 9, \\\\\n",
    "-3 x_{1}+x_{2}+2 x_{3} \\geq 4, \\\\\n",
    "4 x_{1}-2 x_{2}-x_{3}=-6, \\\\\n",
    "x_{1} \\geq-10, \\quad x_{2} \\geq 0, \\quad x_{3} \\text { 取值无约束. }\n",
    "\\end{array}\\right.\n",
    "\\end{aligned}\n",
    "$$"
   ]
  },
  {
   "cell_type": "code",
   "execution_count": 1,
   "id": "72afd66f-75f9-4be4-be91-bc139ac96fc0",
   "metadata": {},
   "outputs": [
    {
     "name": "stdout",
     "output_type": "stream",
     "text": [
      "目标函数的最小值： 0.4000000006526985\n",
      "最优解为： [-1.60000000e+00  8.29674988e-11 -4.00000000e-01]\n"
     ]
    }
   ],
   "source": [
    "from scipy.optimize import linprog\n",
    "import numpy as np\n",
    "c=np.array([1, -2, -3])  #因为linprog标准模型为求最小值，为了下面取相反数，这里使用数组\n",
    "A =[[-2, 1, 1], [3, -1, -2]]\n",
    "b=[[9], [-4]]; Aeq=[[4, -2, -1]]; beq=[-6]\n",
    "LB=[-10, 0, None];\n",
    "UB=[None]*len(c)  #生成3个None的列表\n",
    "bound=tuple(zip(LB, UB))  #生成决策向量界限的元组\n",
    "res=linprog(-c,A,b,Aeq,beq,bound)\n",
    "print(\"目标函数的最小值：\",res.fun)\n",
    "print(\"最优解为：\",res.x)"
   ]
  },
  {
   "cell_type": "markdown",
   "id": "1f1e8158",
   "metadata": {},
   "source": [
    "#### 1.2.1使用cvxpy库的求解器求解\n",
    "cvxpy库的安装可参考之前的总结文档，不同求解器对不同数学模型的支持与否的表格见求解器部分。  "
   ]
  },
  {
   "cell_type": "markdown",
   "id": "a771746b",
   "metadata": {},
   "source": [
    "例 $2$ 已知某种商品 6 个仓库的存货量, 8 个客户对该商品的需求量, 单位商品运价如表 $5.4$ 所示。试确定 6 个仓库到 8 个客户的商品调运数量, 使总的运输费用最小。\n",
    "\n",
    "|     | V1 | V2 | V3 | V4 | V5 | V6 | V7 | V8 | 存货量 |\n",
    "|-----|----|----|----|----|----|----|----|----|-----|\n",
    "| W1  | 6  | 2  | 6  | 7  | 4  | 2  | 5  | 9  | 60  |\n",
    "| W2  | 4  | 9  | 5  | 3  | 8  | 5  | 8  | 2  | 55  |\n",
    "| W3  | 5  | 2  | 1  | 9  | 7  | 4  | 3  | 3  | 51  |\n",
    "| W4  | 7  | 6  | 7  | 3  | 9  | 2  | 7  | 1  | 43  |\n",
    "| W5  | 2  | 3  | 9  | 5  | 7  | 2  | 6  | 5  | 41  |\n",
    "| W6  | 5  | 5  | 2  | 2  | 8  | 1  | 4  | 3  | 52  |\n",
    "| 需求量 | 35 | 37 | 22 | 32 | 41 | 32 | 43 | 38 |     |\n",
    "  \n",
    "表格中数据为单位运价，V1至V8代表客户，W1至W6代表仓库\n",
    "\n",
    "  \n",
    "解 设 $x_{i j}(i=1,2, \\cdots 6 ; j=1,2, \\cdots, 8)$ 表示第 $i$ 个仓库运到第 $j$ 个客户的商 品数量， $c_{i j}$ 表示第 $i$ 个仓库到第 $\\mathrm{j}$ 个客户的单位运价， $d_{j}$ 表示第 $\\mathrm{j}$ 个客户的需 求量, $. e_{i}$. 表示第 $i$ 个仓库的存货量，建立如下线性规划模型\n",
    "$$\n",
    "\\begin{aligned}\n",
    "&\\min \\sum_{i=1}^{6} \\sum_{j=1}^{8} c_{i j} x_{i j}, \\\\\n",
    "&\\text { s.t. }\\left\\{\\begin{array}{l}\n",
    "\\sum_{j=1}^{8} x_{i j} \\leq e_{i}, \\quad i=1,2, \\cdots, 6, \\\\\n",
    "\\sum_{i=1}^{6} x_{i j}=d_{j}, \\quad j=1,2, \\cdots, 8, \\\\\n",
    "x_{i j} \\geq 0, \\quad i=1,2, \\cdots, 6 ; j=1,2, \\cdots, 8 .\n",
    "\\end{array}\\right.\n",
    "\\end{aligned}\n",
    "$$  \n",
    "之后利用cvxpy求解器求解如下："
   ]
  },
  {
   "cell_type": "code",
   "execution_count": null,
   "id": "aed19f88",
   "metadata": {
    "scrolled": false
   },
   "outputs": [
    {
     "name": "stdout",
     "output_type": "stream",
     "text": [
      "===============================================================================\n",
      "                                     CVXPY                                     \n",
      "                                     v1.2.1                                    \n",
      "===============================================================================\n",
      "(CVXPY) Jul 23 11:14:31 AM: Your problem has 48 variables, 3 constraints, and 0 parameters.\n",
      "(CVXPY) Jul 23 11:14:31 AM: It is compliant with the following grammars: DCP, DQCP\n",
      "(CVXPY) Jul 23 11:14:31 AM: (If you need to solve this problem multiple times, but with different data, consider using parameters.)\n",
      "(CVXPY) Jul 23 11:14:31 AM: CVXPY will first compile your problem; then, it will invoke a numerical solver to obtain a solution.\n",
      "-------------------------------------------------------------------------------\n",
      "                                  Compilation                                  \n",
      "-------------------------------------------------------------------------------\n",
      "(CVXPY) Jul 23 11:14:31 AM: Compiling problem (target solver=GLPK_MI).\n",
      "(CVXPY) Jul 23 11:14:31 AM: Reduction chain: Dcp2Cone -> CvxAttr2Constr -> ConeMatrixStuffing -> GLPK_MI\n",
      "(CVXPY) Jul 23 11:14:31 AM: Applying reduction Dcp2Cone\n",
      "(CVXPY) Jul 23 11:14:31 AM: Applying reduction CvxAttr2Constr\n",
      "(CVXPY) Jul 23 11:14:31 AM: Applying reduction ConeMatrixStuffing\n",
      "(CVXPY) Jul 23 11:14:31 AM: Applying reduction GLPK_MI\n",
      "(CVXPY) Jul 23 11:14:31 AM: Finished problem compilation (took 2.000e-02 seconds).\n",
      "-------------------------------------------------------------------------------\n",
      "                                Numerical solver                               \n",
      "-------------------------------------------------------------------------------\n",
      "(CVXPY) Jul 23 11:14:31 AM: Invoking solver GLPK_MI  to obtain a solution.\n",
      "-------------------------------------------------------------------------------\n",
      "                                    Summary                                    \n",
      "-------------------------------------------------------------------------------\n",
      "(CVXPY) Jul 23 11:14:31 AM: Problem status: optimal\n",
      "(CVXPY) Jul 23 11:14:31 AM: Optimal value: 6.640e+02\n",
      "(CVXPY) Jul 23 11:14:31 AM: Compilation took 2.000e-02 seconds\n",
      "(CVXPY) Jul 23 11:14:31 AM: Solver (including time spent in interface) took 1.998e-03 seconds\n",
      "最优值为： 664.0\n",
      "最优解为：\n",
      " [[-0. 19. -0. -0. 41. -0. -0. -0.]\n",
      " [-0. -0. -0. 32. -0. -0. -0.  1.]\n",
      " [-0. 12. 22. -0. -0. -0. 17. -0.]\n",
      " [-0. -0. -0. -0. -0.  6. -0. 37.]\n",
      " [35.  6. -0. -0. -0. -0. -0. -0.]\n",
      " [-0. -0. -0. -0. -0. 26. 26. -0.]]\n"
     ]
    }
   ],
   "source": [
    "#程序文件Pex5_6.py\n",
    "import cvxpy as cp\n",
    "import numpy as np\n",
    "import pandas as pd\n",
    "d1=pd.read_excel(\"./Pdata5_6.xlsx\",header=None)\n",
    "d2=d1.values; c=d2[:-1,:-1]# .values转化为列表\n",
    "d=d2[-1,:-1].reshape(1,-1)#[-1,:-1]最后一行，从前往后读省略最后一个数,化为行向量\n",
    "e=d2[:-1,-1].reshape(-1,1)#\n",
    "x=cp.Variable((6,8))#定义变量\n",
    "obj=cp.Minimize(cp.sum(cp.multiply(c,x)))  #构造目标函数\n",
    "con=[cp.sum(x,axis=1,keepdims=True)<=e,\n",
    "cp.sum(x,axis=0,keepdims=True)==d,x>=0]  #构造约束条件\n",
    "prob=cp.Problem(obj,con)  #构造模型\n",
    "prob.solve(solver='GLPK_MI',verbose =True)    #求解模型q0\n",
    "print(\"最优值为：\",prob.value)\n",
    "print(\"最优解为：\\n\",x.value)\n"
   ]
  },
  {
   "cell_type": "markdown",
   "id": "b9389ff5",
   "metadata": {},
   "source": [
    "## 2.整数规划\n",
    "在线性规划模型中, 决策变量只需取连续型数值即可. 但还有大量的实际问题, 虽然形式上与线性规划类似, 却增加了某些约束条件, 要求部分甚至全部决策变量 必须取离散的非负整数值才有意义. 对于限制全部或部分决策变量取离散非负整数 值的线性规划, 称之为整数线性规划, 简称为整数规划. 在整数规划中, 如果所有决 策变量都限制为整数, 则称为纯整数规划; 如果仅一部分变量限制为整数, 则称为 混合整数规划. 整数规划的一种特殊情形是 0-1 整数规划, 它的决策变量仅限于 0 或 1, 也分为纯 0-1 整数规划和混合 0-1 整数规划两种形式。\n",
    "    \n",
    "这里我们借助cvxpy库来求解。"
   ]
  },
  {
   "cell_type": "markdown",
   "id": "9a6f2e74",
   "metadata": {},
   "source": [
    "例 $3$ 求解下列整数线性规划问题:\n",
    "$$\n",
    "\\begin{aligned}\n",
    "&\\min z=40 x_{1}+90 x_{2}, \\\\\n",
    "&\\text { s.t. }\\left\\{\\begin{array}{l}\n",
    "9 x_{1}+7 x_{2} \\leq 56, \\\\\n",
    "7 x_{1}+20 x_{2} \\geq 70, \\\\\n",
    "x_{1}, x_{2} \\geq 0 \\text { 为整数. }\n",
    "\\end{array}\\right.\n",
    "\\end{aligned}\n",
    "$$\n",
    "解 利用 cVxpy 库, 求得的最优解为 $x_{1}=2, x_{2}=3$; 目标函数的最优 值为 $z=350$ 。"
   ]
  },
  {
   "cell_type": "code",
   "execution_count": 4,
   "id": "23764035",
   "metadata": {},
   "outputs": [
    {
     "name": "stdout",
     "output_type": "stream",
     "text": [
      "===============================================================================\n",
      "                                     CVXPY                                     \n",
      "                                     v1.2.1                                    \n",
      "===============================================================================\n",
      "(CVXPY) Jul 22 09:37:58 PM: Your problem has 2 variables, 2 constraints, and 0 parameters.\n",
      "(CVXPY) Jul 22 09:37:58 PM: It is compliant with the following grammars: DCP, DQCP\n",
      "(CVXPY) Jul 22 09:37:58 PM: (If you need to solve this problem multiple times, but with different data, consider using parameters.)\n",
      "(CVXPY) Jul 22 09:37:58 PM: CVXPY will first compile your problem; then, it will invoke a numerical solver to obtain a solution.\n",
      "-------------------------------------------------------------------------------\n",
      "                                  Compilation                                  \n",
      "-------------------------------------------------------------------------------\n",
      "(CVXPY) Jul 22 09:37:58 PM: Compiling problem (target solver=GLPK_MI).\n",
      "(CVXPY) Jul 22 09:37:58 PM: Reduction chain: Dcp2Cone -> CvxAttr2Constr -> ConeMatrixStuffing -> GLPK_MI\n",
      "(CVXPY) Jul 22 09:37:58 PM: Applying reduction Dcp2Cone\n",
      "(CVXPY) Jul 22 09:37:58 PM: Applying reduction CvxAttr2Constr\n",
      "(CVXPY) Jul 22 09:37:58 PM: Applying reduction ConeMatrixStuffing\n",
      "(CVXPY) Jul 22 09:37:58 PM: Applying reduction GLPK_MI\n",
      "(CVXPY) Jul 22 09:37:58 PM: Finished problem compilation (took 7.003e-03 seconds).\n",
      "-------------------------------------------------------------------------------\n",
      "                                Numerical solver                               \n",
      "-------------------------------------------------------------------------------\n",
      "(CVXPY) Jul 22 09:37:58 PM: Invoking solver GLPK_MI  to obtain a solution.\n",
      "-------------------------------------------------------------------------------\n",
      "                                    Summary                                    \n",
      "-------------------------------------------------------------------------------\n",
      "(CVXPY) Jul 22 09:37:58 PM: Problem status: optimal\n",
      "(CVXPY) Jul 22 09:37:58 PM: Optimal value: 3.500e+02\n",
      "(CVXPY) Jul 22 09:37:58 PM: Compilation took 7.003e-03 seconds\n",
      "(CVXPY) Jul 22 09:37:58 PM: Solver (including time spent in interface) took 0.000e+00 seconds\n",
      "最优值为: 350.0\n",
      "最优解为：\n",
      " [2. 3.]\n"
     ]
    }
   ],
   "source": [
    "#程序文件Pex6_1.py\n",
    "import cvxpy as cp\n",
    "from numpy import array\n",
    "c=array([40,90])  #定义目标向量\n",
    "a=array([[9,7],[-7,-20]])  #定义约束矩阵\n",
    "b=array([56,-70])  #定义约束条件的右边向量\n",
    "x=cp.Variable(2,integer=True)  #定义两个整数决策变量\n",
    "obj=cp.Minimize(c@x)  #构造目标函数\n",
    "cons=[a@x<=b, x>=0]    #构造约束条件 `\n",
    "\n",
    "\"\"\"Using ``*`` for matrix multiplication has been deprecated since CVXPY 1.1.\n",
    "   Use ``*`` for matrix-scalar and vector-scalar multiplication.\n",
    "   Use ``@`` for matrix-matrix and matrix-vector multiplication.\n",
    "   Use ``multiply`` for elementwise multiplication.\"\"\"\n",
    "\n",
    "prob=cp.Problem(obj, cons)  #构建问题模型\n",
    "prob.solve(solver='GLPK_MI',verbose =True)  #求解问题 选择求解器GLPK_MI verbose=Ture:列出全部的求解信息 \n",
    "print(\"最优值为:\",prob.value)\n",
    "print(\"最优解为：\\n\",x.value)"
   ]
  },
  {
   "cell_type": "markdown",
   "id": "9ea91f5a",
   "metadata": {},
   "source": [
    "### 2.1指派问题\n",
    "标准指派问题的一般提法是: 拟分派 $n$ 个人 $A_{1}, A_{2}, \\cdots, A_{n}$ 去完成 $n$ 项工作 $B_{1}, B_{2}, \\cdots, B_{n}$, 要求每项工作需且仅需一个人去完成, 每个人需完成且仅需完成一 项工作. 已知 $A_{i}$ 完成工作 $B_{j}$ 的时间或费用等成本型指标值为 $c_{i j}$, 则应如何指派 才能使总的工作效率最高?\n",
    "  \n",
    "这里给出cvxpy库的求解方法。"
   ]
  },
  {
   "cell_type": "markdown",
   "id": "784a5363",
   "metadata": {},
   "source": [
    "例 $4$ 某商业公司计划开办5家新商店, 决定由5家建筑公司分别承建。已知建筑公司 $\\mathrm{A}_{i}(i=1,2, \\cdots, 5)$ 对新商店 $\\mathrm{B}_{j}(j=1,2, \\cdots, 5)$ 的建造费用 报价（万元）为 $c_{i j}(i, j=1,2, \\cdots, 5)$ ，见下表。为节省费用, 商业公司应当对5家建筑公司怎样分配建造任务, 才能使总的建造费用最少?\n",
    "\n",
    "\\begin{array}{c|ccccc}\n",
    "\\hline & \\mathbf{B}_{1} & \\mathbf{B}_{2} & \\mathbf{B}_{3} & \\mathbf{B}_{4} & \\mathbf{B}_{\\mathbf{5}} \\\\\n",
    "\\hline \\mathbf{A}_{1} & 4 & 8 & 7 & 15 & 12 \\\\\n",
    "\\mathbf{A}_{2} & 7 & 9 & 17 & 14 & 10 \\\\\n",
    "\\mathbf{A}_{3} & 6 & 9 & 12 & 8 & 7 \\\\\n",
    "\\mathbf{A}_{4} & 6 & 7 & 14 & 6 & 10 \\\\\n",
    "\\mathbf{A}_{5} & 6 & 9 & 12 & 10 & 6 \\\\\n",
    "\\hline\n",
    "\\end{array}"
   ]
  },
  {
   "cell_type": "markdown",
   "id": "455b3fb1",
   "metadata": {},
   "source": [
    "解：问题的数学模型为\n",
    "$$\n",
    "\\begin{aligned}\n",
    "&\\min z=\\sum_{i=1}^{5} \\sum_{j=1}^{5} c_{i j} x_{i j}, \\\\\n",
    "&\\text { s.t. }\\left\\{\\begin{array}{l}\n",
    "\\sum_{j=1}^{5} x_{i j}=1, \\quad i=1,2, \\cdots, 5, \\\\\n",
    "\\sum_{i=1}^{5} x_{i j}=1, \\quad j=1,2, \\cdots, 5, \\\\\n",
    "x_{i j}=0 \\text { 或 } 1, \\quad i, j=1,2, \\cdots, 5 .\n",
    "\\end{array}\\right.\n",
    "\\end{aligned}\n",
    "$$"
   ]
  },
  {
   "cell_type": "code",
   "execution_count": 8,
   "id": "29cd72d3",
   "metadata": {},
   "outputs": [
    {
     "name": "stdout",
     "output_type": "stream",
     "text": [
      "最优值为: 34.0\n",
      "最优解为：\n",
      " [[0. 0. 1. 0. 0.]\n",
      " [0. 1. 0. 0. 0.]\n",
      " [1. 0. 0. 0. 0.]\n",
      " [0. 0. 0. 1. 0.]\n",
      " [0. 0. 0. 0. 1.]]\n"
     ]
    }
   ],
   "source": [
    "#程序文件Pex6_2.py\n",
    "import cvxpy as cp\n",
    "import numpy as np\n",
    "c=np.array([[4, 8, 7, 15, 12],\n",
    "            [7, 9, 17, 14, 10],\n",
    "            [6, 9, 12, 8, 7],\n",
    "            [6, 7, 14, 6, 10],\n",
    "            [6, 9, 12, 10, 6]])\n",
    "x = cp.Variable((5,5),integer=True)#定义变量，数据类型为整数型\n",
    "obj = cp.Minimize(cp.sum(cp.multiply(c,x)))#multiply 逐个元素相乘\n",
    "con= [0 <= x,1 >= x,cp.sum(x, axis=0, keepdims=True)==1,\n",
    "               cp.sum(x, axis=1, keepdims=True)==1]#axis=0表示求列和，axis=1表示求行和,keepdims保持维度\n",
    "prob = cp.Problem(obj, con)\n",
    "prob.solve(solver='GLPK_MI')\n",
    "print(\"最优值为:\",prob.value)\n",
    "print(\"最优解为：\\n\",x.value)\n"
   ]
  },
  {
   "cell_type": "markdown",
   "id": "d462bd6b",
   "metadata": {},
   "source": [
    "#### 2.1.1广义指派模型\n",
    "在实际应用中, 常会遇到各种非标准形式的指派问题 —一 广指派问题. 通 常的处理方法是先将它们转化为标准形式, 然后用匈牙利算法或者其它方法求解.\n",
    "1) 最大化指派问题\n",
    "一些指派问题中, 每人完成各项工作的效率可能是诸如利润、业绩等效益型指 标, 此时则以总的工作效率最大为目标函数, 即\n",
    "$$\n",
    "\\max \\quad z=\\sum_{i=1}^{n} \\sum_{j=1}^{n} c_{i j} x_{i j} .\n",
    "$$\n",
    "对于最大化指派问题, 若令 $M=\\max _{1 \\leqslant i, j \\leqslant n}\\left\\{c_{i j}\\right\\}$, 再考虑到约束条件 $\\sum_{i=1}^{n} \\sum_{j=1}^{n} x_{i j}=$ , 则有\n",
    "$$\n",
    "\\begin{aligned}\n",
    "\\min \\sum_{i=1}^{n} \\sum_{j=1}^{n}\\left(M-c_{i j}\\right) x_{i j} &=\\min \\left(\\sum_{i=1}^{n} \\sum_{j=1}^{n} M x_{i j}-\\sum_{i=1}^{n} \\sum_{j=1}^{n} c_{i j} x_{i j}\\right) \\\\\n",
    "&=n M-\\max \\sum_{i=1}^{n} \\sum_{j=1}^{n} c_{i j} x_{i j}\n",
    "\\end{aligned}\n",
    "$$\n",
    "于是, 以 $\\boldsymbol{C}=\\left(c_{i j}\\right)_{n \\times n}$ 为效率矩阵的最大化指派问题, 就可转化为以 $\\left(M-c_{i j}\\right)_{n \\times n}$ 为效率矩阵的标准指派问题.  \n",
    "\n",
    "2) 人数和任务数不等的指派问题\n",
    "一些指派问题中, 可能出现人数和任务数不相等的情况. 对于这样的指派问题, 通常的处理方式为：若人数少于任务数, 则可添加一些虚拟的 “人”. 这些虚拟的 人完成各项任务的效率取为 0 , 理解为这些效率值实际上不会发生. 若人数多于任 务数, 则可添加一些虚拟的 “任务”. 这些虚拟的任务被每个人完成的效率同样也取 为 0 .\n",
    "3) 一个人可完成多项任务的指派问题\n",
    "一些指派问题中, 可能出现要求某人完成几项任务的情形. 对于这样的指派问 题, 可将该人看作相同的几个人来接受指派, 只需令其完成同一项任务的效率都一 样即可.\n",
    "4）某项任务一定不能由某人完成的指派问题\n",
    "一些指派问题中, 可能出现某人不能完成某项任务的情形. 对于这样的指派问 题, 只需将相应的效率值 (成本型) 取成足够大的数即可.  \n",
    "  \n",
    "*注 1.1* 如果用匈牙利算法手工求解指派问题, 需要把广义指派问题转化为标 准的指派问题. 如果使用软件求解各种广义指派问题, 只要直接建立 0-1 整数规划 模型, 不需要把广义指派问题化成标准的指派问题."
   ]
  },
  {
   "cell_type": "markdown",
   "id": "e8b5b44e",
   "metadata": {},
   "source": [
    "#### 2.1.1整数规划实例--装箱问题"
   ]
  },
  {
   "cell_type": "markdown",
   "id": "7a94d637",
   "metadata": {},
   "source": [
    "例 5（装箱问题）有 7 种规格的包装箱要装到两辆铁路平板车上去。包装箱的宽和高是一样的, 但厚度 $l(\\mathrm{~cm})$ 及重量 $w(\\mathrm{~kg})$ 是不同的, 表 $6.2$ 给出 了每种包装箱的厚度、重量以及数量, 每辆平板车有 $10.2 \\mathrm{~m}$ 长的地方来装 包装箱, 载重量为 $40 \\mathrm{t}$, 由于当地货运的限制, 对 $C_{5}, C_{6}, C_{7}$ 类的包装箱的总数有一个特别的限制：这类箱子所占的空间 (厚度) 不能超过 $302.7 \\mathrm{~cm}$ 。要求给出最好的装运方式。  \n",
    "\\begin{array}{l|ccccccc}\n",
    "\\hline & C_{1} & C_{2} & C_{3} & C_{4} & C_{5} & C_{6} & C_{7} \\\\\n",
    "\\hline l / \\mathrm{cm} & 48.7 & 52.0 & 61.3 & 72.0 & 48.7 & 52.0 & 64.0 \\\\\n",
    "w / \\mathrm{kg} & 2000 & 3000 & 1000 & 500 & 4000 & 2000 & 1000 \\\\\n",
    "\\text { 样数 } & 8 & 7 & 9 & 6 & 6 & 4 & 8 \\\\\n",
    "\\hline\n",
    "\\end{array}"
   ]
  },
  {
   "cell_type": "markdown",
   "id": "68808019",
   "metadata": {},
   "source": [
    "解：建立数学模型为：\n",
    "$$\n",
    "\\begin{aligned}\n",
    "&\\max z_{1}=\\sum_{j=1}^{7} l_{j}\\left(x_{1 j}+x_{2 j}\\right), \\\\\n",
    "&\\text { s.t. }\\left\\{\\begin{array}{l}\n",
    "\\sum_{i=1}^{2} x_{i j} \\leq a_{j}, \\quad j=1,2, \\cdots, 7, \\\\\n",
    "\\sum_{j=1}^{7} l_{j} x_{i j} \\leq 1020, \\quad i=1,2, \\\\\n",
    "w_{j} x_{i j} \\leq 40000, \\quad i=1,2, \\\\\n",
    "\\sum_{j=5}^{7} l_{j}\\left(x_{1 j}+x_{2 j}\\right) \\leq 302.7, \\\\\n",
    "x_{i j} \\geq 0 \\text { 且为整数, } \\quad i=1,2 ; j=1,2, \\cdots, 7 .\n",
    "\\end{array}\\right.\n",
    "\\end{aligned}\n",
    "$$"
   ]
  },
  {
   "cell_type": "code",
   "execution_count": 6,
   "id": "28a6ed81",
   "metadata": {},
   "outputs": [
    {
     "name": "stdout",
     "output_type": "stream",
     "text": [
      "===============================================================================\n",
      "                                     CVXPY                                     \n",
      "                                     v1.2.1                                    \n",
      "===============================================================================\n",
      "(CVXPY) Jul 22 09:38:04 PM: Your problem has 14 variables, 5 constraints, and 0 parameters.\n",
      "(CVXPY) Jul 22 09:38:04 PM: It is compliant with the following grammars: DCP, DQCP\n",
      "(CVXPY) Jul 22 09:38:04 PM: (If you need to solve this problem multiple times, but with different data, consider using parameters.)\n",
      "(CVXPY) Jul 22 09:38:04 PM: CVXPY will first compile your problem; then, it will invoke a numerical solver to obtain a solution.\n",
      "-------------------------------------------------------------------------------\n",
      "                                  Compilation                                  \n",
      "-------------------------------------------------------------------------------\n",
      "(CVXPY) Jul 22 09:38:04 PM: Compiling problem (target solver=GLPK_MI).\n",
      "(CVXPY) Jul 22 09:38:04 PM: Reduction chain: FlipObjective -> Dcp2Cone -> CvxAttr2Constr -> ConeMatrixStuffing -> GLPK_MI\n",
      "(CVXPY) Jul 22 09:38:04 PM: Applying reduction FlipObjective\n",
      "(CVXPY) Jul 22 09:38:04 PM: Applying reduction Dcp2Cone\n",
      "(CVXPY) Jul 22 09:38:04 PM: Applying reduction CvxAttr2Constr\n",
      "(CVXPY) Jul 22 09:38:04 PM: Applying reduction ConeMatrixStuffing\n",
      "(CVXPY) Jul 22 09:38:04 PM: Applying reduction GLPK_MI\n",
      "(CVXPY) Jul 22 09:38:04 PM: Finished problem compilation (took 1.000e-02 seconds).\n",
      "-------------------------------------------------------------------------------\n",
      "                                Numerical solver                               \n",
      "-------------------------------------------------------------------------------\n",
      "(CVXPY) Jul 22 09:38:04 PM: Invoking solver GLPK_MI  to obtain a solution.\n",
      "-------------------------------------------------------------------------------\n",
      "                                    Summary                                    \n",
      "-------------------------------------------------------------------------------\n",
      "(CVXPY) Jul 22 09:38:04 PM: Problem status: optimal\n",
      "(CVXPY) Jul 22 09:38:04 PM: Optimal value: 2.039e+03\n",
      "(CVXPY) Jul 22 09:38:04 PM: Compilation took 1.000e-02 seconds\n",
      "(CVXPY) Jul 22 09:38:04 PM: Solver (including time spent in interface) took 6.640e-01 seconds\n",
      "最优值为: 2039.4\n",
      "最优解为：\n",
      " [[4. 1. 5. 3. 3. 2. 0.]\n",
      " [4. 6. 4. 3. 0. 1. 0.]]\n"
     ]
    }
   ],
   "source": [
    "#程序文件Pex6_3_1.py\n",
    "import cvxpy as cp\n",
    "import numpy as np\n",
    "L=np.array([48.7,52.0,61.3,72.0,48.7,52.0,64.0])\n",
    "w=np.array([2000,3000,1000,500,4000,2000,1000])\n",
    "a=np.array([8,7,9,6,6,4,8])\n",
    "x=cp.Variable((2,7), integer=True)\n",
    "obj=cp.Maximize(cp.sum(x@L))\n",
    "con=[cp.sum(x,axis=0,keepdims=True)<=a.reshape(1,7),\n",
    "     x@L<=1020, x@w<=40000, cp.sum(x[:,4:]@L[4:])<=302.7, x>=0]#[:,4:]从第四列开始取所有行\n",
    "prob = cp.Problem(obj, con)\n",
    "prob.solve(solver='GLPK_MI',verbose =True)\n",
    "print(\"最优值为:\",prob.value)\n",
    "print(\"最优解为：\\n\",x.value)\n"
   ]
  },
  {
   "cell_type": "markdown",
   "id": "3a8230aa",
   "metadata": {},
   "source": [
    "# 二、图论及其相关模型\n"
   ]
  },
  {
   "cell_type": "markdown",
   "id": "f12929d8",
   "metadata": {},
   "source": [
    "# 1.图的基本概念\n",
    "$G=\\left( V,E \\right) $\n",
    "* V:顶点的*非空有限集合*，称为**顶点集**\n",
    "* E:边的集合，称为**边集**，边通常用$\\left( v_i,v_j \\right) $表示，其中$v_i,v_j \\in V$\n",
    "* $|V|$表示顶点个数，$|E|$表示边个数\n",
    "\n",
    "\n",
    "下图是三个图的示例, 其中(a)中的图有 3 个顶点、 2 条边, 将其表示为 $G=(V, E), V=\\left\\{v_{1}, v_{2}, v_{3}\\right\\} ， E=\\left\\{\\left(v_{1}, v_{2}\\right),\\left(v_{1}, v_{3}\\right)\\right\\}$.\n",
    "![2022-07-18-22-12-37](./2022-07-18-22-12-37.png)\n",
    "\n",
    "## 1.1无向图和有向图\n",
    "* 无向图：边没有方向，边称为**无向边**，（简称**边**）\n",
    "  连接$v_i,v_j$的边记为$(v_i,v_j)$或$(v_j,v_i)$\n",
    "* 有向图：边有方向，边称为**弧**\n",
    "  连接$v_i,v_j$的边记为$<v_i,v_j>$\n",
    "  其中$v_i$称为**起点**，又叫**弧头**，$v_j$称为**终点**，又叫**弧尾**\n",
    "  有向图一般记为$D=(V,A)$，V为顶点集，A为弧集\n",
    "\n",
    "一般的图指的是无向图。有向图也可以用G表示。  \n",
    "例 $10.1$ 设 $V=\\left\\{v_{1}, v_{2}, v_{3}, v_{4}, v_{5}\\right\\}, E=\\left\\{e_{1}, e_{2}, e_{3}, e_{4}, e_{5}\\right\\}$, 其中 $e_{1}=\\left(v_{1}, v_{2}\\right), e_{2}=\\left(v_{2}, v_{3}\\right), e_{3}=\\left(v_{2}, v_{3}\\right), e_{4}=\\left(v_{3}, v_{4}\\right), e_{5}=\\left(v_{4}, v_{4}\\right)$. 则 $G=(V, E)$ 是一个非简单图，其图形如下图所示。\n",
    "![2022-07-18-22-21-26](./2022-07-18-22-21-26.png)\n",
    "\n",
    "## 1.2简单图和完全图\n",
    "设$e=(u,v)$是图G的一条边，称$u,v$是e的**端点**,且u与v**相邻**,e与u(或v)**相关联**.\n",
    "若两条边$e_i$和$e_j$有相同的端点,则称两边**相邻**,\n",
    "称有相同端点的两边为**重边**,两端点相同的边为**环**,与任何边不相关联的点为**孤立点**\n",
    "\n",
    "* **简单图**:无环且无重边\n",
    "* **完全图**:任意两点均相邻的简单图.含n个顶点的完全图记为$K_n$\n",
    "\n",
    "## 1.3赋权图\n",
    "若图G的每条边e都附有一个实数$w(e)$,称G为**赋权图**,$w(e)$为**权** \n",
    "赋权图也称**网络**\n",
    "**有向赋权图**\n",
    "\n",
    "## 1.4顶点的度\n",
    "* 无向图:与顶点v关联的边的数目(环算两次)称为顶点的**度**,记为$d(v)$\n",
    "* 有向图:\n",
    "  * **出度**:从顶点v引出的弧的数目,记为$d^{+}(v)$\n",
    "  * **入度**:从顶点v引入的弧的数目,记为$d^{-}(v)$\n",
    "  * $d(v)=d^{+}(v)+d^{-}(v)$称为v的\n",
    "\n",
    "度为奇数的顶点为**奇顶点**,为偶数称为**偶顶点**\n",
    ">定理：给定图$G=(V,E)$，有$\\displaystyle \\sum_{v \\in V}d(v)=2|E|$\n",
    ">推论：任何图中奇顶点的总数必为偶数\n",
    "\n",
    "## 1.5子图\n",
    "设$G_1=(V_1,E_1)$与$G_2=(V_2,E_2)$是两个图，且满足$V_1\\subseteq V_2,E_1 \\subseteq E_2$，则称$G_1$是$G_2$的**子图**。\n",
    "\n",
    "如果$G_1$是$G_2$的子图，且$V_1=V_2$，则称$G_1$是$G_2$的**生成子图**\n",
    "\n",
    "## 1.6道路与回路\n",
    "设$W=v_0e_1v_1e_2\\cdots e_k v_k$，$e_i$与$v_{i-1}$和$v_i$相关联，称W是G的一条**道路**，简称**路**，k为**路长**，$v_0$为**起点**，$v_k$为**终点**。\n",
    "* 各边相异（不能经过相同的边）的道路称为**迹(trail)**\n",
    "* 各顶点相异（不能经过相同的顶点）的道路称为**轨道(path)**,记为$P(v_0,v_k)$\n",
    "* 起点与终点重合的道路称为**回路**\n",
    "* 起点与终点重合的轨道称为**圈**\n",
    "* 两顶点u，v为起点和终点的*最短轨道长*为u，v之间的**距离**\n",
    "\n",
    "## 1.7连通图与非连通图\n",
    "* 在*无向图*G中，如果顶点u到顶点v存在道路，则称u和v是**连通**的。\n",
    "如果G中任意两点连通，称G为**连通图**，否则为**非连通图**。\n",
    "非连通图中的连通子图，称为**连通分支**\n",
    "* 在*有向图*G中，如果对任意两个顶点u，v，从u到v和从v到u都存在道路，则称G为**强连通图**"
   ]
  },
  {
   "cell_type": "markdown",
   "id": "8e154f05",
   "metadata": {},
   "source": [
    "# 2.图在代码中的表示\n",
    "## 2.1关联矩阵(不常用)\n",
    "* 无向图，关联矩阵$M=(m_{ij})_{n\\times m}$\n",
    "$$\n",
    "m_{ij}=\\begin{cases}\n",
    "    1,若v_i与e_j相关联 \\\\0,若v_i与e_j不相关联\n",
    "\\end{cases}\n",
    "$$\n",
    "* 有向图，关联矩阵$M=(m_{ij})_{n\\times m}$\n",
    "$$\n",
    "m_{ij}=\\begin{cases}\n",
    "    1,若v_i是e_j的起点 \\\\-1,若v_i是e_j的终点\\\\0,若v_i是e_j不关联\n",
    "\\end{cases}\n",
    "$$"
   ]
  },
  {
   "cell_type": "markdown",
   "id": "e879ab80",
   "metadata": {},
   "source": [
    "## 2.2邻接矩阵\n",
    "* 非赋权图\n",
    "  * 无向图,邻接矩阵$W=(w_{ij})_{n\\times n}$\n",
    "  $$\n",
    "  w_{ij}=\\begin{cases}\n",
    "      1,(v_i,v_j)\\in E \\\\0,(v_i,v_j)\\notin E\n",
    "  \\end{cases}\n",
    "  $$\n",
    "  * 有向图，邻接矩阵$W=(w_{ij})_{n\\times n}$\n",
    "  $$\n",
    "  w_{ij}=\\begin{cases}\n",
    "      1,<v_i,v_j>\\in A \\\\0,<v_i,v_j>\\notin A\n",
    "  \\end{cases}\n",
    "  $$\n",
    "* 赋权图\n",
    "  * 无向图，邻接矩阵$W=(w_{ij})_{n\\times n}$\n",
    "  $$\n",
    "  w_{ij}=\\begin{cases}\n",
    "    w((v_i,v_j)),(v_i,v_j)\\in E \\\\0(\\mathrm{or}\\  \\infty),(v_i,v_j)\\notin E\n",
    "  \\end{cases}\n",
    "  $$\n",
    "  * 有向图定义类似"
   ]
  },
  {
   "cell_type": "markdown",
   "id": "03cd1274",
   "metadata": {},
   "source": [
    "### 邻接矩阵的例子\n",
    "非赋权有向图：\n",
    "![2022-07-21-21-58-06](./2022-07-21-21-58-06.png)\n",
    "其邻接矩阵为：$\\boldsymbol{A}=\\left[\\begin{array}{llllll}\\mathbf{0} & \\mathbf{1} & \\mathbf{1} & \\mathbf{0} & \\mathbf{0} & \\mathbf{0} \\\\ \\mathbf{0} & \\mathbf{0} & \\mathbf{1} & \\mathbf{0} & \\mathbf{0} & \\mathbf{0} \\\\ \\mathbf{0} & \\mathbf{1} & \\mathbf{0} & \\mathbf{0} & \\mathbf{1} & \\mathbf{0} \\\\ \\mathbf{0} & \\mathbf{1} & \\mathbf{0} & \\mathbf{0} & \\mathbf{0} & \\mathbf{1} \\\\ \\mathbf{0} & \\mathbf{1} & \\mathbf{0} & \\mathbf{1} & \\mathbf{0} & \\mathbf{1} \\\\ \\mathbf{0} & \\mathbf{0} & \\mathbf{0} & \\mathbf{0} & \\mathbf{1} & \\mathbf{0}\\end{array}\\right]$\n"
   ]
  },
  {
   "cell_type": "markdown",
   "id": "2b204db2",
   "metadata": {},
   "source": [
    "## 2.3用邻接表来生成图\n",
    "邻接表通过存储每一个顶点与其它各顶点的边（弧）及其权重的信息来存储图的信息。"
   ]
  },
  {
   "cell_type": "code",
   "execution_count": 1,
   "id": "e794194b",
   "metadata": {},
   "outputs": [
    {
     "name": "stdout",
     "output_type": "stream",
     "text": [
      "1:->2\n",
      "\n",
      "->3\n",
      "\n",
      "2:->3\n",
      "\n",
      "3:->2\n",
      "\n",
      "->5\n",
      "\n",
      "4:->2\n",
      "\n",
      "->6\n",
      "\n",
      "5:->2\n",
      "\n",
      "->4\n",
      "\n",
      "->6\n",
      "\n",
      "6:->5\n",
      "\n"
     ]
    }
   ],
   "source": [
    "#例1\n",
    "import numpy as np\n",
    "import networkx as nx\n",
    "import pylab as plt\n",
    "G=nx.DiGraph()                         #生成一个有向图，目前是空的，需要用之后的命令添加点和弧\n",
    "List=[(1,2),(1,3),(2,3),(3,2),(3,5),(4,2),(4,6),\n",
    "      (5,2),(5,4),(5,6),(6,5)]\n",
    "G.add_nodes_from(range(1,7))           #添加点v1到v6，range(1,7)中7取不到。\n",
    "G.add_edges_from(List)                 #从列表中的元组来添加弧\n",
    "for source,dest in G.adjacency():      #用来输出邻接表，G.adjacency并不能直接输出\n",
    "    print('{}:'.format(source),end=\"\")\n",
    "    for i in dest:\n",
    "        print('->{}'.format(i),end='')\n",
    "        print('\\n')"
   ]
  },
  {
   "cell_type": "markdown",
   "id": "c3ea28e0",
   "metadata": {},
   "source": [
    "```\n",
    "1:->2->3\n",
    "2:->3\n",
    "3:->2->5\n",
    "4:->2->6\n",
    "5:->2->4->6\n",
    "6:->5\n",
    "```"
   ]
  },
  {
   "cell_type": "markdown",
   "id": "1476f887",
   "metadata": {},
   "source": [
    "## 2.4求取最短路的Dijkstra算法\n",
    "求取一个固定起点$u_0$到其余各点的最短路(应用于权值非负的情形)  \n",
    "  \n",
    "  \n",
    "例 $2$ 求下图所示的图 $G$ 中从 从 $v_{3}$ 到所有其余顶点的最短路及最短 距离。"
   ]
  },
  {
   "cell_type": "markdown",
   "id": "fd4cc341",
   "metadata": {},
   "source": [
    "![2022-07-21-22-26-59](./2022-07-21-22-26-59.png)"
   ]
  },
  {
   "cell_type": "code",
   "execution_count": null,
   "id": "d9d9199f",
   "metadata": {},
   "outputs": [],
   "source": [
    "import numpy as np\n",
    "import networkx as nx\n",
    "List=[(0,1,1),(0,2,2),(0,4,7),(0,6,4),(0,7,8),(1,2,2),(1,3,3),\n",
    "      (1,7,7),(2,3,1),(2,4,5),(3,4,3),(3,5,6),(4,5,4),(4,6,3),\n",
    "      (5,6,6),(5,7,4),(6,7,2)]#list 在这里用来表示图的关系"
   ]
  },
  {
   "cell_type": "markdown",
   "id": "b3733d1e",
   "metadata": {},
   "source": [
    "### 开始作图"
   ]
  },
  {
   "cell_type": "code",
   "execution_count": null,
   "id": "106dc5e0",
   "metadata": {},
   "outputs": [],
   "source": [
    "#创建一个基本的图，nx.Graph()表示创建的是一个无向图\n",
    "G=nx.Graph()\n",
    "#把数据传入G中，用于生成想要的图\n",
    "G.add_weighted_edges_from(List)"
   ]
  },
  {
   "cell_type": "markdown",
   "id": "c081edec",
   "metadata": {},
   "source": [
    "### 获得数据"
   ]
  },
  {
   "cell_type": "code",
   "execution_count": null,
   "id": "d667a306",
   "metadata": {},
   "outputs": [
    {
     "name": "stdout",
     "output_type": "stream",
     "text": [
      "最短路径为： [3, 4, 6, 7] ；最短距离为： 8\n"
     ]
    }
   ],
   "source": [
    "p=nx.dijkstra_path(G, source=3, target=7,weight='weight')  #求最短路径；\n",
    "d=nx.dijkstra_path_length(G, 3, 7,weight='weight') #求最短距离\n",
    "print(\"最短路径为：\",p,\"；最短距离为：\",d)"
   ]
  },
  {
   "cell_type": "markdown",
   "id": "b3337f58",
   "metadata": {},
   "source": [
    "## 2.5求取最短路的Floyd算法\n",
    "计算任意两点间的最短距离"
   ]
  },
  {
   "cell_type": "markdown",
   "id": "d018c9ac",
   "metadata": {},
   "source": [
    "### 构造图"
   ]
  },
  {
   "cell_type": "code",
   "execution_count": 2,
   "id": "11d7b49c",
   "metadata": {},
   "outputs": [],
   "source": [
    "import numpy as np\n",
    "import networkx as nx\n",
    "a=np.loadtxt(\"Pdata10_6.txt\")\n",
    "G=nx.Graph(a)     #利用邻接矩阵构造赋权无向图"
   ]
  },
  {
   "cell_type": "markdown",
   "id": "79059a91",
   "metadata": {},
   "source": [
    "### 获得最短距离"
   ]
  },
  {
   "cell_type": "code",
   "execution_count": 3,
   "id": "3dcbb074",
   "metadata": {},
   "outputs": [
    {
     "name": "stdout",
     "output_type": "stream",
     "text": [
      "顶点对之间的距离为： {0: {0: 0, 1: 1.0, 2: 2.0, 3: 3.0, 6: 4.0, 4: 6.0, 7: 6.0, 5: 9.0}, 1: {1: 0, 0: 1.0, 2: 2.0, 3: 3.0, 6: 5.0, 4: 6.0, 7: 7.0, 5: 9.0}, 2: {2: 0, 3: 1.0, 0: 2.0, 1: 2.0, 4: 4.0, 6: 6.0, 5: 7.0, 7: 8.0}, 3: {3: 0, 2: 1.0, 1: 3.0, 4: 3.0, 0: 3.0, 5: 6.0, 6: 6.0, 7: 8.0}, 4: {4: 0, 3: 3.0, 6: 3.0, 5: 4.0, 2: 4.0, 7: 5.0, 1: 6.0, 0: 6.0}, 5: {5: 0, 4: 4.0, 7: 4.0, 3: 6.0, 6: 6.0, 2: 7.0, 1: 9.0, 0: 9.0}, 6: {6: 0, 7: 2.0, 4: 3.0, 0: 4.0, 1: 5.0, 5: 6.0, 3: 6.0, 2: 6.0}, 7: {7: 0, 6: 2.0, 5: 4.0, 4: 5.0, 0: 6.0, 1: 7.0, 3: 8.0, 2: 8.0}}\n",
      "顶点0到顶点4的最短距离为: 6.0\n",
      "顶点对之间最短距离的数组表示为：\n",
      " [[0. 1. 2. 3. 6. 9. 4. 6.]\n",
      " [1. 0. 2. 3. 6. 9. 5. 7.]\n",
      " [2. 2. 0. 1. 4. 7. 6. 8.]\n",
      " [3. 3. 1. 0. 3. 6. 6. 8.]\n",
      " [6. 6. 4. 3. 0. 4. 3. 5.]\n",
      " [9. 9. 7. 6. 4. 0. 6. 4.]\n",
      " [4. 5. 6. 6. 3. 6. 0. 2.]\n",
      " [6. 7. 8. 8. 5. 4. 2. 0.]]\n"
     ]
    }
   ],
   "source": [
    "d=nx.shortest_path_length(G,weight='weight')  #返回值是可迭代类型\n",
    "Ld=dict(d)  #转换为字典类型\n",
    "print(\"顶点对之间的距离为：\",Ld)  #显示所有顶点对之间的最短距离\n",
    "print(\"顶点0到顶点4的最短距离为:\",Ld[0][4])  #显示一对顶点之间的最短距离\n",
    "m,n=a.shape; \n",
    "dd=np.zeros((m,n)) #创建形状与a相同的，各个元素都为0的二位数组（矩阵）\n",
    "for i in range(m):\n",
    "    for j in range(n): dd[i,j]=Ld[i][j]  #从字典化为一个二维数组\n",
    "print(\"顶点对之间最短距离的数组表示为：\\n\",dd)  #显示所有顶点对之间最短距离"
   ]
  },
  {
   "cell_type": "markdown",
   "id": "c89e7206",
   "metadata": {},
   "source": [
    "### 获得最短路径"
   ]
  },
  {
   "cell_type": "code",
   "execution_count": 4,
   "id": "95964067",
   "metadata": {},
   "outputs": [
    {
     "name": "stdout",
     "output_type": "stream",
     "text": [
      "\n",
      "顶点对之间的最短路径为： {0: {0: [0], 1: [0, 1], 2: [0, 2], 4: [0, 2, 3, 4], 6: [0, 6], 7: [0, 6, 7], 3: [0, 2, 3], 5: [0, 2, 3, 5]}, 1: {1: [1], 0: [1, 0], 2: [1, 2], 3: [1, 3], 7: [1, 7], 4: [1, 3, 4], 6: [1, 0, 6], 5: [1, 3, 5]}, 2: {2: [2], 0: [2, 0], 1: [2, 1], 3: [2, 3], 4: [2, 3, 4], 5: [2, 3, 5], 6: [2, 0, 6], 7: [2, 0, 6, 7]}, 3: {3: [3], 1: [3, 1], 2: [3, 2], 4: [3, 4], 5: [3, 5], 0: [3, 2, 0], 7: [3, 4, 6, 7], 6: [3, 4, 6]}, 4: {4: [4], 0: [4, 3, 2, 0], 2: [4, 3, 2], 3: [4, 3], 5: [4, 5], 6: [4, 6], 1: [4, 3, 1], 7: [4, 6, 7]}, 5: {5: [5], 3: [5, 3], 4: [5, 4], 6: [5, 6], 7: [5, 7], 0: [5, 3, 2, 0], 2: [5, 3, 2], 1: [5, 3, 1]}, 6: {6: [6], 0: [6, 0], 4: [6, 4], 5: [6, 5], 7: [6, 7], 1: [6, 0, 1], 2: [6, 0, 2], 3: [6, 4, 3]}, 7: {7: [7], 0: [7, 6, 0], 1: [7, 1], 5: [7, 5], 6: [7, 6], 4: [7, 6, 4], 3: [7, 6, 4, 3], 2: [7, 6, 0, 2]}}\n",
      "顶点0到顶点4的最短路径为： [0, 2, 3, 4]\n",
      "from 0to 0: 0\n",
      "from 0to 1: 0->1\n",
      "from 0to 2: 0->2\n",
      "from 0to 3: 0->2->3\n",
      "from 0to 4: 0->2->3->4\n",
      "from 0to 5: 0->2->3->5\n",
      "from 0to 6: 0->6\n",
      "from 0to 7: 0->6->7\n",
      "from 1to 0: 1->0\n",
      "from 1to 1: 1\n",
      "from 1to 2: 1->2\n",
      "from 1to 3: 1->3\n",
      "from 1to 4: 1->3->4\n",
      "from 1to 5: 1->3->5\n",
      "from 1to 6: 1->0->6\n",
      "from 1to 7: 1->7\n",
      "from 2to 0: 2->0\n",
      "from 2to 1: 2->1\n",
      "from 2to 2: 2\n",
      "from 2to 3: 2->3\n",
      "from 2to 4: 2->3->4\n",
      "from 2to 5: 2->3->5\n",
      "from 2to 6: 2->0->6\n",
      "from 2to 7: 2->0->6->7\n",
      "from 3to 0: 3->2->0\n",
      "from 3to 1: 3->1\n",
      "from 3to 2: 3->2\n",
      "from 3to 3: 3\n",
      "from 3to 4: 3->4\n",
      "from 3to 5: 3->5\n",
      "from 3to 6: 3->4->6\n",
      "from 3to 7: 3->4->6->7\n",
      "from 4to 0: 4->3->2->0\n",
      "from 4to 1: 4->3->1\n",
      "from 4to 2: 4->3->2\n",
      "from 4to 3: 4->3\n",
      "from 4to 4: 4\n",
      "from 4to 5: 4->5\n",
      "from 4to 6: 4->6\n",
      "from 4to 7: 4->6->7\n",
      "from 5to 0: 5->3->2->0\n",
      "from 5to 1: 5->3->1\n",
      "from 5to 2: 5->3->2\n",
      "from 5to 3: 5->3\n",
      "from 5to 4: 5->4\n",
      "from 5to 5: 5\n",
      "from 5to 6: 5->6\n",
      "from 5to 7: 5->7\n",
      "from 6to 0: 6->0\n",
      "from 6to 1: 6->0->1\n",
      "from 6to 2: 6->0->2\n",
      "from 6to 3: 6->4->3\n",
      "from 6to 4: 6->4\n",
      "from 6to 5: 6->5\n",
      "from 6to 6: 6\n",
      "from 6to 7: 6->7\n",
      "from 7to 0: 7->6->0\n",
      "from 7to 1: 7->1\n",
      "from 7to 2: 7->6->0->2\n",
      "from 7to 3: 7->6->4->3\n",
      "from 7to 4: 7->6->4\n",
      "from 7to 5: 7->5\n",
      "from 7to 6: 7->6\n",
      "from 7to 7: 7\n"
     ]
    }
   ],
   "source": [
    "p=nx.shortest_path(G, weight='weight')  #返回值是可迭代类型\n",
    "dp=dict(p)  #转换为字典类型\n",
    "print(\"\\n顶点对之间的最短路径为：\", dp)\n",
    "print(\"顶点0到顶点4的最短路径为：\",dp[0][4])\n",
    "#以下代码用于更好的展示数据\n",
    "for i in range(m):\n",
    "    for j in range(n):\n",
    "        s=[str(data) for data in dp[i][j]]  #此处将dp换成p效果相同\n",
    "        print('from {}to {}:'.format(str(i),str(j)),'->'.join(s))"
   ]
  },
  {
   "cell_type": "markdown",
   "id": "e28c6227",
   "metadata": {},
   "source": [
    "## 2.6一道例题"
   ]
  },
  {
   "cell_type": "markdown",
   "id": "80a79f17",
   "metadata": {},
   "source": [
    "例 $3$ 某矿区有六个产矿点, 如图 $10.9$ 所示。已知各产矿点每天 的产矿量 (标在图 $10.9$ 的各顶点旁) 为 $q_{i}(i=1,2, \\cdots, 6)$ 吨, 现要从这六个产 矿点选一个来建造选矿厂, 问应选在哪个产矿点, 才能使各产矿点所产的矿 石运到选矿厂所在地的总运力（吨公里）最小。  \n",
    "  \n",
    "各矿场产量分布如下图：\n",
    "\n",
    "![2022-07-22-19-24-00](https://cdn.jsdelivr.net/gh/kckcwly/figures@main/2022-07-22-19-24-00.png)"
   ]
  },
  {
   "cell_type": "markdown",
   "id": "0990412b",
   "metadata": {},
   "source": [
    "### 2.6.1分析并构造图论模型\n",
    "首先假定建设在某一个产矿点，其余产矿点求加权最短路径及距离，加和后得到总运力。遍历所有点后求最小即为问题答案。"
   ]
  },
  {
   "cell_type": "code",
   "execution_count": 5,
   "id": "d8bfafbb",
   "metadata": {},
   "outputs": [],
   "source": [
    "import numpy as np\n",
    "import pandas as pd\n",
    "import networkx as nx\n",
    "List=[(1,2,20),(1,5,15),(2,3,20),(2,4,40),\n",
    "      (2,5,25),(3,4,30),(3,5,10),(5,6,15)]\n",
    "G=nx.Graph()\n",
    "G.add_nodes_from(range(1,7))\n",
    "G.add_weighted_edges_from(List)"
   ]
  },
  {
   "cell_type": "markdown",
   "id": "6a73274f",
   "metadata": {},
   "source": [
    "获得任意两点间最短路径"
   ]
  },
  {
   "cell_type": "code",
   "execution_count": 6,
   "id": "ad1f398f",
   "metadata": {},
   "outputs": [
    {
     "data": {
      "text/html": [
       "<div>\n",
       "<style scoped>\n",
       "    .dataframe tbody tr th:only-of-type {\n",
       "        vertical-align: middle;\n",
       "    }\n",
       "\n",
       "    .dataframe tbody tr th {\n",
       "        vertical-align: top;\n",
       "    }\n",
       "\n",
       "    .dataframe thead th {\n",
       "        text-align: right;\n",
       "    }\n",
       "</style>\n",
       "<table border=\"1\" class=\"dataframe\">\n",
       "  <thead>\n",
       "    <tr style=\"text-align: right;\">\n",
       "      <th></th>\n",
       "      <th>v1</th>\n",
       "      <th>v2</th>\n",
       "      <th>v3</th>\n",
       "      <th>v4</th>\n",
       "      <th>v5</th>\n",
       "      <th>v6</th>\n",
       "    </tr>\n",
       "  </thead>\n",
       "  <tbody>\n",
       "    <tr>\n",
       "      <th>v1</th>\n",
       "      <td>0.0</td>\n",
       "      <td>20.0</td>\n",
       "      <td>25.0</td>\n",
       "      <td>55.0</td>\n",
       "      <td>15.0</td>\n",
       "      <td>30.0</td>\n",
       "    </tr>\n",
       "    <tr>\n",
       "      <th>v2</th>\n",
       "      <td>20.0</td>\n",
       "      <td>0.0</td>\n",
       "      <td>20.0</td>\n",
       "      <td>40.0</td>\n",
       "      <td>25.0</td>\n",
       "      <td>40.0</td>\n",
       "    </tr>\n",
       "    <tr>\n",
       "      <th>v3</th>\n",
       "      <td>25.0</td>\n",
       "      <td>20.0</td>\n",
       "      <td>0.0</td>\n",
       "      <td>30.0</td>\n",
       "      <td>10.0</td>\n",
       "      <td>25.0</td>\n",
       "    </tr>\n",
       "    <tr>\n",
       "      <th>v4</th>\n",
       "      <td>55.0</td>\n",
       "      <td>40.0</td>\n",
       "      <td>30.0</td>\n",
       "      <td>0.0</td>\n",
       "      <td>40.0</td>\n",
       "      <td>55.0</td>\n",
       "    </tr>\n",
       "    <tr>\n",
       "      <th>v5</th>\n",
       "      <td>15.0</td>\n",
       "      <td>25.0</td>\n",
       "      <td>10.0</td>\n",
       "      <td>40.0</td>\n",
       "      <td>0.0</td>\n",
       "      <td>15.0</td>\n",
       "    </tr>\n",
       "    <tr>\n",
       "      <th>v6</th>\n",
       "      <td>30.0</td>\n",
       "      <td>40.0</td>\n",
       "      <td>25.0</td>\n",
       "      <td>55.0</td>\n",
       "      <td>15.0</td>\n",
       "      <td>0.0</td>\n",
       "    </tr>\n",
       "  </tbody>\n",
       "</table>\n",
       "</div>"
      ],
      "text/plain": [
       "      v1    v2    v3    v4    v5    v6\n",
       "v1   0.0  20.0  25.0  55.0  15.0  30.0\n",
       "v2  20.0   0.0  20.0  40.0  25.0  40.0\n",
       "v3  25.0  20.0   0.0  30.0  10.0  25.0\n",
       "v4  55.0  40.0  30.0   0.0  40.0  55.0\n",
       "v5  15.0  25.0  10.0  40.0   0.0  15.0\n",
       "v6  30.0  40.0  25.0  55.0  15.0   0.0"
      ]
     },
     "execution_count": 6,
     "metadata": {},
     "output_type": "execute_result"
    }
   ],
   "source": [
    "c=dict(nx.shortest_path_length(G,weight='weight'))\n",
    "d=np.zeros((6,6))\n",
    "for i in range(1,7):\n",
    "    for j in range(1,7): d[i-1,j-1]=c[i][j]\n",
    "#将d转化为dataframe类型便于显示\n",
    "fr=pd.DataFrame(d)\n",
    "fr.index=fr.columns=['v1','v2','v3','v4','v5','v6']#给fr加行名和列名\n",
    "fr"
   ]
  },
  {
   "cell_type": "markdown",
   "id": "71f14311",
   "metadata": {},
   "source": [
    "求最小运力"
   ]
  },
  {
   "cell_type": "code",
   "execution_count": 7,
   "id": "4b2d6d1a",
   "metadata": {},
   "outputs": [
    {
     "data": {
      "text/plain": [
       "v1     4850.0\n",
       "v2     4900.0\n",
       "v3     5250.0\n",
       "v4    11850.0\n",
       "v5     4700.0\n",
       "v6     8750.0\n",
       "dtype: float64"
      ]
     },
     "execution_count": 7,
     "metadata": {},
     "output_type": "execute_result"
    }
   ],
   "source": [
    "q=np.array([80,90,30,20,60,10])\n",
    "m=d@q  #计算运力，这里使用矩阵乘法\n",
    "#将m化为series类型便于展示\n",
    "ser=pd.Series(m)\n",
    "ser.index=['v1','v2','v3','v4','v5','v6']\n",
    "ser"
   ]
  },
  {
   "cell_type": "code",
   "execution_count": 8,
   "id": "76764947",
   "metadata": {},
   "outputs": [
    {
     "name": "stdout",
     "output_type": "stream",
     "text": [
      "最小运力mm= 4700.0 \n",
      "选矿厂的设置位置为： [5]\n"
     ]
    }
   ],
   "source": [
    "mm=m.min()  #求运力的最小值\n",
    "ind=np.where(m==mm)[0]+1  #python下标从0开始，np.where返回值为元组\n",
    "print('最小运力mm=',mm,\"\\n选矿厂的设置位置为：\",ind)"
   ]
  },
  {
   "cell_type": "markdown",
   "id": "da5efebd",
   "metadata": {},
   "source": [
    "# 使用networks作图（选讲）"
   ]
  },
  {
   "cell_type": "code",
   "execution_count": 9,
   "id": "7957c763",
   "metadata": {},
   "outputs": [
    {
     "data": {
      "image/png": "[encoded data removed]",
      "text/plain": [
       "<Figure size 432x288 with 1 Axes>"
      ]
     },
     "metadata": {},
     "output_type": "display_data"
    }
   ],
   "source": [
    "#from Pex10_2_2.py\n",
    "import networkx as nx\n",
    "import pylab as plt\n",
    "import numpy as np\n",
    "List=[(1,2,9),(1,3,2),(1,4,4),(1,5,7),\n",
    "  (2,3,3),(2,4,4),(3,4,8),(3,5,4),(4,5,6)]\n",
    "G=nx.Graph()\n",
    "G.add_nodes_from(range(1,6))\n",
    "G.add_weighted_edges_from(List)\n",
    "pos=nx.shell_layout(G)#设置标记输出位置的\n",
    "w = nx.get_edge_attributes(G,'weight')\n",
    "nx.draw(G, pos,with_labels=True,font_weight='bold',font_size=12)\n",
    "nx.draw_networkx_edge_labels(G,pos,edge_labels=w)\n",
    "plt.show()\n"
   ]
  },
  {
   "cell_type": "markdown",
   "id": "e7c163eb",
   "metadata": {},
   "source": [
    "# 时间复杂度分析(选讲)"
   ]
  },
  {
   "cell_type": "code",
   "execution_count": 3,
   "id": "c36172b7",
   "metadata": {},
   "outputs": [],
   "source": [
    "import time\n",
    "import numpy as np"
   ]
  },
  {
   "cell_type": "code",
   "execution_count": 4,
   "id": "72b90ca3",
   "metadata": {},
   "outputs": [],
   "source": [
    "inf=np.inf\n",
    "def Dijkstra_all_minpath( matr,start): #matr为邻接矩阵的数组，start表示起点\n",
    "    n=len( matr) #该图的节点数\n",
    "    dis=[]; temp=[] #dis和temp的区别是dis会记录已经处理过的点的最短路径长度，而temp则会将这些点的路径长度记为inf\n",
    "    dis.extend(matr[start])  #添加数组matr的start行元素\n",
    "    temp.extend(matr[start]) #添加矩阵matr的start行元素\n",
    "    temp[start] = inf  #临时数组会把处理过的节点的值变成inf\n",
    "    visited=[start]  #start已处理，visited用于存储已经处理过的点\n",
    "    parent=[start]*n   #用于画路径，记录此路径中该节点的父节点\n",
    "    while len(visited)<n:\n",
    "        i= temp.index(min(temp)) #找最小权值的节点的坐标\n",
    "        temp[i]=inf\n",
    "        for j in range(n):\n",
    "            if j not in visited:\n",
    "                if (dis[i]+ matr[i][j])<dis[j]:\n",
    "                    dis[j] = temp[j] =dis[i]+ matr[i][j]\n",
    "                    parent[j]=i  #说明父节点是i\n",
    "        visited.append(i)  #该索引已经处理了\n",
    "    return dis\n",
    "a=[[0,1,2,inf,7,inf,4,8],[1,0,2,3,inf,inf,inf,7],\n",
    "  [2,2,0,1,5,inf,inf,inf],[inf,3,1,0,3,6,inf,inf],\n",
    "  [7,inf,5,3,0,4,3,inf],[inf,inf,inf,6,4,0,6,4],\n",
    "  [4,inf,inf,inf,3,6,0,2],[8,7,inf,inf,inf,4,2,0]]"
   ]
  },
  {
   "cell_type": "code",
   "execution_count": 5,
   "id": "8998bb4e",
   "metadata": {},
   "outputs": [
    {
     "name": "stdout",
     "output_type": "stream",
     "text": [
      "[0, 1, 2, 3, 6, 9, 4, 6]\n",
      "[1, 0, 2, 3, 6, 9, 5, 7]\n",
      "[2, 2, 0, 1, 4, 7, 6, 8]\n",
      "[3, 3, 1, 0, 3, 6, 6, 8]\n",
      "[6, 6, 4, 3, 0, 4, 3, 5]\n",
      "[9, 9, 7, 6, 4, 0, 6, 4]\n",
      "[4, 5, 6, 6, 3, 6, 0, 2]\n",
      "[6, 7, 8, 8, 5, 4, 2, 0]\n",
      "0.0009984970092773438\n"
     ]
    }
   ],
   "source": [
    "start=time.time()\n",
    "for v in range(len(a)):\n",
    "    print(Dijkstra_all_minpath(a,v))\n",
    "print(time.time()-start)"
   ]
  },
  {
   "cell_type": "code",
   "execution_count": 6,
   "id": "452cc69a",
   "metadata": {},
   "outputs": [],
   "source": [
    "def floyd(graph):\n",
    "    m = len(graph)\n",
    "    dis = graph\n",
    "    path = np.zeros((m, m))  #路由矩阵初始化 #初始化为0有些不妥，有些路径确实需要经过0点\n",
    "    for k in range(m):\n",
    "        for i in range(m):\n",
    "            for j in range(m):\n",
    "                if dis[i][k] + dis[k][j] < dis[i][j]:\n",
    "                    dis[i][j] = dis[i][k] + dis[k][j]\n",
    "    return dis\n",
    "inf=np.inf"
   ]
  },
  {
   "cell_type": "code",
   "execution_count": 7,
   "id": "ab1a408e",
   "metadata": {},
   "outputs": [
    {
     "name": "stdout",
     "output_type": "stream",
     "text": [
      "[[0, 1, 2, 3, 6, 9, 4, 6], [1, 0, 2, 3, 6, 9, 5, 7], [2, 2, 0, 1, 4, 7, 6, 8], [3, 3, 1, 0, 3, 6, 6, 8], [6, 6, 4, 3, 0, 4, 3, 5], [9, 9, 7, 6, 4, 0, 6, 4], [4, 5, 6, 6, 3, 6, 0, 2], [6, 7, 8, 8, 5, 4, 2, 0]]\n"
     ]
    },
    {
     "data": {
      "text/plain": [
       "0.0009968280792236328"
      ]
     },
     "execution_count": 7,
     "metadata": {},
     "output_type": "execute_result"
    }
   ],
   "source": [
    "start=time.time()\n",
    "print(floyd(a))\n",
    "time.time()-start"
   ]
  },
  {
   "cell_type": "markdown",
   "id": "c70f3563",
   "metadata": {},
   "source": [
    "# 三、非线性规划与模拟退火\n",
    "\n",
    "# 1 非线性规划\n",
    "## 1.1 非线性规划概念和理论\n",
    "\n",
    "### 1.1.1非线性规划模型\n",
    "\n",
    "与线性规划问题不同，非线性规划问题可以有约束条件，也可以没有约束条件。非线性规划模型的一般形式描述如下：\n",
    "$$\n",
    "\\begin{aligned}\n",
    "&\\min \\quad f(x),\\\\\n",
    "&s.t. \\quad\n",
    "\\begin{cases}\n",
    "g_i(x) \\leq 0, i = 1, 2, \\cdots, m,\\\\\n",
    "h_j(x) = 0, j = 1, 2, \\cdots, l.\n",
    "\\end{cases}\n",
    "\\end{aligned}\n",
    "$$ \n",
    "其中$x=[x_1,x_2,\\cdots,x_n]^{T}\\in R^{n}$，而$f$，$g_i$，$h_j$都是定义在$R^{n}$上的实值函数。\n",
    "\n",
    "如果采用向量表示法，则非线性规划的一般形式还可以写成：\n",
    "\n",
    "$$\n",
    "\\begin{equation}\n",
    "\\begin{array}{c}\n",
    "\\min \\quad f(x), \\\\\n",
    "\\text { s.t. }\\left\\{\\begin{array}{l}\n",
    "G(x) \\leq 0 \\\\\n",
    "H(x)=0\n",
    "\\end{array}\\right.\n",
    "\\end{array}\n",
    "\\end{equation}\n",
    "$$\n",
    "其中$G(x)=[g_1(x),g_2(x),\\cdots,g_m(x)]^{T}$，$H(x)=[h_1(x),h_2(x),\\cdots,h_l(x)]^{T}$。\n",
    "\n",
    "至于求目标函数的最大值或约束条件为大于等于零的情况，都可通过取其相反数转化为上述一般形式。\n",
    "\n",
    "#### 定义 1.1\n",
    "\n",
    "记非线性规划问题的可行域为K 。\n",
    "\n",
    "（1）若$x^{*}\\in K$，且$\\forall x\\in K$，都有$f(x^{*})\\leq f(x)$，则称 $x^{*}$为问题的全局最优解，称 $f(x^{*})$为其全局最优值。如果$\\forall x\\in K$，$x\\neq x^{*}$，都有$f(x^{*})<f(x)$，则称$x^{*}$ 为严格全局最优解，称$f(x^{*})$为其严格全局最优值。\n",
    "\n",
    "（2）若$x^{*}\\in K$，且存在$x^{*}$的邻域$N_{\\delta}(x^{*})$，$\\forall x\\in N_{\\delta}(x^{*})\\cap K$，都有$f(x^{*})\\leq f(x)$，则称$x^{*}$为局部最优解，称$f(x^{*})$为其局部最优值。如果$\\forall x\\in N_{\\delta}(x^{*})\\cap K$，$x\\neq x^{*}$，都有$f(x^{*})<f(x)$，则称$x^{*}$为严格局部最优解，称$f(x^{*})$为其严格局部最优值。\n",
    "\n",
    "如果线性规划的最优解存在，最优解只能在可行域的边界上达到（特别是在可行域的顶点上达到），且求出的是全局最优解。但是非线性规划却没有这样好的性质，其最优解（如果存在）可能在可行域的任意一点达到，而一般非线性规划算法给出的也只能是局部最优解，不能保证是全局最优解。"
   ]
  },
  {
   "cell_type": "markdown",
   "id": "2e6192f1",
   "metadata": {},
   "source": [
    "### 1.1.2无约束非线性规划的求解\n",
    "\n",
    "#### 定理 1.2\n",
    "\n",
    "设$f(x)$具有连续的一阶偏导数，且$x^{*}$是无约束问题的局部极小点，则$\\nabla f(x^{*})=0$。这里$\\nabla f(x)=0$表示函数$f(x)$的梯度。\n",
    "\n",
    "#### 定理 1.3\n",
    "\n",
    "（无约束优化问题有局部最优解的充分条件）设$f(x)$具有连续的二阶偏导数，点$x^{*}$满足$\\nabla f(x^{*})=0$；并且$\\nabla^{2} f(x^{*})$为正定阵，则$x^{*}$为无约束优化问题的局部最优解。\n",
    "\n",
    "定理1.3和定理1.4给出了求解无约束优化问题的理论方法，但困难的是求解方程 ，对于比较复杂的函数，常用的方法是数值解法，如最速降线法、牛顿法和拟牛顿法等。"
   ]
  },
  {
   "cell_type": "markdown",
   "id": "12c06da3",
   "metadata": {},
   "source": [
    "### 1.1.3有约束非线性规划的求解\n",
    "\n",
    "（1）求解有等式约束非线性规划的Lagrange乘数法。\n",
    "\n",
    "对于特殊的只有等式约束的非线性规划问题的情形：\n",
    "\n",
    "$$\n",
    "\\begin{aligned}\n",
    "&\\min \\quad f(x),\\\\\n",
    "&s.t. \\quad\n",
    "\\begin{cases}\n",
    "h_{j}(x)=0, \\quad j=1,2, \\cdots, l\\\\\n",
    "x \\in R^{n}\n",
    "\\end{cases}\n",
    "\\end{aligned}\n",
    "$$ \n",
    "\n",
    "有如下定理\n",
    "#### 定理1.4（Lagrange定理）\n",
    "\n",
    "设函数$f,h_j(j=1,2,\\cdots,l)$在可行点$x^{*}$的某个邻域$N(x^{*},\\varepsilon)$内可微，向量组$\\nabla h_j(x^{*})$线性无关，令$$L(x,\\lambda)=f(x)-\\lambda^{T}H(x)$$其中$\\lambda=[\\lambda_1,\\lambda_2,\\cdots,\\lambda_l]^{T}\\in R^{l}$，$H(x)=[h_1(x),h_2(x),\\cdots,h_l(x)]^{T}$。若$x^{*}$是局部最优解，则存在实向量$\\lambda^{*}=[\\lambda_1^{*},\\lambda_2^{*},\\cdots,\\lambda_l^{*}]^{T}\\in R^{l}$，使得$\\nabla L(x^{*},\\lambda^{*})=0$，即$$\\nabla f\\left(x^{*}\\right)-\\sum_{j=1}^{l} \\lambda_{j}^{*} \\nabla h_{j}\\left(x^{*}\\right)=0$$Lagrange定理的意义在于能将只有等式约束非线性规划的求解转化为无约束问题的求解。\n",
    "\n",
    "（2）求解有约束非线性规划的罚函数法\n",
    "\n",
    "罚函数法的基本思想是：利用问题的目标函数和约束函数构造出带参数的所谓增广目标函数，从而把有约束非线性规划问题转化为一系列无约束非线性规划问题来求解。而增广目标函数通常由两个部分构成，一部分是原问题的目标函数，另一部分是由约束函数构造出的“惩罚”项，“惩罚”项的作用是对“违规”的点进行“惩罚”。\n",
    "\n",
    "比较有代表性的一种罚函数法是所谓的外部罚函数法，或称外点法，这种方法的迭代点一般在可行域的外部移动，随着迭代次数的增加，“惩罚”的力度也越来越大，从而迫使迭代点向可行域靠近。具体操作方式为：根据不等式约束$g_i(x)\\leq0$与等式约束$max\\{0,g_i(x)\\}=0$的等价性，构造增广目标函数（也称为罚函数）$$T(x,M)=f(x)+M\\sum_{i=1}^m[\\max\\{0,g_i(x)\\}]+M\\sum_{j=1}^l[h_j(x)]^2$$"
   ]
  },
  {
   "cell_type": "markdown",
   "id": "18bf9ef2",
   "metadata": {},
   "source": [
    "## 1.2 非线性规划的Python求解\n",
    "\n",
    "求解非线性规划可以使用scipy.optimize模块、cvxopt库和cvxpy库。\n",
    "\n",
    "### 1.2.1用scipy.optimize模块的minimize函数求解\n",
    "\n",
    "#### 例 1\n",
    "$$\n",
    "\\begin{aligned}\n",
    "&\\min \\quad \\frac{2+x_1}{1+x_2}-3x_1+4x_3,\\\\\n",
    "&s.t. \\quad\n",
    "0.1\\leq x_i\\leq 0.9,\\quad i=1,2,3\n",
    "\\end{aligned}\n",
    "$$"
   ]
  },
  {
   "cell_type": "code",
   "execution_count": null,
   "id": "73900844",
   "metadata": {},
   "outputs": [
    {
     "data": {
      "text/plain": [
       "      fun: -0.7736842105263159\n",
       " hess_inv: <3x3 LbfgsInvHessProduct with dtype=float64>\n",
       "      jac: array([-2.47368422, -0.80332409,  4.        ])\n",
       "  message: 'CONVERGENCE: NORM_OF_PROJECTED_GRADIENT_<=_PGTOL'\n",
       "     nfev: 8\n",
       "      nit: 1\n",
       "     njev: 2\n",
       "   status: 0\n",
       "  success: True\n",
       "        x: array([0.9, 0.9, 0.1])"
      ]
     },
     "metadata": {},
     "output_type": "display_data"
    }
   ],
   "source": [
    "import numpy as np\n",
    "from scipy import optimize\n",
    "\n",
    "def obj(x): # 目标函数\n",
    "    x1, x2, x3 = x\n",
    "    return (2+x1)/(1+x2) - 3*x1 + 4*x3\n",
    "\n",
    "bnds = list(zip([0.1]*3, [0.9]*3)) # 生成bounds约束\n",
    "# bnds = np.tile([0.1, 0.9], (3, 1))\n",
    "res = optimize.minimize(obj, np.ones(3), bounds=bnds) # 第2个参数为初值\n",
    "# 实际这里用到method='L-BFGS-B'\n",
    "res"
   ]
  },
  {
   "cell_type": "markdown",
   "id": "cd854dba",
   "metadata": {},
   "source": [
    "#### 例 2\n",
    "$$\n",
    "\\begin{aligned}\n",
    "&\\max \\quad z = x_1^2 + x_2^2 +3x_3^2+4x_4^2+2x_5^2-8x_1-2x_2-3x_3-x_4-2x_5,\\\\\n",
    "&s.t. \\quad\n",
    "\\begin{cases}\n",
    "x_1 + x_2 + x_3+x_4+x_5 \\leq 400,\\\\\n",
    "x_1 + 2x_2 + 2x_3+x_4+6x_5 \\leq 800,\\\\\n",
    "2x_1 +x_2 +6x_3 \\leq 200,\\\\\n",
    "x_3 + x_4 +5x_5\\leq 200,\\\\\n",
    "0 \\leq x_i \\leq 99,\\quad i=1,2,\\cdots,5.\n",
    "\\end{cases}\n",
    "\\end{aligned}\n",
    "$$"
   ]
  },
  {
   "cell_type": "code",
   "execution_count": null,
   "id": "7e253f52",
   "metadata": {},
   "outputs": [
    {
     "data": {
      "text/plain": [
       "     fun: 51629.92999503741\n",
       "     jac: array([ -93.        , -196.        ,    3.        , -791.        ,\n",
       "        -78.79980469])\n",
       " message: 'Optimization terminated successfully'\n",
       "    nfev: 15\n",
       "     nit: 2\n",
       "    njev: 2\n",
       "  status: 0\n",
       " success: True\n",
       "       x: array([5.05000000e+01, 9.90000000e+01, 1.85343542e-09, 9.90000000e+01,\n",
       "       2.02000000e+01])"
      ]
     },
     "metadata": {},
     "output_type": "display_data"
    }
   ],
   "source": [
    "import numpy as np\n",
    "from scipy import optimize\n",
    "\n",
    "def obj(x):\n",
    "    c1 = np.array([1, 1, 3, 4, 2])\n",
    "    c2 = np.array([-8, -2, -3, -1, -2])\n",
    "    return -(lambda x: c1 @ x**2 + c2 @ x)(x) # 记得加负号\n",
    "def g1(x):\n",
    "    return (lambda x: b - A @ x)(x)\n",
    "\n",
    "\n",
    "A = np.array([[1, 1, 1, 1, 1],\n",
    "              [1, 2, 2, 1, 6],\n",
    "              [2, 1, 6, 0, 0],\n",
    "              [0, 0, 1, 1, 5]])\n",
    "b = np.array([400, 800, 200, 200])\n",
    "bnds = np.tile([0, 99], (5, 1))\n",
    "cons = {'type': 'ineq',\n",
    "        'fun': g1} # 保证'fun'>=0\n",
    "res = optimize.minimize(obj, np.ones(5)*(1000), constraints=cons, bounds=bnds) \n",
    "# 只能求出局部极值，要多尝试几个初值\n",
    "# 事实上这不是一个凸规划，局部最优解不等于全局最优解\n",
    "# 实际这里用到method='SLSQP'\n",
    "res.fun *= -1\n",
    "res"
   ]
  },
  {
   "cell_type": "markdown",
   "id": "88174d11",
   "metadata": {},
   "source": [
    "### 1.2.2 用cvxopt.solvers模块求解\n",
    "\n",
    "cvxopt.solvers模块中二次规划的标准型为\n",
    "$$\n",
    "\\min \\frac{1}{2} x^{T} P x+q^{T} x\\\\\n",
    "s.t. \\left\\{\\begin{array}{l}A x \\leq b, \\\\ A e q \\cdot x=b e q\\end{array}\\right.\n",
    "$$\n",
    "\n",
    "#### 例 3\n",
    "$$\n",
    "\\begin{aligned}\n",
    "&\\min \\quad z = 1.5x_1^2 + x_2^2 +0.85x_3^2+3x_1-8.2x_2-1.95x_3,\\\\\n",
    "&s.t. \\quad\n",
    "\\begin{cases}\n",
    "x_1 + x_3\\leq 2,\\\\\n",
    "-x_1 + 2x_2 \\leq 2,\\\\\n",
    "x_2 +2x_3 \\leq 3,\\\\\n",
    "x_1 + x_2 +x_3= 3,\n",
    "\\end{cases}\n",
    "\\end{aligned}\n",
    "$$"
   ]
  },
  {
   "cell_type": "code",
   "execution_count": null,
   "id": "f9f3196d",
   "metadata": {},
   "outputs": [
    {
     "name": "stdout",
     "output_type": "stream",
     "text": [
      "     pcost       dcost       gap    pres   dres\n",
      " 0: -1.3148e+01 -4.4315e+00  1e+01  1e+00  9e-01\n",
      " 1: -6.4674e+00 -7.5675e+00  1e+00  1e-16  1e-16\n",
      " 2: -7.1538e+00 -7.1854e+00  3e-02  1e-16  5e-16\n",
      " 3: -7.1758e+00 -7.1761e+00  3e-04  1e-16  8e-16\n",
      " 4: -7.1760e+00 -7.1760e+00  3e-06  5e-17  1e-15\n",
      "Optimal solution found.\n",
      "最优解为： [ 8.00e-01]\n",
      "[ 1.40e+00]\n",
      "[ 8.00e-01]\n",
      "\n",
      "最优值为： -7.175997768777274\n"
     ]
    }
   ],
   "source": [
    "import numpy as np\n",
    "from cvxopt import matrix,solvers\n",
    "n=3; P=matrix(0.,(n,n))\n",
    "P[::n+1]=[3,2,1.7]; q=matrix([3,-8.2,-1.95])\n",
    "A=matrix([[1.,0,1],[-1,2,0],[0,1,2]]).T\n",
    "b=matrix([2.,2,3])\n",
    "Aeq=matrix(1.,(1,n)); beq=matrix(3.)\n",
    "s=solvers.qp(P,q,A,b,Aeq,beq)\n",
    "print(\"最优解为：\",s['x'])\n",
    "print(\"最优值为：\",s['primal objective'])"
   ]
  },
  {
   "cell_type": "markdown",
   "id": "3cc4f0cc",
   "metadata": {},
   "source": [
    "### 1.2.3用cvxpy库求解\n",
    "\n",
    "#### 例4\n",
    "$$\n",
    "\\begin{aligned}\n",
    "&\\min \\quad z = x_1^2 + x_2^2 +3x_3^2+4x_4^2+2x_5^2-8x_1-2x_2-3x_3-x_4-2x_5,\\\\\n",
    "&s.t. \\quad\n",
    "\\begin{cases}\n",
    "0\\leq x_i\\leq 99,\\quad 且x_i为整数（i=1,\\cdots ,5),\\\\\n",
    "x_1 + x_2+x_3+x_4+x_5\\leq 400,\\\\\n",
    "x_1 + 2x_2 +2x_3+x_4+6x_5\\leq 800,\\\\\n",
    "2x_1+x_2 +6x_3 \\leq 200,\\\\\n",
    "x_3 + x_4 +5x_5\\leq 200,\n",
    "\\end{cases}\n",
    "\\end{aligned}\n",
    "$$"
   ]
  },
  {
   "cell_type": "code",
   "execution_count": null,
   "id": "52d56071",
   "metadata": {},
   "outputs": [
    {
     "name": "stdout",
     "output_type": "stream",
     "text": [
      "-17.000000001444963\n",
      "[4.00000000e+00 1.00000000e+00 2.93790755e-10 4.29551167e-10\n",
      " 1.00000000e+00]\n"
     ]
    }
   ],
   "source": [
    "import numpy as np\n",
    "import cvxpy as cp \n",
    "\n",
    "c1 = np.array([1, 1, 3, 4, 2])\n",
    "c2 = np.array([-8, -2, -3, -1, -2])\n",
    "A = np.array([[1, 1, 1, 1, 1],\n",
    "              [1, 2, 2, 1, 6],\n",
    "              [2, 1, 6, 0, 0],\n",
    "              [0, 0, 1, 1, 5]])\n",
    "b = np.array([400, 800, 200, 200])\n",
    "\n",
    "\n",
    "x = cp.Variable(5, integer=True)\n",
    "obj = cp.Minimize(c1 @ x**2 + c2 @ x)\n",
    "cons = [A @ x <= b, 0 <= x, x <= 99]\n",
    "                                        \n",
    "# x = cp.Variable(3, integer=True) # 更改题目: 如果x只有3个变量是整数呢? \n",
    "# y = cp.Variable(2)\n",
    "# obj = cp.Minimize(c1 @ cp.hstack((x,y))**2 + c2 @ cp.hstack((x,y)))\n",
    "# cons = [A @ cp.hstack((x,y)) <= b, 0 <= cp.hstack((x,y)), cp.hstack((x,y)) <= 99]\n",
    "\n",
    "\n",
    "prob = cp.Problem(obj, cons)\n",
    "# prob.solve()\n",
    "# prob.solve(solver='GLPK_MI')\n",
    "prob.solve(solver='ECOS_BB') # 查看求解器类型以及适用范围\n",
    "\n",
    "print(prob.value, x.value, sep='\\n')\n"
   ]
  },
  {
   "cell_type": "markdown",
   "id": "34365fae",
   "metadata": {},
   "source": [
    "三种求解方式总结：\n",
    "\n",
    "1. spicy.optimize.minimize: 适用于一般的非线性规划问题\n",
    "2. cvxopt.solvers: 线性规划和二次规划\n",
    "3. cvxpy: 适用于线性约束问题"
   ]
  },
  {
   "cell_type": "markdown",
   "id": "bb4610ac",
   "metadata": {},
   "source": [
    "### *1.2.4 求解器\n",
    "\n",
    "LP 线性规划 QP二次规划 SOCP二阶锥规划 SDP半正定规划 EXP，POW，MIP混合整数规划\n",
    "\n",
    "|       |LP|QP|SOCP|SDP|EXP|POW|MIP|\n",
    "|:-:|:-:|:-:|:-:|:-:|:-:|:-:|:-:|\n",
    "|CBC|X| | | | | |X|\n",
    "|GLOP|X|\n",
    "|GLPK|X|\n",
    "|GLPK_MI|X| | | | | |X|\n",
    "|OSQP|X|X|\n",
    "|PDLP|X|\n",
    "|CPLEX|X|X|X| | | |X|\n",
    "|NAG|X|X|X|\n",
    "|ECOS|X|X|X| |X|\n",
    "|GUROBI|X|X|X| | | |X|\n",
    "|MOSEK|X|X|X|X|X|X|X|\n",
    "|CVXOPT|X|X|X|X|\n",
    "|SCS|X|X|X|X|X|X|\n",
    "|SCIP|X|X|X| | | |X|\n",
    "|XPRESS|X|X|X| | | |X|\n",
    "|SCIPY|X|"
   ]
  },
  {
   "cell_type": "code",
   "execution_count": null,
   "id": "5d940de0",
   "metadata": {},
   "outputs": [
    {
     "data": {
      "text/plain": [
       "['CVXOPT', 'ECOS', 'ECOS_BB', 'GLPK', 'GLPK_MI', 'OSQP', 'SCIPY', 'SCS']"
      ]
     },
     "metadata": {},
     "output_type": "display_data"
    }
   ],
   "source": [
    "cp.installed_solvers() # 查看已安装的求解器类型"
   ]
  },
  {
   "cell_type": "markdown",
   "id": "1ace8621",
   "metadata": {},
   "source": [
    "### *1.2.5 DCP规则\n",
    "\n",
    "在有规律的凸规划中，标量表达式按其曲率分类。 有四类曲率：常数，仿射，凸和凹。\n",
    "\n",
    "|Curvature|Meaning|\n",
    "|:-|:-|\n",
    "|constant|$f(x)$ independent of x|\n",
    "| affine | $$f(\\theta x+(1-\\theta)y)=\\theta f(x)+(1-\\theta)f(y),\\forall x,y,\\theta\\in[0,1]$$ |\n",
    "|convex|$$f(\\theta x+(1-\\theta)y)\\leq\\theta f(x)+(1-\\theta)f(y),\\forall x,y,\\theta\\in[0,1]$$|\n",
    "|concave|$$f(\\theta x+(1-\\theta)y)\\geq\\theta f(x)+(1-\\theta)f(y),\\forall x,y,\\theta\\in[0,1]$$|\n",
    "\n",
    "#### CVX 支持三种不同类型的规范凸程序：\n",
    "\n",
    "最小化问题，由凸目标函数和零个或多个约束组成。\n",
    "\n",
    "最大化问题，由凹目标函数和零个或多个约束组成。\n",
    "\n",
    "可行性问题，由一个或多个约束组成，没有目标函数。\n",
    "\n",
    "#### 规范凸程序中可以指定三种类型的约束：\n",
    "\n",
    "等式约束，affine==affine，其中两边都是仿射的。\n",
    "\n",
    "小于不等式约束，convex<=concave，其中左侧为凸的，右侧为凹的。\n",
    "\n",
    "大于不等式约束，concave>=convex，其中左侧是凹的，右侧是凸的。\n"
   ]
  },
  {
   "cell_type": "code",
   "execution_count": null,
   "id": "ad012fab",
   "metadata": {},
   "outputs": [
    {
     "data": {
      "text/plain": [
       "True"
      ]
     },
     "metadata": {},
     "output_type": "display_data"
    }
   ],
   "source": [
    "# 举一些例子: \n",
    "\n",
    "import numpy as np\n",
    "import cvxpy as cp\n",
    "\n",
    "x = cp.Variable()\n",
    "# x = cp.Variable(neg=True)\n",
    "a = cp.Parameter(nonneg=True)\n",
    "\n",
    "# x**3 # 凸\n",
    "# cp.sqrt(1 + x**2).curvature # 拟凸\n",
    "# cp.norm2(cp.hstack([1, x])).curvature # 凸\n",
    "\n",
    "# cp.sqrt(x).curvature # 凹\n",
    "# x.is_affine()\n",
    "# x.is_convex()\n",
    "# x.is_concave()\n",
    "# a.is_constant()\n",
    "# a.is_affine()"
   ]
  },
  {
   "cell_type": "code",
   "execution_count": null,
   "id": "888dad23",
   "metadata": {},
   "outputs": [
    {
     "name": "stdout",
     "output_type": "stream",
     "text": [
      "0.5857864372505059\n",
      "[0.29289322 0.29289322]\n"
     ]
    }
   ],
   "source": [
    "# min |x1| + |x2| + .. + |xn| 也可以不需要换元就转化成标准的凸规划问题\n",
    "# x在以(1,1)为圆心半径为1的圆内\n",
    "import numpy as np\n",
    "import cvxpy as cp\n",
    "x = cp.Variable(2)\n",
    "cons = [cp.norm(x - 1, 2) <= 1, x >= 0]\n",
    "\n",
    "obj = cp.Minimize(cp.norm(x, 1)) # 方法1: 用1-norm(convex)来表示绝对值就能保证DCP了\n",
    "# obj = cp.Minimize(cp.sum(cp.abs(x))) # 方法2: 先对每个元素求abs(convex),然后求和(affine)\n",
    "\n",
    "prob = cp.Problem(obj, cons)\n",
    "prob.solve()\n",
    "\n",
    "print(prob.value, x.value, sep='\\n')\n",
    "# prob.is_dcp()"
   ]
  },
  {
   "cell_type": "markdown",
   "id": "a222023f",
   "metadata": {},
   "source": [
    "# 2 模拟退火算法\n",
    "## 2.1.1 模拟退火算法简介\n",
    "\n",
    "如果用粒子的能量定义材料的状态，Metropolis算法用一个简单的数学模型描述了退火过程。假设材料在状态$i$之下的能量为$E(i)$，那么材料在温度$T$时从状态$i$进入状态$j$就遵循如下规律\n",
    "\n",
    "（1）如果$E(j)\\leq E(i)$，接受该状态被转换。\n",
    "\n",
    "（2）如果$E(j)>E(i)$，则状态转换以如下概率被接受\n",
    "\n",
    "$$e^{\\frac{E(i)-E(j)}{KT}}$$\n",
    "\n",
    "其中$K$是物理学中的波尔兹曼常数，$T$是材料温度。\n",
    "\n",
    "如果温度下降十分缓慢，而在每个温度都有足够多次的状态转移，使之在每一个温度下达到热平衡，则全局最优解将以概率1被找到。因此可以说模拟退火算法可以找到全局最优解。\n",
    "\n",
    "在模拟退火算法中应注意以下问题\n",
    "\n",
    "（1）使用时要综合考虑解的性能和算法速度，在两者之间采取一种折中。\n",
    "\n",
    "（2）确定在每一温度下状态转换的结束准则。\n",
    "\n",
    "（3）选择初始温度和确定某个可行解的邻域的方法也要恰当"
   ]
  },
  {
   "cell_type": "markdown",
   "id": "8d114a42",
   "metadata": {},
   "source": [
    "## 2.1.2 算法流程及应用\n",
    "### 1.Metropolis采样算法\n",
    "\n",
    "输入当前解$s$和温度$T$：\n",
    "\n",
    "（1）令$k=0$时的当前解为$s(0)=s$，而在温度$T$下进行以下步骤。\n",
    "\n",
    "（2）按某一规定方式根据当前解$s(K)$所处的状态$s$，产生一个邻近子集$N(s(k))$，由$N(s(k))$随机产生一个新的状态$s'$作为一个当前解的候选解，取评价函数$C(x)$，计算$\\Delta C'=C(s')-C(s(k))$.\n",
    "\n",
    "（3）若$\\Delta C'<0$，则接受$s'$作为下一个当前解，若$\\Delta C'>0$，则按概率$e^{\\frac{\\Delta C'}{T}}$接受$s'$作为下一个当前解。\n",
    "\n",
    "（4）若接受$s'$，则令$s(k+1)=s'$，否则令$s(k+1)=s(k)$。\n",
    "\n",
    "（5）令$k=k+1$，判断是否满足收敛准则，不满足则转移到（2）；否则转（6）。\n",
    "\n",
    "（6）返回当前解$s(k)$。\n",
    "\n",
    "### 2.退火过程实现算法\n",
    "\n",
    "（1）任选一初始状态$s_0$作为初始解$s(0)=s_0$，并设初值温度为$T_0$，令$i=0$。\n",
    "\n",
    "（2）以$T_i$和$s_i$调用Metropolis采样算法，然后返回当前解$s_i=s$。\n",
    "\n",
    "（3）按一定方式将$T$降温，令$i=i+1$，$T_i=T_i+\\Delta T(\\Delta T<0)$。\n",
    "\n",
    "（4）检查退火过程是否结束，若未结束则转移到（2）；否则转（5）。\n",
    "\n",
    "（5）以当前解$s_i$作为最优解输出。\n",
    "\n",
    "#### 例 5\n",
    "\n",
    "已知100个目标的经度、纬度如表17.1所示。我方有一个基地，经度和纬度为（70,40）。假设我方飞机的速度为1000公里/小时。我方派一架飞机从基地出发，侦察完所有目标，再返回原来的基地。在每一目标点的侦察时间不计，求该架飞机所花费的时间（假设我方飞机巡航时间可以充分长）。\n",
    "  \n",
    "经纬度数据如下图：\n",
    "\n",
    "![image.png](image.png)"
   ]
  },
  {
   "cell_type": "markdown",
   "id": "07f0c7d1",
   "metadata": {},
   "source": [
    "#### 解决的模型与算法\n",
    "\n",
    "（1）解空间\n",
    "\n",
    "解空间$S$可表为{$0,1,\\cdots,101$}的所有固定起点和终点的循环排列集合，即\n",
    "\n",
    "$s=${$(\\pi_0,\\pi_1,\\cdots,\\pi_{101})|\\pi_0=1,(\\pi_0,\\pi_1,\\cdots,\\pi_{100})$为{$1,2,\\cdots,100$}的循环排列，$\\pi_{101}=101$}\n",
    "\n",
    "其中每一个循环排列表示侦察100个目标的一个回路，$\\pi_i=j$表示在第$i$次侦察目标$j$，初始解可选为 $(0,1,\\cdots,101)$，本文中我们先使用Monte Carlo（蒙特卡洛）方法求得一个较好的初始解。\n",
    "\n",
    "（2）目标函数\n",
    "\n",
    "目标函数（或称代价函数）为侦察所有目标的路径长度。要求$$\\min f(\\pi_0,\\pi_1,\\cdots,\\pi_{101})=\\sum_{i=0}^{100}d_{\\pi_i\\pi_{i+1}}$$\n",
    "而一次迭代由下列三步构成\n",
    "\n",
    "（3）新解的产生\n",
    "\n",
    "设上一步迭代的解为$\\pi_0\\cdots\\pi_{u-1}\\pi_u\\pi_{u+1}\\cdots\\pi_{v-1}\\pi_{v}\\pi_{v+1}\\cdots\\pi_{w-1}\\pi_{w}\\pi_{w+1}\\cdots\\pi_{101}$\n",
    "\n",
    "① 2变换法\n",
    "任选序号$u,v$，交换$u$与$v$之间的顺序，变成逆序，此时的新路径为$\\pi_0\\cdots\\pi_{u-1}\\pi_v\\pi_{v-1}\\cdots\\pi_{u+1}\\pi_{u}\\pi_{v+1}\\cdots\\pi_{101}$\n",
    "\n",
    "② 3变换法\n",
    "任选序号$u,v$和$w$，将$u$和$v$之间的路径插到$w$之后，对应的新路径为$\\pi_0\\cdots\\pi_{u-1}\\pi_{v+1}\\cdots\\pi_{w}\\pi_{u}\\cdots\\pi_{v}\\pi_{w+1}\\cdots\\pi_{101}$\n",
    " \n",
    " （4）接受准则\n",
    " \n",
    "如果$\\Delta f<0$，则接受新的路径。否则，以概率$exp(-\\Delta f/T)$接受新的路径，即用计算机产生一个[0,1]区间上均匀分布的随机数rand，若$rand\\leq exp(-\\Delta f/T)$则接受。\n",
    "\n",
    "（5）降温\n",
    "\n",
    "利用选定的降温系数$\\alpha$进行降温，取新的温度$T$为$\\alpha T$（这里$T$为上一步迭代的温度），这里选定$\\alpha=0.999$。\n",
    "\n",
    "（6）结束条件\n",
    "\n",
    "用选定的终止温度$e=10^{-30}$，判断退火过程是否结束。若$T<e$，算法结束，输出当前状态。\n"
   ]
  },
  {
   "cell_type": "code",
   "execution_count": 12,
   "id": "ed2292ff",
   "metadata": {},
   "outputs": [
    {
     "name": "stderr",
     "output_type": "stream",
     "text": [
      "C:\\Users\\mix\\AppData\\Local\\Temp/ipykernel_23704/384989067.py:14: RuntimeWarning: invalid value encountered in arccos\n",
      "  d = np.array([[6370 * arccos(cos(t[i,0]-t[j,0])*cos(t[i,1])*cos(t[j,1]) + sin(t[i,1])*sin(t[j,1]))\n"
     ]
    },
    {
     "name": "stdout",
     "output_type": "stream",
     "text": [
      "[  0  53  37  18  19   8  75  81  97  86  93  25  40  92  44  57  22  61\n",
      "  17  35  96  31  29  87   5  38  33  78  68  64  66  58  84   2  76  91\n",
      "  39  48  36   6  42  70  27  54  71 100  32  20  63  41  67  82  59  50\n",
      "  83  47  89  60  16  24  23  46  28  90  12   7  30  15  56  10  94  34\n",
      "  72  21  13  88  51  43  74  26  65  14  95  80  45  73  11  77  55  99\n",
      "  49   4  85  98  69   1  52   9   3  79  62 101]\n",
      "250176.37841142423\n",
      "[  0  61   5  74  63   1  64  24  86  83  49   2  14  73  62  53  29  11\n",
      "  13  99  71  37  51   4  12  35  54  65  33  32  84  18  36  55  72  75\n",
      "  69  47   8  48  39  90   6  23  82  50  25  40  43  59  97  10  30  56\n",
      "  85  27  20  93  67  21  81  79  42  22  89  45  87  57  60  58   9  26\n",
      "  95   7  41  52  17  80  15  70  46  96  88  94  16  98  91  28  44  38\n",
      "  66  68  31  78 100  92  19  77   3  76  34 101]\n",
      "37289.36084918963\n"
     ]
    },
    {
     "data": {
      "image/png": "[encoded data removed]",
      "text/plain": [
       "<Figure size 432x288 with 1 Axes>"
      ]
     },
     "metadata": {
      "needs_background": "light"
     },
     "output_type": "display_data"
    }
   ],
   "source": [
    "# 旅行商问题\n",
    "import numpy as np\n",
    "from numpy import radians, arccos, cos, sin, exp\n",
    "import matplotlib.pyplot as plt\n",
    "\n",
    "\n",
    "a = np.loadtxt(\"Pdata17_1.txt\")\n",
    "x = a[:, ::2].flatten()\n",
    "y = a[:, 1::2].flatten()\n",
    "d1 = np.array([70, 40]) # 起点\n",
    "xy = np.vstack([d1, np.column_stack([x, y]), d1])\n",
    "N = xy.shape[0] # N = 102\n",
    "t = radians(xy) # 转化为弧度\n",
    "d = np.array([[6370 * arccos(cos(t[i,0]-t[j,0])*cos(t[i,1])*cos(t[j,1]) + sin(t[i,1])*sin(t[j,1]))\n",
    "               for j in range(N)] for i in range(N)]).real\n",
    "# 生成邻接矩阵(对称矩阵)\n",
    "\n",
    "\"\"\"\n",
    "预处理: Monte Carlo方法\n",
    "\"\"\"\n",
    "path = np.arange(N) # 保存路径  0,1,...,101\n",
    "L = np.inf # 保存最小值答案\n",
    "for _ in range(1000): # 设定随机1000次操作(可以改成其他值)\n",
    "    path0 = np.arange(1, N-1)\n",
    "    np.random.shuffle(path0)\n",
    "    path0 = np.hstack([0, path0, N-1]) # 打乱path中间的N-2项\n",
    "    L0 = d[path[0], path0[1]]\n",
    "    for i in range(1, N-1):\n",
    "        L0 += d[path[i], path[i+1]] # 求总路程\n",
    "    if L0 < L: # 更新\n",
    "        path = path0\n",
    "        L = L0\n",
    "print(path, L, sep='\\n')\n",
    "\n",
    "\"\"\"\n",
    "模拟退火法(关键在于'概率')\n",
    "\"\"\"\n",
    "e = 0.1**30 # 终止温度\n",
    "M = 50000 # 循环次数上限\n",
    "alpha = 0.999 # 降温系数\n",
    "T = 1 # 起始温度\n",
    "for _ in range(M):\n",
    "    rnd = np.random.randint(1, 101, size=2)\n",
    "    rnd.sort()\n",
    "    u = rnd[0]\n",
    "    v = rnd[1] # 生成1,2,...,100中的两个随机数, u < v\n",
    "    df = (d[path[u-1], path[v]] + d[path[u], path[v+1]]\n",
    "          - d[path[u-1], path[u]] - d[path[v], path[v+1]])\n",
    "    if df < 0:\n",
    "        path = np.hstack([path[:u], # 0,1,...,u-1\n",
    "                          path[v:u-1:-1], # v,v-1,...,u+1,u\n",
    "                          path[v+1:]]) #v+1,...,101\n",
    "        L = L + df\n",
    "    elif exp(-df/T) >= np.random.rand(1): # 0-1随机数\n",
    "        path = np.hstack([path[:u],\n",
    "                          path[v:u-1:-1],\n",
    "                          path[v+1:]])\n",
    "        L = L + df\n",
    "    T = T * alpha # 退火\n",
    "    if T < e: break # 温度小于终止温度则退出,否则继续\n",
    "print(path, L, sep='\\n') # 输出巡航路径及路径长度\n",
    "\n",
    "\n",
    "xx = xy[path, 0]\n",
    "yy = xy[path, 1]\n",
    "plt.plot(xx, yy, '-*')\n",
    "plt.show()  #画巡航路径"
   ]
  }
 ],
 "metadata": {
  "kernelspec": {
   "display_name": "Python 3.9.12 ('base')",
   "language": "python",
   "name": "python3"
  },
  "language_info": {
   "codemirror_mode": {
    "name": "ipython",
    "version": 3
   },
   "file_extension": ".py",
   "mimetype": "text/x-python",
   "name": "python",
   "nbconvert_exporter": "python",
   "pygments_lexer": "ipython3",
   "version": "3.9.12"
  },
  "vscode": {
   "interpreter": {
    "hash": "49cb93f377a7abe7414b7b0f21fb3017538004a126cf690fb524202736b7fb92"
   }
  }
 },
 "nbformat": 4,
 "nbformat_minor": 5
}
