{
 "cells": [
  {
   "cell_type": "markdown",
   "metadata": {},
   "source": [
    "# 第一章 Python语言快速入门\n",
    "\n",
    "总结人：冯超、刘梓艺、帅栩莹\n",
    "\n",
    "### Python概述\n",
    "    \n",
    "Python是一种可以撰写跨平台应用程序的解释型、面向对象的高级程序设计语言。Python的设计哲学强调代码的可读性和简洁的语法，尤其是使用空格缩进划分代码块，而非使用大括号或者关键词。让开发者能够用更少的代码表达想法，不管是小型还是大型程序，该语言都试图让程序的结构清晰明了。由于语法简洁而清晰，十分容易上手，且具有丰富和强大的类库，它往往能够用几行简单的代码就可以驱动操作系统及实现应用程序的多样化功能，因此它又常被称为胶水语言。"
   ]
  },
  {
   "cell_type": "markdown",
   "metadata": {},
   "source": [
    "## 1.1 Python的安装和简单使用\n",
    "\n",
    "### 1.1.1 Python系统的安装\n",
    "\n",
    "1. 安装Python基本库\n",
    "\n",
    "    要使用Python语言进行程序开发，必须安装其开发环境，即Python解释器。安装前先要从[Python官网](http://www.python.org/downloads)下载Python安装文件\n",
    "\n",
    "![20220719202528](http://cdn.jsdelivr.net/gh/zihuaj/figure1@main/20220719202528.png)\n",
    "\n",
    "2. 下载Anaconda环境\n",
    "\n",
    "    Anaconda是Anaconda公司提供的Python集成版。包括近200多个工具库，常见的库有NumPy、SciPy、pandas、IPython、Matplotlib、Scikit-learn和NLTK等。它是一个跨平台的版本，可以与其他现有的Python版本一起安装。其基础版本是免费的，其他具有高级功能的附加组件须单独收费。Anaconda自带库管理器conda，通过命令行来管理安装库。\n",
    "    可以从[Anaconda官网](https://www.anaconda.com/)下载Anacoda安装软件\n",
    "    下载完Anaconda3-2018.12-Windows-x86_64.exe文件，运行该文件，进行“傻瓜式”安装即可。\n",
    "\n",
    "![20220719202709](http://cdn.jsdelivr.net/gh/zihuaj/figure1@main/20220719202709.png)\n",
    "\n",
    "### 1.1.2 PYthon工具库的管理和安装\n",
    "\n",
    "1. 使用pip管理拓展库\n",
    "\n",
    "    在Python3.4.0之后的安装包中已经集成了pip工具，安装后的可执行文件在Python37\\Scripts\\目录下。可以在命令提示符下使用pip来完成扩展库的安装、升级、卸载等操作，pip常用命令的使用方法如表1.1所示。\n",
    "\n",
    "    表1.1  pip常用命令的使用方法\n",
    "\n",
    "    | pip 命令示例 | 说明 |\n",
    "    | :--- | :--- |\n",
    "    | pip install SomePackage | 安装 SomePackage |\n",
    "    | pip list | 列出当前已安装的所有库 |\n",
    "    | pip install --upgrade SomePackage | 升级 SomePackage 库 |\n",
    "    | pip install -U SomePackage | 升级 SomePackage 库 |\n",
    "    | pip uninstall SomePackage | 卸载 SomePackage 库 |\n",
    "    \n",
    "<br/>\n",
    "\n",
    "2. 常见库的安装\n",
    "\n",
    "    一些常见库的pip安装方法见表1.2（记得一定要联网的）。\n",
    "    Pip安装不上可以尝试使用conda安装，命令一样。\n",
    "    实在不行就在网络上寻找对应版本的.whl文件来安装。\n",
    "\n",
    "    表1.2  常见库的pip安装方法\n",
    "\n",
    "    | 库名 | 库说明 | 安装方法 |\n",
    "    | :--- | :--- | :--- |\n",
    "    | NumPy | 科学计算和数据分析的基础库 | pip install numpy |\n",
    "    | SciPy | NumPy 基础上的科学计算库 | pip install scipy |\n",
    "    | SymPy | 符号计算库 | pip install sympy |\n",
    "    | Pandas | NumPy 基础上的数据分析库 | pip install pandas |\n",
    "    | Matplotlib | 数据可视化库 | pip install matplotlib |\n",
    "    | Scikit-learn | 机器学习库 | pip install scikit-learn |\n",
    "    | Statsmodels | SciPy 统计函数的补充库 | pip install statsmodels |\n",
    "    | NetworkX | 图论和复杂网络库 | pip install networkx |\n",
    "    | cvxpy | 凸优化库 | pip install 文件名（离线安装） |\n",
    "    | TensorFlow | 深度学习库 | pip install tensorflow |\n",
    "    | NLTK | 自然语言库 | pip install nltk |\n",
    "    | python-louvain | 社交网络挖掘的社区发现算法库 | pip install python-louvain |\n",
    "    | PIL | 数字图像处理库 | pip install pillow |\n",
    "    | OpenCV | 计算机视觉库 | pip install opencv-python | \n",
    "\n",
    "<br/>\n",
    "\n",
    "3. cvxpy优化工具库安装\n",
    "\n",
    "    cvxpy库的安装是一个很麻烦的过程，它不支持在线安装。网上有很多关于cvxpy库安装的各种报错信息的处理方式。读者只需要按照以下的步骤手动安装，就不会报错。以系统为windows64位+python3.7的电脑为例（cvxpy只支持Python3.7.2版本，高版本的Python无法运行cvxpy库）。\n",
    "\n",
    "    cvxpy库所依赖的工具库有很多， 有numpy+mkl, scipy, cvxopt, scs, ecos, fastcache和osqp等等，这些工具库下载到本地计算机中，并使用图1.2类似的方式安装。需要注意的有两点，一是安装的工具库版本必须与python版本和系统相对应，其中源文件名中的cp37表示python3.7，amd64表示64位，win32表示32位。第二个需要注意的是，numpy库的安装版本有很多，一定要选择numpy+mkl库。（但是其实装了anaconda后直接就有numpy+mkl了，不放心也可以再用pip安装）\n",
    "     \n",
    "    假定下载的所有库源文件放在D:\\软件\\Python\\cvxpy目录下，上面的cvxpy支持工具库都安装完毕之后，最后进行cvxpy的离线安装，如图1.2所示。\n",
    "\n",
    "\n"
   ]
  },
  {
   "cell_type": "markdown",
   "metadata": {},
   "source": [
    "## 1.2 Python基础知识\n",
    "\n",
    "### 1.2.1 基础数据处理\n",
    "\n",
    "1. Python语言的赋值\n",
    "    \n",
    "    Python语言简洁明了，变量不需要声明就可以使用，给变量赋值的方式如下：\n",
    "    \n",
    "                变量名 = 数据\n",
    "    \n",
    "                例如：score = 100\n",
    "\n",
    "    当我们想要在同一行中给多个变量赋值时，可以使用“，”来分割变量，例如：\n",
    "   \n",
    "                a, b, c = 80, 60, 20\n",
    "\n",
    "2. Python语言的基本数据类型\n",
    "    \n",
    "     （1）数值数据类型主要有整数和浮点数，浮点数就是带有小数点的数字，例如：\n",
    "\n",
    "                a = 100      #整数\n",
    "                \n",
    "                b = 123.45   #浮点数\n",
    "\n",
    "     （2）Python语言的布尔（bool）数据类型只有True和False两个值，例如：\n",
    "\n",
    "                switch = True\n",
    "\n",
    "                turn = False\n",
    "\n",
    "     布尔数据类型通常用于流程控制中的逻辑判断。\n",
    "\n",
    "    （3）字符串类型：\n",
    "    \n",
    "    在Python中定义一个字符串可以使用单引号、双引号和三引号（三个单引号或三个双引号），这使得Python输入文本更方便。在Python中，单引号和双引号表示法在字符串显示上完全相同，一般不用区别。但是通常情况下，单引号用于表示一个单词，双引号用于表示一个词组或句子。\n",
    "        \n",
    "    将字符串内容放在一对三引号中间时，不仅保留字符串的内容，还保留字符串的格式。三引号通常用于输入多行文本信息，一般可以表示大段的叙述性字符串。例如：\n",
    "\n",
    "                title = \"新年快乐\"\n",
    "\n",
    "                content = \"\"\"同志们好！\n",
    "\n",
    "                大家辛苦了！\"\"\"\n",
    "\n",
    "\n",
    "\n",
    "### 1.2.2 输出print和输入input\n",
    "\n",
    "1. 输出print()函数\n",
    "\n",
    "    （1）print指令就是用来输出指定的字符串或数值，语法如下：\n",
    "\n",
    "                print(项目1[, 项目2, …, sep=分割字符, end=终止符])\n",
    "\n",
    "    （2）print指令也支持格式化功能\n",
    "    \n",
    "    主要是由%字符与后面的格式化字符串来控制输出格式，语法如下：\n",
    "     print(\"项目\"%(参数行))\n",
    "    在输出的项目中使用“%s”代表输出字符串，“%d”代表输出整数，“%f”代表输出浮点数。\n",
    "\n",
    "     另外，通过设置格式符可以达到对齐效果，例如：\n",
    "     %7s：固定输出7个字符，若不足7个字符，则会在字符串左方填入空格符；若大于7个字符，则全部输出。\n",
    "     %7d：固定输出7个数字，若不足7位数，则会在数字左方填入空格符；若大于7位数，则全部输出。\n",
    "     %8.2f：连同小数点也算1个字符，这种格式会固定输出8个字符，其中小数固定输出2位数，如果整数少于5位数，就会在数字左方填入空格符，但若小数小于2位数，则会在数字右方填入0。\n",
    "\n",
    "\n",
    "    对于print()函数的使用，有如下示例："
   ]
  },
  {
   "cell_type": "code",
   "execution_count": null,
   "metadata": {},
   "outputs": [
    {
     "name": "stdout",
     "output_type": "stream",
     "text": [
      "四书五经\n",
      "《大学》、《中庸》、《论语》、《孟子》\n",
      "《大学》 《中庸》 《论语》 《孟子》\n",
      "《大学》 《中庸》 《论语》 《孟子》  《诗经》 《尚书》 《礼记》 《易经》 《春秋》\n"
     ]
    }
   ],
   "source": [
    "print(\"四书五经\")\n",
    "print(\"《大学》\",\"《中庸》\",\"《论语》\",\"《孟子》\",sep='、')\n",
    "print(\"《大学》\",\"《中庸》\",\"《论语》\",\"《孟子》\")\n",
    "print(\"《大学》\",\"《中庸》\",\"《论语》\",\"《孟子》\",end='  ')\n",
    "print(\"《诗经》\",\"《尚书》\",\"《礼记》\",\"《易经》\",\"《春秋》\")"
   ]
  },
  {
   "cell_type": "markdown",
   "metadata": {},
   "source": [
    "2. 输出转义字符\n",
    "\n",
    "    print()函数除了输出一般的字符串或字符外，也可以在字符前加上反斜杠“\\”来通知编译程序将后面的字符当成一个特殊字符，形成转义字符。例如'\\n'是表示换行功能的“转义字符”，表1.3为几个常用的转义字符。\n",
    "\n",
    "     表1.3  常用的转义字符\n",
    "    | 转义字符 | 含义 |\n",
    "    | :---: | :--- |\n",
    "    | \\t | 水平制表字符 |\n",
    "    | \\n | 换行符 |\n",
    "    | \\\"| 显示双引号 |\n",
    "    |\\' | 显示单引号 |\n",
    "    | \\\\\\\\ | 显示反斜杠 |\n",
    "\n",
    "<br/>\n",
    "\n",
    "3. 输入input()函数\n",
    "\n",
    "    input()是输入指令，语法如下：\n",
    "\n",
    "                变量=input(提示字符串)\n",
    "\n",
    "    当我们输入数据再按Enter键后，就会将输入的数据赋值给变量。“提示字符串”则是一段给用户的提示信息\n",
    "\n",
    "\n",
    "<br/>\n",
    "\n",
    "### 1.2.3 运算符与表达式\n",
    "\n",
    "1. 表达式是由运算符与操作数所组成的。其中+、-、*及/符号称为运算符，操作数则包含变量、数值和字符。\n",
    "\n",
    "\n",
    "2. 算术运算符\n",
    "\n",
    "    算术运算符主要包含数学运算中四则运算的运算符、求余运算符、整除运算符、幂次运算符等，例如：\n",
    "\n",
    "                x1 = 58 + 32     #x1=90\n",
    "                x2 = 89 - 28     #x2=61\n",
    "                x3 = 3 * 12      #x3=36\n",
    "                x4 = 125 / 7     #x4=17.857142857142858\n",
    "                x5 =125 // 7     #整除，x5=17\n",
    "                x6 = 4**3        #4的3次幂，x6=64\n",
    "                x7 = 46 % 5      #求余数，x7=1\n",
    "\n",
    "\n",
    "\n",
    "3. 复合赋值运算符\n",
    "\n",
    "    由赋值运算符“=”与其他运算符结合而成，也就是“=”右方的源操作数必须有一个和左方接受赋值数值的操作数相同\n",
    "\n",
    "4. 关系运算符\n",
    "\n",
    "    用来比较两个数值之间的大小关系，通常用于流程控制语句，如果该关系运算结果成立，就返回真值（True）；若不成立，则返回假值（False）。例如a=5，b=3，进行关系运算的结果如表1.5所示。\n",
    "\n",
    "    表1.5  关系运算结果\n",
    "\n",
    "    | 运算符 | 说明 |\n",
    "    | :---: | :--- |\n",
    "    | > | a 大于 b, 返回 True |\n",
    "    | < | a 小于 b, 返回 False |\n",
    "    | >= | a 大于或等于 b, 返回 True |\n",
    "    | <= | a 小于或等于 b, 返回 False |\n",
    "    | == | a 等于 b, 返回 False |\n",
    "    | != | a 不等于 b, 返回 True |\n",
    "\n",
    "    <br/>\n",
    "\n",
    "5. 逻辑运算符\n",
    "\n",
    "    主要有3个运算符：not、and、or\n",
    "\n",
    "6. 位运算符\n",
    "\n",
    "    位运算（bit operation）就是二进制位逐位进行运算。在Python中，如果要将整数转换为二进制，就可以使用内置函数bin()\n",
    "\n",
    "<br/>\n",
    "\n",
    "### 1.2.4 流程控制\n",
    "\n",
    "1. if语句\n",
    "    多分支if语句的一般格式为：\n",
    "    \n",
    "                if 条件表达式1：\n",
    "                    语句块1\n",
    "                elif 条件表达式2:\n",
    "                    语句块2\n",
    "                ……\n",
    "                elif 条件表达式m:\n",
    "                    语句块m\n",
    "                else:\n",
    "                    语句块m+1\n",
    "\n",
    "\n",
    "    当条件表达式1的值为True时，执行语句块1；否则求条件表达式2的值，为True时，执行语句块2；以此类推；\n",
    "    \n",
    "    若前面m个表达式的值都为False，则执行else后面的语句块m+1。不管有几个分支，程序执行完一个分支后，其余分支将不再执行。\n",
    "\n",
    "##### 注意：\n",
    "    \n",
    "    1）在if（或elif）语句的条件表达式后面必须加冒号“：”。\n",
    "    \n",
    "    2）if（或elif） 语句中的语句块必须向右缩进，语句块可以是单个语句，也可以是多个语句。当包含两个或两个以上的语句时，语句必须缩进一致，即语句块中的语句必须上下对齐。\n",
    "\n",
    "<br/>\n",
    "\n",
    "2. for循环\n",
    "    for循环又称为计数循环，是一种可以重复执行固定次数的循环，语法如下：\n",
    "\n",
    "                for item in 序列对象：\n",
    "                    for的语句块\n",
    "                else：\n",
    "                    else的语句块  #可加入或者不加入\n",
    "\n",
    "    上述语句中可加入或者不加入else指令。Python提供了range()函数来搭配使用，主要功能是建立整数序列，语法如下：\n",
    "\n",
    "                range([初始值,]终值[,步长])\n",
    "\n",
    "    返回一个等差数列的可迭代对象，不包括终值，这里[]表示可选项。初始值的默认值为0，步长的默认值为1。可迭代对象，必须转化为下面将要介绍的列表才能显示所有元素。  例如：\n"
   ]
  },
  {
   "cell_type": "code",
   "execution_count": null,
   "metadata": {},
   "outputs": [
    {
     "name": "stdout",
     "output_type": "stream",
     "text": [
      "[0, 1, 2, 3, 4]\n",
      "[1, 2, 3, 4, 5]\n",
      "[2, 4, 6, 8]\n"
     ]
    }
   ],
   "source": [
    "print(list(range(5)))       #输出：[0, 1, 2, 3, 4]\n",
    "print(list(range(1,6)))     #输出：[1, 2, 3, 4, 5]\n",
    "print(list(range(2,10,2)))  #输出：[2, 4, 6, 8]"
   ]
  },
  {
   "cell_type": "markdown",
   "metadata": {},
   "source": [
    "3. while循环\n",
    "\n",
    "    while语句的一般格式为：\n",
    "    \n",
    "            while 条件表达式:\n",
    "                语句块1\n",
    "            else：\n",
    "                语句块2\n",
    "\n",
    "    循环体的语句块可以是单个语句，也可以是多个语句。当循环体由多个语句构成时，必须用缩进对齐的方式组成一个语句块，否则产生错误。\n"
   ]
  },
  {
   "cell_type": "markdown",
   "metadata": {},
   "source": [
    "## 1.3 复合数据类型\n",
    "数值类型、布尔类型数据不可再分解为其他类型，而列表、元组、集合和字典类型的数据包含多个相互关联的数据元素，所以称它们为复合数据类型。字符串其实也是一种复合数据，其元素是单个字符。\n",
    "\n",
    "列表、元组和字符串是有顺序的数据元素的集合体，称为序列（sequence）。序列可以通过各数据元素在序列中的位置编号（索引）来访问数据元素。集合和字典属于无顺序的数据集合体，数据元素没有特定的排列顺序，因此不能像序列那样通过位置编号来访问数据元素。\n",
    "### 1.3.1 list列表\n",
    "关于list列表，需说明如下三点：\n",
    "\n",
    "（1）列表的构造是通过英文状态下的方括号完成的，即[]。a=[]表示a为空列表，列表中的元素是不受任何限制的，可以存放数值、字符串及其他数据结构的内容。\n",
    "\n",
    "（2）列表是一种序列，即每个元素是按照顺序存入的，这些元素都有一个属于自己的位置（或下标）。可以通过索引（或下标）的方式实现列表元素的获取，Python中的索引都是用英文状态下的方括号表示，而且，对于位置索引来说，都是从0开始。\n",
    "\n",
    "（3）列表是一种可变类型的数据结构，即可以实现对列表的修改，包括增加、删除和修改列表中的元素值。\n",
    "\n",
    "#### 1、索引\n",
    "**（1）正向索引** <br/>\n",
    "元素的索引从左边第一个元素的索引为0开始，从左到右逐个递增，最右边元素的索引为“列表元素个数”。<br/>\n",
    "**（2）负向索引** <br/>\n",
    "元素的索引也可以从右边最后一个元素的索引为开始，从右到左逐个递减，最左边元素的索引为“列表元素个数”。<br/>\n",
    "**（3）切片索引** <br/>\n",
    "切片索引指的是按照固定的步长，连续取出多个元素，可以用[start:end:step]表示，start指索引元素的起始位置；end指索引元素的终止位置（注意，end位置的元素是取不到的！），step指索引的步长，默认为1，表示逐个取出一连串的列表元素。<br/>\n",
    "**（4）无限索引** <br/>\n",
    "无限索引是指在切片过程中不限定起始元素的位置或终止元素的位置，甚至起始和终止元素的位置都不限定，可以用[::step]表示。第一个冒号是指从列表的第一个元素开始获取；第二个冒号是指到最后一个元素结束（包含最后一个元素值）。\n",
    "\n",
    "索引示例如下：\n",
    "\n"
   ]
  },
  {
   "cell_type": "code",
   "execution_count": null,
   "metadata": {},
   "outputs": [
    {
     "name": "stdout",
     "output_type": "stream",
     "text": [
      "张三\n",
      "['身高172', '体重70']\n",
      "体重70\n",
      "['硕士', '已婚', ['身高172', '体重70']]\n",
      "['张三', '男', 23]\n",
      "['张三', 23, '硕士', ['身高172', '体重70']]\n",
      "['张三', '男', 23, '江苏', '硕士', '已婚']\n"
     ]
    }
   ],
   "source": [
    "a=[\"张三\", \"男\", 23, \"江苏\", \"硕士\", \"已婚\", [\"身高172\", \"体重70\"]]\n",
    "print(a[0])      \n",
    "print(a[-1])     \n",
    "print(a[-1][1])  \n",
    "print(a[-3:])    \n",
    "print(a[:3])     \n",
    "print(a[::2])    \n",
    "print(a[0:-1])   "
   ]
  },
  {
   "cell_type": "markdown",
   "metadata": {},
   "source": [
    "#### 2、列表元素的增加\n",
    "Python方法的调用格式为object.method，函数的调用格式为function(object)，两者是有区别的；如果从广义的角度来看“方法”和函数，它们都属于对象的处理函数。\n",
    "\n",
    "（1）append\n",
    "\n",
    "append是列表所特有的方法，该方法每次往列表的尾部增加一个元素。\n",
    "\n",
    "（2）extend\n",
    "\n",
    "extend方法可以往列表的尾部添加多个元素。\n",
    "\n",
    "（3）insert\n",
    "\n",
    "insert方法可以在列表的指定位置插入新值，该方法需要传递两个参数：第一个参数是索引（或下标），表示插入的位置；第二个参数是具体插入的值，既可以是一个常量，也可以是一个列表，如果是列表，就是以嵌套列表的形式插入。\n",
    "\n",
    "增加列表元素示例如下："
   ]
  },
  {
   "cell_type": "code",
   "execution_count": null,
   "metadata": {},
   "outputs": [
    {
     "name": "stdout",
     "output_type": "stream",
     "text": [
      "[1, 2, 3, 4]\n",
      "[1, 2, 3, 4, 3, 2, 1]\n",
      "[-1, 1, 2, 3, 4, 3, 2, 1]\n"
     ]
    }
   ],
   "source": [
    "a=[1,2,3]; a.append(4)  \n",
    "print(a)    \n",
    "a.extend([3,2,1])  \n",
    "print(a)    \n",
    "a.insert(0,-1)  \n",
    "print(a)    "
   ]
  },
  {
   "cell_type": "markdown",
   "metadata": {},
   "source": [
    "#### 3、列表元素的删除\n",
    "（1）pop\n",
    "\n",
    "pop可以完成列表元素两种风格的删除，pop()删除列表的末尾元素，pop(n)删除列表索引n位置的元素。\n",
    "\n",
    "（2）remove\n",
    "\n",
    "remove方法删除指定的元素。如果列表中有多个与要删除元素相同的元素，则删除从左边数的第一个元素。如果要删除的元素在列表中不存在，则报错。\n",
    "\n",
    "（3）clear\n",
    "\n",
    "clear方法是清空列表，即把列表中的所有元素全部删除，返回的是一个空列表。\n",
    "\n",
    "删除列表元素示例如下："
   ]
  },
  {
   "cell_type": "code",
   "execution_count": null,
   "metadata": {},
   "outputs": [
    {
     "name": "stdout",
     "output_type": "stream",
     "text": [
      "[10, 20, 30, 5, 8, 5, 8, 6]\n",
      "[10, 20, 5, 8, 5, 8, 6]\n",
      "[10, 20, 5, 5, 6]\n",
      "[]\n"
     ]
    }
   ],
   "source": [
    "a=[10, 20, 30, 5, 8, 5, 8, 6, 6];\n",
    "a.pop()  \n",
    "print(a)  \n",
    "a.pop(2)  \n",
    "print(a)  \n",
    "a.remove(8); a.remove(8) \n",
    "print(a)  \n",
    "a.clear()  \n",
    "print(a)   "
   ]
  },
  {
   "cell_type": "markdown",
   "metadata": {},
   "source": [
    "#### 4、列表的常见操作\n",
    "表 1.7 Python中列表的常用操作（其中a=[1,2,3,4]，b=[7,6,5]）\n",
    "|     名称            |     操作                        |     说明                                                                                        |     实例结果                      |\n",
    "|---------------------|---------------------------------|-------------------------------------------------------------------------------------------------|-----------------------------------|\n",
    "|     查找元素下标    |     a.index(e)                  |     查找元素e在列表a中的下标位置，如果没有找到则报错                                            |     a.index(3)，输出2             |\n",
    "|     计算元素次数    |     a.count(e)                  |     计算元素e在列表a中出现的次数，如果没有出现则返回0                                           |     a.count(2)，输出1             |\n",
    "|     连接两个列表    |     a+b                         |     将列表b中各元素依次插入到列表a尾部，并返回一个新的列表                                      |     a+b，输出[1,2,3,4,7,6,5]      |\n",
    "|     列表重复        |     b*n                         |     列表b重复n次                                                                                |     b*2，输出[7,6,5,7,6,5]        |\n",
    "|     列表长度        |     len(a)                      |     获取列表a的长度，即列表中元素个数                                                           |     len(a)，输出4                 |\n",
    "|     排序            |     b.sort()                    |     一般根据同类元素列表的数据类型，对列表中各元素按“升序”排列。该函数改变原列表，且无返回值    |     b.sort，输出[5,6,7]           |\n",
    "|     排序            |     c=sorted(b)                 |     一般根据同类元素列表的数据类型，对列表中各元素按“升序”排列，得到新列表                      |     sorted(b)，输出[5,6,7]        |\n",
    "|     排序            |     c=sorted(b,reverse=True)    |     一般根据同类元素列表的数据类型，对列表中各元素按“降序”排列，得到新列表                      |     sorted(b)，输出[7,6,5]        |\n",
    "|     反转            |     a.reverse()                 |     按列表中元素的下标位置逆序输出各元素                                                        |     a.reverse()，输出[4,3,2,1]    |\n",
    "### 1.3.2 tuple元组、dict字典和set集合\n",
    "\n",
    "#### 1.3.2.1 tuple元组\n",
    "元组是一个不可改变的列表。不可改变意味着它不能被修改。元组只是逗号分隔的对象序列（不带括号的列表）。为了增加代码的可读性，通常将元组放在一对圆括号中：\n",
    "\n",
    "           my_tuple=1,2,3     #第一个元组\n",
    "           my_tuple=(1,2,3)   #与上面相同\n",
    "           singleton=1,       #逗号表明该对象是一个元组\n",
    "\n",
    "元组与列表类似，关于元组同样需要做三点说明：\n",
    "\n",
    "（1）元组通过英文状态下的圆括号构成，即() \n",
    "\n",
    "            a=()表示a为空元组\n",
    "            b1=(9,)表示b1为只有一个元素9的元组\n",
    "            b2=(9)表示b2为整数9\n",
    "\n",
    "（2）元组仍然是一种序列，所以几种获取列表元素的索引方法同样可以使用到元组对象中。\n",
    "\n",
    "（3）与列表最大的区别是，元组不再是一种可变类型的数据结构。\n",
    "\n",
    "由于元组只是存储数据的不可变容器，因此其只有两种可用的“方法”，分别是count和index，它们的功能与列表中的count和index方法完全一样。\n",
    "\n",
    "#### 1.3.2.2 dict字典\n",
    "字典是非常常用的一种数据结构，核心就是以键值对的形式存储数据，关于Python中的字典做如下四点说明：\n",
    "\n",
    "（1）构造字典对象需要使用大括号表示，即{}。每一个字典元素都是以键值对的形式存在，并且键值对之间用英文状态下的冒号隔开，即key: value。\n",
    "\n",
    "（2）键在字典中是唯一的，不能有重复，对于字符型的键需要用引号引起来。值可以是单个值，也可以是多个值构成的列表、元组或字典。\n",
    "\n",
    "（3）字典不再是序列，无法通过位置索引完成元素值的获取，只能通过键索引实现。\n",
    "\n",
    "（4）字典与列表一样，都是可变类型的数据结构。\n",
    "\n",
    "除了使用大括号“{}”来构造字典外，也可以使用dict()函数，或者先创建空的字典，再使用[]运算符以键设值。修改字典的方法必须针对“键”来设置该元素的新值。如果要新增字典的“键值”对，只要加入新的“键值”即可。\n",
    "\n",
    "语法范例如下："
   ]
  },
  {
   "cell_type": "code",
   "execution_count": null,
   "metadata": {},
   "outputs": [
    {
     "name": "stdout",
     "output_type": "stream",
     "text": [
      "{'姓名': '张三', '年龄': 33, '子女': {'子': '张四', '女': '张玲'}}\n",
      "33\n",
      "{'姓名': '张三', '年龄': 35, '子女': {'子': '张四', '女': '张玲'}}\n",
      "{'姓名': '张三', '年龄': 35, '子女': {'子': '张四', '女': '张玲'}, '户籍': '烟台'}\n",
      "{'姓名': '张三', '年龄': 35, '户籍': '烟台'}\n"
     ]
    }
   ],
   "source": [
    "d={'姓名':'张三','年龄':33,'子女':{'子':'张四','女':'张玲'}}  \n",
    "print(d)  \n",
    "print(d['年龄'])  \n",
    "d['年龄']=35    \n",
    "print(d)  \n",
    "d['户籍']='烟台'  \n",
    "print(d)   \n",
    "d.pop('子女')  \n",
    "print(d) "
   ]
  },
  {
   "cell_type": "markdown",
   "metadata": {},
   "source": [
    "#### 1.3.2.3 set集合\n",
    "在Python中，集合是一个无序排列的、不重复的集合体，类似于数学中的集合概念，可对其进行交、并、差等运算。集合和字典都属于无序集合体，有许多操作是一致的。\n",
    "\n",
    "##### 1、集合的创建\n",
    "在Python中，创建结合有两种方式：一种是用一对大括号将多个用逗号分隔的数据括起来；另一类是使用set()函数，该函数可以将字符串、列表、元组等类型的数据转换成集合类型的数据。\n",
    "\n",
    "注：创建一个空集合必须用set()而不是{}，因为{}是用来创建一个空字典。\n",
    "\n",
    "集合中不能有相同元素，如果在创建集合时有重复元素，Python会自动删除重复的元素。\n",
    "\n",
    "集合操作范例如下："
   ]
  },
  {
   "cell_type": "code",
   "execution_count": null,
   "metadata": {},
   "outputs": [
    {
     "name": "stdout",
     "output_type": "stream",
     "text": [
      "{'d', 'a', 'b', 'c', 'e'}\n",
      "[1, 2, 3, 5, 6]\n"
     ]
    }
   ],
   "source": [
    "a=set('abcde')  \n",
    "print(a)   \n",
    "b=[1,2,2,2,3,5,6,6]\n",
    "c=set(b)   \n",
    "print(list(c))  "
   ]
  },
  {
   "cell_type": "markdown",
   "metadata": {},
   "source": [
    "#### 2、集合的常用方法\n",
    "表1.8 集合的常用方法\n",
    "| 方法 | 意义 |\n",
    "| :--- | :--- |\n",
    "| s.add(x) | 在集合 s 中添加对象 x; 如果对象已经存在, 则不添加 |\n",
    "| s.remove( x) | 从集合 s 中删除 x, 若 x 不存在, 则引发 KeyError 错误 |\n",
    "| s.discard(x) | 如果 x 是 s 的成员, 则删除 x ；x 不存在, 也不出现错误 |\n",
    "| s.clear0 | 清空集合 s 中所有元素 |\n",
    "| s.copy0 | 将集合 s 进行一次浅拷贝 |\n",
    "| s.pop0 | 从集合 s 中删除第一个元素; 如果 s 为空, 则引发 KeyError 异常 |\n",
    "| s.update(s2) | 用 s 与 s2 得到的并集更新变量 s |\n",
    "\n",
    "\n",
    "集合的有些方法也可以用运算符实现，见表1.9<br/>\n",
    "表1.9 用运算符操作实现的方法\n",
    "| 方法 | 意义 |\n",
    "| :--- | :--- |\n",
    "| s.difference(s2) | 集合的差, 等同于 s=s-s2 |\n",
    "| s.intersection(s2) | 集合的交, 等同于 s=s&s2 |\n",
    "| s.symmetric_difference(s2) | 集合的对称差, 等同于 s=s^s2 |\n",
    "| s.union(s2) | 集合的并集, 等同于 s=s∣s2 |\n",
    "\n",
    "### 1.3.3 序列的一些使用操作\n",
    "#### 1、string字符串的使用操作\n",
    "内置函数str()可将数值数据转化为字符串，例如：\n"
   ]
  },
  {
   "cell_type": "code",
   "execution_count": null,
   "metadata": {},
   "outputs": [
    {
     "data": {
      "text/plain": [
       "'123'"
      ]
     },
     "execution_count": 9,
     "metadata": {},
     "output_type": "execute_result"
    }
   ],
   "source": [
    "str()     \n",
    "str(123)  "
   ]
  },
  {
   "cell_type": "markdown",
   "metadata": {},
   "source": [
    "要串接多个字符串，可以使用“+”符号，例如：\n"
   ]
  },
  {
   "cell_type": "code",
   "execution_count": null,
   "metadata": {},
   "outputs": [
    {
     "name": "stdout",
     "output_type": "stream",
     "text": [
      "大学中庸论语孟子\n"
     ]
    }
   ],
   "source": [
    " print('大学'+'中庸'+'论语'+'孟子')"
   ]
  },
  {
   "cell_type": "markdown",
   "metadata": {},
   "source": [
    "\n",
    "字符串的函数很多，下面介绍几个实用的函数。\n",
    "\n",
    "**（1）len()函数**  \n",
    "该函数获取字符串的长度。"
   ]
  },
  {
   "cell_type": "code",
   "execution_count": null,
   "metadata": {},
   "outputs": [
    {
     "data": {
      "text/plain": [
       "5"
      ]
     },
     "execution_count": 11,
     "metadata": {},
     "output_type": "execute_result"
    }
   ],
   "source": [
    "len('happy') "
   ]
  },
  {
   "cell_type": "markdown",
   "metadata": {},
   "source": [
    "**（2）count()函数**\n",
    "该函数找出子字符串出现的次数。"
   ]
  },
  {
   "cell_type": "code",
   "execution_count": null,
   "metadata": {},
   "outputs": [
    {
     "data": {
      "text/plain": [
       "3"
      ]
     },
     "execution_count": 12,
     "metadata": {},
     "output_type": "execute_result"
    }
   ],
   "source": [
    "str=\"Good Morning\"\n",
    "str.count('o')  "
   ]
  },
  {
   "cell_type": "markdown",
   "metadata": {},
   "source": [
    "**（3）eval()函数** \n",
    "\n",
    "该函数把字符串的内容作为对应的Python语句来执行。"
   ]
  },
  {
   "cell_type": "code",
   "execution_count": null,
   "metadata": {},
   "outputs": [
    {
     "data": {
      "text/plain": [
       "35"
      ]
     },
     "execution_count": 13,
     "metadata": {},
     "output_type": "execute_result"
    }
   ],
   "source": [
    "x='12+23'\n",
    "eval(x)    "
   ]
  },
  {
   "cell_type": "markdown",
   "metadata": {},
   "source": [
    "**（4）find()函数**  \n",
    "\n",
    "该函数从字符串中查找子字符串，返回值为子字符串所在位置的最左端索引。如果没有找到则返回-1。扩展的rfind()方法表示从右向左查找。\n",
    "\n",
    "例如，下面获取字符串“def”的位置，位于第3个位置（从0开始计数）。"
   ]
  },
  {
   "cell_type": "code",
   "execution_count": null,
   "metadata": {},
   "outputs": [],
   "source": [
    "str='abcdefghijk'\n",
    "ind=str.find('def')   "
   ]
  },
  {
   "cell_type": "markdown",
   "metadata": {},
   "source": [
    "**（5）split()函数**   \n",
    "\n",
    "该函数用于将字符串分割成序列，返回分割后的字符串列表。如果不提供分隔符，那么程序将会把所有空格作为分隔符。"
   ]
  },
  {
   "cell_type": "code",
   "execution_count": null,
   "metadata": {},
   "outputs": [],
   "source": [
    "str1=\"I am a student\"\n",
    "List1=str1.split()  \n",
    "str2=\"1,2,3,4\"\n",
    "List2=str2.split(',')  "
   ]
  },
  {
   "cell_type": "markdown",
   "metadata": {},
   "source": [
    "**（6）strip()函数** \n",
    " \n",
    "该函数用于去除字符串开头和结尾的空格字符（不包括字符串内部的空格），同时S.strip([chars])可去除指定字符。扩展的函数lstrip()用于去除字符串开始（最左边）的所有空格，rstrip()用于去除字符串尾部（最右边）的所有空格。\n",
    "\n",
    "例如，去除字符串前后两端的空格："
   ]
  },
  {
   "cell_type": "code",
   "execution_count": null,
   "metadata": {},
   "outputs": [
    {
     "name": "stdout",
     "output_type": "stream",
     "text": [
      "I am a teacher\n"
     ]
    }
   ],
   "source": [
    "str=\"    I am a teacher   \"\n",
    "print(str.strip()) "
   ]
  },
  {
   "cell_type": "markdown",
   "metadata": {},
   "source": [
    "**（7）join()函数**\n",
    "\n",
    "该函数通过某个字符拼接序列中的字符串元素，然后返回一个拼接好的字符串。可以认为join()函数是split()函数的逆方法。\n",
    "\n",
    "例如，采用空格（' '）（注意不是空字符，中间有一个空格）拼接字符串\n"
   ]
  },
  {
   "cell_type": "code",
   "execution_count": null,
   "metadata": {},
   "outputs": [
    {
     "name": "stdout",
     "output_type": "stream",
     "text": [
      "I am a teacher\n"
     ]
    }
   ],
   "source": [
    "List=['I','am','a','teacher']\n",
    "print(' '.join(List))   "
   ]
  },
  {
   "cell_type": "markdown",
   "metadata": {},
   "source": [
    "   \n",
    "\n",
    "#### 2、几个序列操作函数\n",
    "我们先给出Python匿名函数的定义。Python支持定义单行函数，称为lambda函数（也称为匿名函数），可以用在任何需要函数的地方。\n",
    "\n",
    "lambda函数是一个可以接收任意多个参数并且返回单个表达式值的函数。函数可以定义成lambda函数的形式。\n"
   ]
  },
  {
   "cell_type": "code",
   "execution_count": null,
   "metadata": {},
   "outputs": [
    {
     "name": "stdout",
     "output_type": "stream",
     "text": [
      "f(-3,2)= 11\n"
     ]
    }
   ],
   "source": [
    "f=lambda x,y: abs(x)+y**3\n",
    "print(\"f(-3,2)=\",f(-3,2))   "
   ]
  },
  {
   "cell_type": "markdown",
   "metadata": {},
   "source": [
    "\n",
    "**（1）map()函数**\n",
    "调用格式：map(func, *iterables)\n",
    "\n",
    "该函数接收一个函数func和一个列表，把函数func依次作用在列表的每个元素上，得到一个新的列表。例如：\n"
   ]
  },
  {
   "cell_type": "code",
   "execution_count": null,
   "metadata": {},
   "outputs": [
    {
     "data": {
      "text/plain": [
       "[0, 1, 4, 9, 16, 25]"
      ]
     },
     "execution_count": 19,
     "metadata": {},
     "output_type": "execute_result"
    }
   ],
   "source": [
    "a=map(pow,range(6),[2 for b in range(6)])\n",
    "list(a)  "
   ]
  },
  {
   "cell_type": "markdown",
   "metadata": {},
   "source": [
    "**（2）reduce()函数**\n",
    "\n",
    "调用格式：reduce(function, sequence[, initial])\n",
    "\n",
    "其中function是有两个参数的函数，sequence是元组、列表、字典和字符串等可迭代对象，initial是可选的初始值。\n",
    "\n",
    "工作过程：在迭代sequence的过程中，首先把前两个元素传给函数参数，函数加工后，然后把得到的结果和第三个元素作为两个参数传给函数参数，函数加工后得到的结果又和第四个元素作为两个参数传给函数参数，依次类推。如果传入了initial值，那么首先传的就不是sequence的第一个和第二个元素，而是initial值和第一个元素。经过这样的累计计算之后合并序列到一个单一返回值。\n",
    "\n",
    "例如，计算阶乘：\n"
   ]
  },
  {
   "cell_type": "code",
   "execution_count": null,
   "metadata": {},
   "outputs": [
    {
     "name": "stdout",
     "output_type": "stream",
     "text": [
      "120\n"
     ]
    }
   ],
   "source": [
    "from functools import reduce   #加载模块functools中的函数reduce\n",
    "print(reduce(lambda x,y: x*y, range(1,6)))   "
   ]
  },
  {
   "cell_type": "markdown",
   "metadata": {},
   "source": [
    "\n",
    "**（3）filter()函数**\n",
    "\n",
    "调用格式：filter(function or None, iterable)\n",
    "\n",
    "该函数通过function对iterable中的元素进行过滤，并返回一个迭代器（iterator），其中是function返回True的元素。如果function传入None，则返回所有本身可以判断为True的元素。\n"
   ]
  },
  {
   "cell_type": "code",
   "execution_count": null,
   "metadata": {},
   "outputs": [
    {
     "name": "stdout",
     "output_type": "stream",
     "text": [
      "[3, 6, 9, 12, 15, 18]\n"
     ]
    }
   ],
   "source": [
    "print(list(filter(lambda n: n%3==0, range(1,21))))  "
   ]
  },
  {
   "cell_type": "markdown",
   "metadata": {},
   "source": [
    "\n",
    "**（4）zip()函数**\n",
    "zip(列表1,列表2,…)：将多个列表或元组对应位置的元素组合为元组，并返回包含这些元组的zip对象。例如：\n"
   ]
  },
  {
   "cell_type": "code",
   "execution_count": null,
   "metadata": {},
   "outputs": [
    {
     "data": {
      "text/plain": [
       "[(1, 5), (2, 6), (3, 7), (4, 8)]"
      ]
     },
     "execution_count": 22,
     "metadata": {},
     "output_type": "execute_result"
    }
   ],
   "source": [
    "a=range(1,5)\n",
    "b=range(5,9)\n",
    "c=zip(a,b)\n",
    "list(c)      "
   ]
  },
  {
   "cell_type": "code",
   "execution_count": null,
   "metadata": {},
   "outputs": [
    {
     "data": {
      "text/plain": [
       "[(1, 2, 3, 4), (5, 6, 7, 8)]"
      ]
     },
     "execution_count": 23,
     "metadata": {},
     "output_type": "execute_result"
    }
   ],
   "source": [
    "a=range(1,5)\n",
    "b=range(5,9)\n",
    "c=zip(a,b)\n",
    "list(zip(*zip(a,b))) "
   ]
  },
  {
   "cell_type": "markdown",
   "metadata": {},
   "source": [
    "\n",
    "**（5）enumerate()函数**\n",
    "该函数枚举列表、元组或其他可迭代对象的元素，返回枚举对象，枚举对象中的每个元素是包含下标和元素值的元组。该函数对字符串、字典同样有效。例如：\n"
   ]
  },
  {
   "cell_type": "code",
   "execution_count": null,
   "metadata": {},
   "outputs": [
    {
     "name": "stdout",
     "output_type": "stream",
     "text": [
      "(0, (1, 5))\n",
      "(1, (2, 6))\n",
      "(2, (3, 7))\n"
     ]
    }
   ],
   "source": [
    "a=[(1, 5), (2, 6), (3, 7)]\n",
    "for b in enumerate(a): print(b) "
   ]
  },
  {
   "cell_type": "markdown",
   "metadata": {},
   "source": [
    "\n",
    "   再看一下enumerate()函数用于列表推导式：\n"
   ]
  },
  {
   "cell_type": "code",
   "execution_count": null,
   "metadata": {},
   "outputs": [
    {
     "name": "stdout",
     "output_type": "stream",
     "text": [
      "[1, 2, 3]\n",
      "[5, 6, 7]\n"
     ]
    }
   ],
   "source": [
    "a=[(1, 5), (2, 6), (3, 7)]\n",
    "print([value[0] for (ind,value) in enumerate(a)])  \n",
    "print([value[1] for (ind,value) in enumerate(a)])  "
   ]
  },
  {
   "cell_type": "markdown",
   "metadata": {},
   "source": [
    "\n",
    "#### 3、列表推导式和元组生成器推导式\n",
    "\n",
    "（1）列表推导式\n",
    "\n",
    "列表推导式可以说是Python程序开发时应用最多的技术之一。列表推导式在一个序列的值上应用一个任意表达式，将其结果收集到一个新的列表中并返回。它的基本形式是一个中括号里面包含一个for语句对一个可迭代对象进行迭代。例如：\n"
   ]
  },
  {
   "cell_type": "code",
   "execution_count": null,
   "metadata": {},
   "outputs": [
    {
     "name": "stdout",
     "output_type": "stream",
     "text": [
      "[[0, 0, 0, 0, 0, 0], [0, 0, 0, 0, 0, 0], [0, 0, 0, 0, 0, 0], [0, 0, 0, 0, 0, 0]]\n"
     ]
    }
   ],
   "source": [
    "B=[[0]*6 for i in range(4)]\n",
    "print(B)"
   ]
  },
  {
   "cell_type": "markdown",
   "metadata": {},
   "source": [
    "\n",
    "（2）元组生成器推导式\n",
    "\n",
    "从形式上看，元组生成器推导式与列表推导式非常接近，只是元组生成器推导式使用圆括号而不是列表推导式所使用的方括号。与列表推导式不同的是，元组生成器推导式的结果是一个生成器对象，而不是列表，也不是元组。使用生成器对象的元素时，需要将其转化为列表或元组。例如：\n"
   ]
  },
  {
   "cell_type": "code",
   "execution_count": null,
   "metadata": {},
   "outputs": [
    {
     "name": "stdout",
     "output_type": "stream",
     "text": [
      "(1, 4, 9, 16, 25, 36)\n"
     ]
    }
   ],
   "source": [
    "g1=((i+1)**2 for i in range(6))\n",
    "g2=tuple(g1)   \n",
    "print(g2)"
   ]
  },
  {
   "cell_type": "markdown",
   "metadata": {},
   "source": [
    "\n",
    "## 1.4 函数\n",
    "为了增加代码的可重用性、可读性和可维护性，程序设计语言一般都提供函数这种机制来组织代码。\n",
    "\n",
    "Python函数包括内置函数和第三方模块函数，对于这些现成的函数用户可以直接拿来使用。另外，有一类函数是用户自己编写的，通常称为自定义函数。\n",
    "\n",
    "### 1.4.1 自定义函数语法\n",
    "Python中自定义函数的语法如下：\n",
    "         def functionName(formalParameters)：\n",
    "\n",
    "functionBody\n",
    "\n",
    "（1）functionName是函数名，可以是任何有效的Python标识符。\n",
    "\n",
    "（2）formalParameters是形式参数（简称形参）列表，在调用该函数时通过给形参赋值来传递调用值，形参可以有多个、一个或零个参数组成，当有多个参数时各个参数由逗号分隔；圆括号是必不可少的，即使没有参数也不能没有它。括号外面的冒号也不能少。\n",
    "\n",
    "（3）functionBody是函数体，是函数每次被调用时执行的一组语句，可以由一个语句或多个语句组成。多个语句的函数体一定要注意缩进。\n",
    "\n",
    "函数通常使用三个单引号'''...'''来注释说明函数；函数体内容不可为空，可用pass来表示空语句。在函数调用时，函数名后面括号中的变量名称称为实际参数（简称实参）。定义函数时需要注意以下两点：\n",
    "\n",
    "（1）函数定义必须放在函数调用前，否则编译器会由于找不到该函数而报错。\n",
    "\n",
    "（2）返回值不是必需的，如果没有return语句，则Python默认返回值None。"
   ]
  },
  {
   "cell_type": "code",
   "execution_count": null,
   "metadata": {},
   "outputs": [
    {
     "name": "stdout",
     "output_type": "stream",
     "text": [
      "120\n"
     ]
    }
   ],
   "source": [
    "def factorial(n):\n",
    "    r = 1\n",
    "    while n > 1: r *= n; n -= 1\n",
    "    return r\n",
    "print(factorial(5)) "
   ]
  },
  {
   "cell_type": "markdown",
   "metadata": {},
   "source": [
    "### 1.4.2 自定义函数的四种参数\n",
    "#### 1、位置参数\n",
    "函数调用时的参数通常采用按位置匹配的方式，即实参按顺序传递给相应位置的形参。这些实参的数目应与形参完全匹配。\n",
    "\n",
    "#### 2、默认参数\n",
    "默认参数是指在构造自定义函数的时候已经给某些参数赋予了各自的初值，当调用函数时，这样的参数可以不用传值，默认参数必须指向不变对象。\n",
    "\n",
    "例如计算1到的次方和"
   ]
  },
  {
   "cell_type": "code",
   "execution_count": null,
   "metadata": {},
   "outputs": [
    {
     "name": "stdout",
     "output_type": "stream",
     "text": [
      "1到10的2次方和为385\n",
      "1到10的3次方和为3025\n"
     ]
    }
   ],
   "source": [
    "def square_sum(n, p=2):\n",
    "    result=sum([i**p for i in range(1, n+1)])\n",
    "    return (n, p, result)\n",
    "print(\"1到%d的%d次方和为%d\"%square_sum(10))\n",
    "print(\"1到%d的%d次方和为%d\"%square_sum(10,3))"
   ]
  },
  {
   "cell_type": "markdown",
   "metadata": {},
   "source": [
    "#### 3、可变参数\n",
    "上面的必选参数和默认参数都是在已知这个自定义函数需要多少个形参的情况下构建的，如果不确定该给自定义函数传入多少个参数值时，就需要Python提供可变参数。\n",
    "\n",
    "例如两个数的求和函数："
   ]
  },
  {
   "cell_type": "code",
   "execution_count": null,
   "metadata": {},
   "outputs": [
    {
     "name": "stdout",
     "output_type": "stream",
     "text": [
      "10加13的和为23\n"
     ]
    }
   ],
   "source": [
    "def add(a,b): s=sum([a,b]); return (a,b,s)\n",
    "print(\"%d加%d的和为%d\"%add(10,13))  "
   ]
  },
  {
   "cell_type": "markdown",
   "metadata": {},
   "source": [
    "如果要求任意个数的和，必须使用可变参数，可变参数允许你传入0个或任意个参数，这些可变参数在函数调用时自动组装为一个元组。"
   ]
  },
  {
   "cell_type": "code",
   "execution_count": null,
   "metadata": {},
   "outputs": [
    {
     "name": "stdout",
     "output_type": "stream",
     "text": [
      "(10, 12, 6, 8)的和为36\n"
     ]
    }
   ],
   "source": [
    "def add(*args): print(args, end=''); s=sum(args); return(s)\n",
    "print(\"的和为%d\"%add(10,12,6,8))"
   ]
  },
  {
   "cell_type": "markdown",
   "metadata": {},
   "source": [
    "#### 4、关键字参数\n",
    "虽然一个可变参数可以接受多个实参，但是这些实参都被捆绑为元组了，而且无法将具体的实参指定给具体的形参，那么有没有一种参数既可以接受多个实参，又可以把多个实参指定给各自的实参名呢？答案是关键字参数，而且这种参数会把带参数名的参数值组装到一个字典中，键就是具体的实参名，值就是传入的参数值。"
   ]
  },
  {
   "cell_type": "code",
   "execution_count": null,
   "metadata": {},
   "outputs": [
    {
     "name": "stdout",
     "output_type": "stream",
     "text": [
      "name: Michael age: 30 other: {}\n",
      "name: Bob age: 35 other: {'city': 'Beijing'}\n",
      "name: Adam age: 45 other: {'gender': 'M', 'job': 'Engineer'}\n"
     ]
    }
   ],
   "source": [
    "def person(name, age, **kw):\n",
    "    print('name:', name, 'age:', age, 'other:', kw)\n",
    "person('Michael', 30) \n",
    "person('Bob', 35, city='Beijing')\n",
    "person('Adam', 45, gender='M', job='Engineer')"
   ]
  },
  {
   "cell_type": "markdown",
   "metadata": {},
   "source": [
    "如上面程序所示，在自定义函数person中，name和age是位置参数，kw为关键字参数。当调用函数时，name和age两个参数必须要传入对应的值，而其他的参数都是用户任意填写的，并且关键字参数会把这些任意填写的信息组装为字典。\n",
    "\n",
    "在Python中定义函数，可以用位置参数、默认参数、可变参数、关键字参数，这4种参数都可以组合使用。但是请注意，参数定义的顺序必须是：位置参数、默认参数、可变参数、关键字参数。\n",
    "\n",
    "### 1.4.3参数传递\n",
    "#### 1、参数传递方式\n",
    "\n",
    "（1）传值（call by value）调用：表示在调用函数时，会将自变量的值逐个复制给函数的参数，在函数中对参数值所做的任何修改都不会影响原来的自变量值。\n",
    "\n",
    "（2）传址（pass by reference）调用：表示在调用函数时，所传递函数的参数值是变量的内存地址，参数值的变动连带着也会影响原来的自变量值。\n",
    "\n",
    "在Python语言中，当传递的数据是不可变对象（如数值、字符串）时，在传递参数时，会先复制一份再进行传递。但是，如果所传递的数据是可变对象（如列表），Python在传递参数时，会直接以内存地址来传递。简单地说，如果可变对象在函数中被修改了内容值，因为占用的是同一个地址，所以会连带影响函数外部的值。\n",
    "\n",
    "以下是函数传值调用的范例"
   ]
  },
  {
   "cell_type": "code",
   "execution_count": null,
   "metadata": {},
   "outputs": [
    {
     "name": "stdout",
     "output_type": "stream",
     "text": [
      "调用函数前的数值：a=10,\tb=15\n",
      "-----------------------------------\n",
      "函数内交换数值后：a=15,\tb=10\n",
      "-----------------------------------\n",
      "调用函数后的数值：a=10,\tb=15\n"
     ]
    }
   ],
   "source": [
    "def fun(a,b):\n",
    "    a, b = b, a;\n",
    "    print(\"函数内交换数值后：a=%d,\\tb=%d\"%(a,b))\n",
    "a=10; b=15\n",
    "print(\"调用函数前的数值：a=%d,\\tb=%d\"%(a,b))\n",
    "print(\"-----------------------------------\")\n",
    "fun(a,b)   \n",
    "print(\"-----------------------------------\")\n",
    "print(\"调用函数后的数值：a=%d,\\tb=%d\"%(a,b))"
   ]
  },
  {
   "cell_type": "markdown",
   "metadata": {},
   "source": [
    "#### 2、参数传递的复合数据解包\n",
    "传递参数时，可以使用Python列表、元组、集合、字典以及其他可迭代对象作为实参，并在实参名称前加一个星号，Python解释器将自动进行解包，然后传递给多个单变量形参。但需要注意的是，如果使用字典作为实参，则默认使用字典的键，如果需要将字典中的键-值对作为参数则需要使用items()方法，如果需要将字典的值作为参数则需要调用字典的values()方法。最后，请保证实参中元素个数与形参个数相等，否则出现错误。"
   ]
  },
  {
   "cell_type": "code",
   "execution_count": null,
   "metadata": {},
   "outputs": [
    {
     "name": "stdout",
     "output_type": "stream",
     "text": [
      "三个数的和为： 6\n",
      "三个数的和为： 6\n",
      "三个数的和为： 6\n",
      "三个数的和为： 6\n"
     ]
    }
   ],
   "source": [
    "def fun(a,b,c): print(\"三个数的和为：\",a+b+c)\n",
    "seq=[1,2,3]; fun(*seq)                 \n",
    "tup=(1,2,3); fun(*tup)                 \n",
    "dic={1:'a', 2:'b', 3:'c'}; fun(*dic)   \n",
    "set={1,2,3}; fun(*set)   "
   ]
  },
  {
   "cell_type": "markdown",
   "metadata": {},
   "source": [
    "### 1.4.4 两种特殊函数\n",
    "\n",
    "（1）匿名函数\n",
    "\n",
    "指没有函数名的简单函数，只可以包含一个表达式，不允许包含其他复杂的语句，表达式的结果是函数的返回值。\n",
    "\n",
    "（2）递归函数\n",
    "指一个函数的函数体中又直接或间接地调用该函数本身的函数。如果函数a中又调用函数a本身，则称函数a为**直接递归**。如果函数a中先调用函数b，函数b中又调用函数a，则称函数a为**间接递归**。程序设计中常用的是直接递归。\n",
    "\n",
    "注：编写递归程序要注意两点：一要找出正确的递归算法，这是编写递归程序的基础；而要确定算法的递归结束条件，这是决定递归程序能否正常结束的关键。\n",
    "\n",
    "### 1.4.5 导入模块\n",
    "随着程序的变大及代码的增多，为了更好地维护程序，一般会把代码进行分类，分别放在不同的文件中。公共类、函数都可以放在独立的文件中，这样其他多个程序都可以使用，而不必把这些公共的类、函数等在每个程序中复制一份，这样独立的文件就叫做**模块**。\n",
    "\n",
    "**4种导入模块的方式**\n",
    "\n",
    "1.import 模块名 [as 别名]\n",
    "\n",
    "使用这种方式导入以后，使用时需要在对象之前加上模块名作为前缀，即必须以“模块名.对象名”的形式进行访问。如果模块名字很长的话，可以为导入的模块设置一个别名，然后使用“别名.对象名”的方式来使用其中的对象。\n",
    "\n",
    "2.from 模块名 import 对象名 [as 别名]\n",
    "\n",
    "使用这种方式仅导入明确指定的对象，并且可以为导入的对象确定一个别名。这种导入方式可以减少查询次数，提高访问速度；同时也可以减少程序员需要输入的代码量，因为不需要使用模块名作为前缀。\n",
    "\n",
    "注:注意import random和import numpy.random的差别，import random是导入Python基础库的random模块，import numpy.random是导入numpy库的random模块，建议以后使用函数时，尽量使用numpy库中的函数，它的函数可以对向量进行运算，而基础库中的函数一般对标量进行运算。基础库中的random.randint()函数无法产生向量，numpy库中的numpy.random.randint()函数可以产生向量。\n",
    "\n",
    "3.from 模块名 import *\n",
    "\n",
    "这是第2种用法的一种极端情况，可以一次导入模块中通过_ _all_ _变量指定的所有对象。使用这种一次导入库或模块中所有对象的方式固然简单省事，但是并不推荐使用，一旦多个模块中有同名的对象，这种方式将会导致混乱。建议使用什么函数就导入什么函数。\n",
    "\n",
    "注: Python的帮助和MATLAB的帮助是类似，看numpy库的模块和帮助信息，使用命令：\n",
    "\n",
    "            help(numpy) 或 help(\"numpy\")\n",
    "\n",
    "这里使用help(\"numpy\")不需要预先加载numpy库，使用help(numpy)需要预先加载numpy库。\n",
    "\n",
    "看numpy库中random模块的帮助，使用命令：\n",
    "  \n",
    "            help(numpy.random) 或 help(\"numpy.random\")\n",
    "\n",
    "可以看到numpy.random模块中所有对象的信息。如果只看numpy.random模块中的函数名使用命令dir(\"numpy.random\")。\n",
    "\n",
    "看numpy.random模块中的函数randint()的帮助，使用命令：\n",
    " \n",
    "            from numpy.random import randint 或 help(randint)\n",
    "\n",
    "4.自定义模块的导入\n",
    "\n",
    "通常用户将多个函数收集在一个脚本文件中，创建一个用户自定义的Python模块。\n"
   ]
  },
  {
   "cell_type": "markdown",
   "metadata": {},
   "source": [
    "## 1.5 Python程序的书写规则\n",
    "### 1 语法规则"
   ]
  },
  {
   "cell_type": "markdown",
   "metadata": {},
   "source": [
    "(1)缩进：**缩进是Python的一种语法规则，具有特殊含义**。\n",
    "\n",
    "Python用行首前的4个空格来表示行与行间的层次关系。代码缩进一般用在if、while等控制语句和函数定义、类定义等语句中。例1.11的while循环语句中，`sum=sum+1`和`i=i+1`这两条语句是while语句的循环体，所以这两条语句前必须加入4个空格进行缩进。而后面的`print()`语句不属于while语句，所以不需要缩进。\n",
    "\n",
    "另外，缩进是可以嵌套的，缩进的层次不同，则语句间的从属关系不同。\n",
    "\n"
   ]
  },
  {
   "cell_type": "markdown",
   "metadata": {},
   "source": [
    "（2）冒号：**冒号是Python的一种语句规则，具有特殊的含义。**\n",
    "\n",
    "在Python中，冒号和缩进通常配合使用，用来区分语句之间的层次关系。例如，在if和while等控制语句以及函数定义、类定义等语句后面要紧跟冒号`:`，然后在新的一行中缩进4个空格，输入语句主体。\n",
    "\n"
   ]
  },
  {
   "cell_type": "markdown",
   "metadata": {},
   "source": [
    "（3）空行：**空行不是Python的一种语法规则。**\n",
    "\n",
    "当存在多个函数、类定义或相对独立的代码块时，函数间、类间或代码块间常用空行分隔，使得程序更加清晰、易读。\n",
    "\n"
   ]
  },
  {
   "cell_type": "markdown",
   "metadata": {},
   "source": [
    "### 2. 注释\n",
    "\n",
    "注释用于在程序中解释变量的定义、说明函数的功能、标注程序模块的创建者和创建模块的时间等，以便帮助编程者和阅读者能够更好地理解程序。\n",
    "\n",
    "据统计，一个好的可维护性和可读性都很强的程序一般包含30%以上的注释，注释对于团队合作开发具有非常重要的意义。\n"
   ]
  },
  {
   "cell_type": "markdown",
   "metadata": {},
   "source": [
    "Python中有以下两种添加注释的方式。\n",
    "\n",
    "    （1）单行注释：以\"#\"开头的一行信息。\n",
    "    （2）多行注释：包含在一对三引号'''…'''或\"\"\"…\"\"\"之间的内容将被解释器认为是注释。\n",
    "\n",
    "    \n",
    "在IDLE开发环境中，可以通过下面的操作快速注释/解除注释代码块：\n",
    "Format→Commet Out Region/Uncomment Region\n",
    "或者使用快捷键Alt+3和Alt+4进行代码块的批量注释和解除注释。\n"
   ]
  },
  {
   "cell_type": "markdown",
   "metadata": {},
   "source": [
    "### 3.语句行等其他事项\n",
    "\n",
    "在Python中，程序中的第一行可执行语句或Python解释器提示符后的第一列开始，前面不能有任何空格，否则会产生语法错误。每个语句行以回车符结束。可以在同一行中使用多条语句。语句之间使用分号分割。\n"
   ]
  },
  {
   "cell_type": "markdown",
   "metadata": {},
   "source": [
    "如果语句行太长，可以使用反斜杠将一行语句分为多行显示，例如\n",
    "\n",
    "``s=1+1/2+1/3+1/4+1/5+1/6+1/7+\\``\n",
    "\n",
    "`1/8+1/9`\n",
    "\n",
    "如果一行语句太长，可以使用续行符\\，但一般建议使用括号来包含多行内容。\n"
   ]
  },
  {
   "cell_type": "code",
   "execution_count": null,
   "metadata": {},
   "outputs": [
    {
     "name": "stdout",
     "output_type": "stream",
     "text": [
      "sum= 500500\n"
     ]
    }
   ],
   "source": [
    "#程序文件Pex1_12.py\n",
    "#python  语句规范\n",
    "i = 1\n",
    "sum = 0\n",
    "while i <= 1000:\n",
    "    sum = sum+i\n",
    "    i = i+1\n",
    "print(\"sum=\", sum)\n"
   ]
  },
  {
   "cell_type": "markdown",
   "metadata": {},
   "source": [
    "# 第二章 数据处理与可视化"
   ]
  },
  {
   "cell_type": "markdown",
   "metadata": {},
   "source": [
    "## 2.1数值计算工具numpy\n",
    "\n",
    "基本可分为两种类型：\n",
    "+    ndarray（N-dimensional Array Object）\n",
    "    是存储单一数据类型的多维数组，（常用参数axis=n代表在第n维度的方向上）\n",
    "+    ufunc（Universal Function Object）\n",
    "    是能够对数组进行处理的通用函数。"
   ]
  },
  {
   "cell_type": "markdown",
   "metadata": {},
   "source": [
    "### 2.1.1  数组的创建、属性和操作\n",
    "**通过NumPy库的array函数实现数组的创建**。\n",
    "+ 如果向array函数中传入了一个列表或元组，将构造简单的一维数组；\n",
    "+ 如果传入多个嵌套的列表或元组，则可以构造一个二维数组。构成数组的元素都具有相同的数据类型。下面分别构造一维数组和二维数组。"
   ]
  },
  {
   "cell_type": "markdown",
   "metadata": {},
   "source": [
    "(1) 数组的创建"
   ]
  },
  {
   "cell_type": "code",
   "execution_count": null,
   "metadata": {},
   "outputs": [
    {
     "name": "stdout",
     "output_type": "stream",
     "text": [
      "一维数组： [ 2  4  8 20 16 30]\n",
      "二维数组：\n",
      " [[ 1.  2.  3.  4.  5.]\n",
      " [ 6.  7.  8.  9. 10.]\n",
      " [10.  9.  1.  2.  3.]\n",
      " [ 4.  5.  6.  8.  9.]]\n"
     ]
    }
   ],
   "source": [
    "# 例2.1  利用array函数创建数组示例。\n",
    "#程序文件Pex2_1.py\n",
    "import numpy as np    #导入模块并命名为np\n",
    "a = np.array([2,4,8,20,16,30])  #单个列表创建一维数组\n",
    "#嵌套元组创建二维数组\n",
    "b = np.array(((1,2,3,4,5),(6,7,8,9,10),\n",
    "              (10,9,1,2,3),(4,5,6,8,9.0)))\n",
    "print(\"一维数组：\",a)\n",
    "print(\"二维数组：\\n\",b)"
   ]
  },
  {
   "cell_type": "markdown",
   "metadata": {},
   "source": [
    "> 如上结果所示，可以将列表或元组转换为一个数组。<br>在第二个数组b中，输入的元素含有整型和浮点型两种数据类型，但输出的数组元素都转化为相同的浮点型。"
   ]
  },
  {
   "cell_type": "code",
   "execution_count": null,
   "metadata": {},
   "outputs": [],
   "source": [
    "# 例2.2  利用arange、linspace、empty等函数生成数组示例。\n",
    "#程序文件Pex2_2.py\n",
    "import numpy as np\n",
    "a=np.arange(4,dtype=float)  #创建浮点型数组：[0., 1.,2., 3.]\n",
    "b=np.arange(0,10,2,dtype=int)  #创建整型数组：[0, 2, 4, 6, 8]\n",
    "c=np.empty((2,3),int)   #创建2×3的整型空矩阵\n",
    "d=np.linspace(-1,2,5)  #创建数组：[-1., -0.25,  0.5,  1.25,  2.]\n",
    "e=np.random.randint(0,3,(2,3))  #生成[0,3)上的2行3列的随机整数数组"
   ]
  },
  {
   "cell_type": "markdown",
   "metadata": {},
   "source": [
    "> empty函数只分配数组所使用的内存，不对数组元素值进行初始化操作，因此它的运行速度是最快的  <br>\n",
    "    上述程序中`c=np.empty((2,3),int)`的返回值是随机的，每次运行都是不一样的。"
   ]
  },
  {
   "cell_type": "code",
   "execution_count": null,
   "metadata": {},
   "outputs": [
    {
     "name": "stdout",
     "output_type": "stream",
     "text": [
      "x=[[0.         0.         0.         0.         0.        ]\n",
      " [0.66666667 0.66666667 0.66666667 0.66666667 0.66666667]\n",
      " [1.33333333 1.33333333 1.33333333 1.33333333 1.33333333]\n",
      " [2.         2.         2.         2.         2.        ]]\n",
      "y=[[10.  12.5 15.  17.5 20. ]\n",
      " [10.  12.5 15.  17.5 20. ]\n",
      " [10.  12.5 15.  17.5 20. ]\n",
      " [10.  12.5 15.  17.5 20. ]]\n"
     ]
    }
   ],
   "source": [
    "# 例2.3  使用虚数单位“j”生成数组。\n",
    "#程序文件Pex2_3.py\n",
    "import numpy as np  \n",
    "a=np.linspace(0,2,5)   #生成数组：[0., 0.5, 1., 1.5, 2.]\n",
    "b=np.mgrid[0:2:5j]     #等价于np.linspace(0,2,5)\n",
    "x,y=np.mgrid[0:2:4j,10:20:5j]  #生成[0,2]×[10,20]上的4×5的二维数组\n",
    "print(\"x={}\\ny={}\".format(x,y))"
   ]
  },
  {
   "cell_type": "markdown",
   "metadata": {},
   "source": [
    "(2) 数组属性 "
   ]
  },
  {
   "cell_type": "markdown",
   "metadata": {},
   "source": [
    "|       属性      |                                    说明                                   |\n",
    "|:---------------:|:-------------------------------------------------------------------------:|\n",
    "|       ndim      |                           返回int，表示数组的维数                         |\n",
    "|       size      |     返回int，表示数组的元素总数，等于shape属性返回元组中所有元素的乘积    |\n",
    "|       dtype     |                                返回数据类型                               |\n",
    "|     itemsize    |               返回int，表示数组每个元素的大小（以字节为单位）             |\n",
    "|      shape      |            返回元组，表示数组的尺寸，对于`m`行`n` 列的矩阵，返回值为`(m,n)`           |"
   ]
  },
  {
   "cell_type": "markdown",
   "metadata": {},
   "source": [
    "例2.4  生成一个 的 上取值的随机整数矩阵，并显示它的各个属性。\n",
    "\n"
   ]
  },
  {
   "cell_type": "code",
   "execution_count": null,
   "metadata": {},
   "outputs": [
    {
     "name": "stdout",
     "output_type": "stream",
     "text": [
      "维数： 2\n",
      "维度： (3, 5)\n",
      "元素总数： 15\n",
      "类型： int32\n",
      "每个元素字节数： 4\n"
     ]
    }
   ],
   "source": [
    "#程序文件Pex2_4.py\n",
    "import numpy as np\n",
    "a=np.random.randint(1,11,(3,5))  #生成[1,10]区间上3行5列的随机整数数组\n",
    "print(\"维数：\",a.ndim);   #维数：2\n",
    "print(\"维度：\",a.shape)       #维度：（3,5）\n",
    "print(\"元素总数：\",a.size);    #元素总数：15\n",
    "print(\"类型：\",a.dtype)       #类型：int32\n",
    "print(\"每个元素字节数：\",a.itemsize)  #字节数：4"
   ]
  },
  {
   "cell_type": "markdown",
   "metadata": {},
   "source": [
    "例2.5  生成数学上一维向量的三种模式。\n"
   ]
  },
  {
   "cell_type": "code",
   "execution_count": null,
   "metadata": {},
   "outputs": [
    {
     "name": "stdout",
     "output_type": "stream",
     "text": [
      "维度为： (3,)\n",
      "维度为： (1, 3)\n",
      "维度为： (3, 1)\n"
     ]
    }
   ],
   "source": [
    "#程序文件Pex2_5.py\n",
    "import numpy as np\n",
    "a=np.array([1,2,3])\n",
    "print(\"维度为：\",a.shape)    #维度为：（3,)\n",
    "b=np.array([[1,2,3]])\n",
    "print(\"维度为：\",b.shape)    #维度为：（1,3）\n",
    "c=np.array([[1],[2],[3]])\n",
    "print(\"维度为：\",c.shape)    #维度为：（3,1）"
   ]
  },
  {
   "cell_type": "markdown",
   "metadata": {},
   "source": [
    "> 注： 形状`(1,n)`，`(n,1)` ，`(n,)` 的array数组意义是不同的;<br>形状为 `(n,)`的一维数组既可以看成行向量，又可以看成列向量，它的转置不变。\n",
    "\n"
   ]
  },
  {
   "cell_type": "markdown",
   "metadata": {},
   "source": [
    "(3)数组元素的索引\n",
    "\n",
    "\n",
    "NumPy中的array数组与Python基础数据结构列表（list）的区别是：列表中的元素可以是不同的数据类型，而array数组只允许存储相同的数据类型。\n",
    "\n",
    "    ①对于一维数组来说，Python原生的列表和NumPy的数组的切片操作都是相同的，无非是记住一个规则：列表名（或数组名）[start: end: step]，但不包括索引end对应的值。\n",
    "        \n",
    "    ②二维数据列表元素的引用方式为a[i][j]；array数组元素的引用方式为a[i,j]。\n"
   ]
  },
  {
   "cell_type": "markdown",
   "metadata": {},
   "source": [
    "NumPy比一般的Python 序列提供更多的索引方式。除了用整数和切片的一般索引外，数组还可以布尔索引及花式索引。"
   ]
  },
  {
   "cell_type": "markdown",
   "metadata": {},
   "source": [
    "①一般索引"
   ]
  },
  {
   "cell_type": "markdown",
   "metadata": {},
   "source": [
    "数组索引示例"
   ]
  },
  {
   "cell_type": "code",
   "execution_count": null,
   "metadata": {},
   "outputs": [
    {
     "name": "stdout",
     "output_type": "stream",
     "text": [
      "[ 8 20 30]\n",
      "[30 16 20]\n",
      "8.0\n",
      "[10.  9.  1.  2.  3.]\n",
      "[10.  9.  1.  2.  3.]\n",
      "[2. 7. 9. 5.]\n",
      "[[9. 1. 2.]\n",
      " [5. 6. 8.]]\n",
      "[[7. 8.]\n",
      " [9. 1.]]\n"
     ]
    }
   ],
   "source": [
    "#程序文件Pex2_6.py\n",
    "import numpy as np\n",
    "a = np.array([2,4,8,20,16,30])  \n",
    "b = np.array(((1,2,3,4,5),(6,7,8,9,10),\n",
    "              (10,9,1,2,3),(4,5,6,8,9.0)))\n",
    "print(a[[2,3,5]])  #一维数组索引，输出：[ 8 20 30]\n",
    "print(a[[-1,-2,-3]])   #一维数组索引，输出：[30 16 20]\n",
    "print(b[1,2])  #输出第2行第3列元素：8.0\n",
    "print(b[2])    #输出第3行元素：[10.  9.  1.  2.  3.]\n",
    "print(b[2,:])  #输出第3行元素：[10.  9.  1.  2.  3.]\n",
    "print(b[:,1])  #输出第2列所有元素：[2.  7.  9.  5.]\n",
    "print(b[[2,3],1:4])  #输出第3、4行，第2、3、4列的元素\n",
    "print(b[1:3,1:3])    #输出第2、3行，第2、3列的元素"
   ]
  },
  {
   "cell_type": "markdown",
   "metadata": {},
   "source": [
    "> 如上结果所示，在一维数组的索引中，可以将任意位置的索引组装为列表，用作对应元素的获取；<br>在二维数组中，位置索引必须写成[rows,cols]的形式，方括号的前半部分用于控制二维数组的行索引，后半部分用于控制数组的列索引。如果需要获取所有的行或列元素，那么，对应的行索引或列索引需要用英文状态的冒号表示。\n",
    "\n"
   ]
  },
  {
   "cell_type": "markdown",
   "metadata": {},
   "source": [
    "②布尔索引"
   ]
  },
  {
   "cell_type": "markdown",
   "metadata": {},
   "source": [
    "布尔索引示例"
   ]
  },
  {
   "cell_type": "code",
   "execution_count": null,
   "metadata": {},
   "outputs": [
    {
     "name": "stdout",
     "output_type": "stream",
     "text": [
      "b= [1. 2. 4. 3.]\n",
      "b中大于2的元素有： [4. 3.]\n"
     ]
    }
   ],
   "source": [
    "#程序文件Pex2_7.py\n",
    "from numpy import array, nan, isnan\n",
    "a=array([[1, nan, 2], [4, nan, 3]])\n",
    "b=a[~isnan(a)]  #提取a中非nan的数\n",
    "print(\"b=\",b)\n",
    "print(\"b中大于2的元素有：\", b[b>2])"
   ]
  },
  {
   "cell_type": "markdown",
   "metadata": {},
   "source": [
    "③花式索引\n",
    "\n",
    "**花式索引的索引值是一个数组。**\n",
    "\n",
    "对于使用一维整型数组作为索引，如果被索引数据是一维数组，那么索引的结果就是对应位置的元素；如果被索引数据是二维数组，那么就是对应下标的行。  \n",
    "\n",
    "对于二维被索引数据来说，索引值可以是二维数据，当索引值为两个维度相同的一维数组组成的二维数组时，以两个维度作为横纵坐标索引出单值后组合成新的一维数组。\n"
   ]
  },
  {
   "cell_type": "code",
   "execution_count": null,
   "metadata": {},
   "outputs": [
    {
     "name": "stdout",
     "output_type": "stream",
     "text": [
      "前两行元素为：\n",
      " [[1 2]\n",
      " [3 4]]\n",
      "x[0][0]和x[1][1]为： [1 4]\n",
      "以下两种格式是一样的：\n",
      "[[1 2]\n",
      " [3 4]]\n",
      "[[1 2]\n",
      " [3 4]]\n"
     ]
    }
   ],
   "source": [
    "#程序文件Pex2_8.py\n",
    "from numpy import array\n",
    "x = array([[1,2],[3,4],[5,6]])\n",
    "print(\"前两行元素为：\\n\", x[[0,1]])         #输出：[[1,2],[3,4]]\n",
    "print(\"x[0][0]和x[1][1]为：\", x[[0,1],[0,1]])    #输出：[1 4]\n",
    "print(\"以下两种格式是一样的：\")\n",
    "print(x[[0,1]][:,[0,1]]) # 输出：[[1,2],[3,4]]，\n",
    "print(x[0:2,0:2])        #同上，输出第1、2行，第1、2列的元素"
   ]
  },
  {
   "cell_type": "markdown",
   "metadata": {},
   "source": [
    "④数组的修改\n",
    "\n",
    "这里数组的修改是指数组元素的修改，和数组维数的扩大或缩小。"
   ]
  },
  {
   "cell_type": "markdown",
   "metadata": {},
   "source": [
    "数组修改示例"
   ]
  },
  {
   "cell_type": "code",
   "execution_count": null,
   "metadata": {},
   "outputs": [],
   "source": [
    "#程序文件Pex2_9.py\n",
    "import numpy as np\n",
    "x = np.array([[1,2],[3,4],[5,6]])\n",
    "x[2,0] = -1  #修改第3行、第1列元素为-1\n",
    "y=np.delete(x,2,axis=0)   #删除数组的第3行\n",
    "z=np.delete(y,0, axis=1)  #删除数组的第1列\n",
    "t1=np.append(x,[[7,8]],axis=0) #增加一行\n",
    "t2=np.append(x,[[9],[10],[11]],axis=1) #增加一列"
   ]
  },
  {
   "cell_type": "markdown",
   "metadata": {},
   "source": [
    "⑤数组的变形\n",
    "\n",
    "**在对数组进行操作时，经常要改变数组的维度。**\n",
    "\n",
    "在NumPy中，常用reshape函数改变数据的形状，也就是改变数组的维度。其参数为一个正整数元组，分别指定数组在每个维度上的大小。reshape函数在改变原始数据的形状的同时不改变原始数据的值。如果指定的维度和数组的元素数目不吻合，则函数将抛出异常。\n",
    "|     函数           |     功能                  |     调用方式                                                                       |\n",
    "|--------------------|---------------------------|------------------------------------------------------------------------------------|\n",
    "|     reshape        |     改变数组的维度        | a.reshape(m,n,s)把a变成m个n行s列的数组，返回的是视图，a本身不变                    |\n",
    "|     resize         |     改变数组的维度        | a.resize(m,n,s)把a变成m个n行s列的数组，没有返回，改变的是a数组                     |\n",
    "|     c_             |     列组合                | c_[a,b]                                                      |\n",
    "|     r_             |     行组合                | r_[a,b]                                                             |\n",
    "|     ravel          |     水平展开数组          |     a.ravel()返回的是a的视图                                                       |\n",
    "|     flatten        |     水平展开数组          | a.flatten()返回的是真实数组，需要分配新的内存空间                                  |\n",
    "|     hstack         |     数组横向组合          |     hstack((a,b))，输入参数为元组(a,b)                                             |\n",
    "|     vstack         |     数组纵向组合          |     vstack((a,b))                                                                  |\n",
    "|     concatenate    |     数组横向或纵向组合    |     concatenate((a,b),axis=1  |\n",
    "|     dstack         |     深度组合，如在一副图像数据的二维数组上组合另一幅图像数据    |     dstack((a,b))        |\n",
    "|     hsplit         |     数组横向分割        |     hsplit(a,n)把a平均分成n个列数组    |\n",
    "|     vsplit         |     数组纵向分割                                                |     vsplit(a,m)把a平均分成m个行数组  |\n",
    "|     split          |     数组横向或纵向分割       |     split(a,n,axis=1)   |\n",
    "|     dsplit         |     沿深度方向分割数组                                          |     dsplit(a,n)沿深度方向平均分成n个数组     |\n",
    "|     tolist         |     把数组转换成Python列表                                      |     a.tolist()                                                                     |"
   ]
  },
  {
   "cell_type": "markdown",
   "metadata": {},
   "source": [
    "例2.10  reshape和resize变形示例。\n",
    " "
   ]
  },
  {
   "cell_type": "code",
   "execution_count": null,
   "metadata": {},
   "outputs": [
    {
     "name": "stdout",
     "output_type": "stream",
     "text": [
      "[0 1 2 3] \n",
      " [[0 1]\n",
      " [2 3]]\n",
      "None \n",
      " [0 1 2 3]\n"
     ]
    }
   ],
   "source": [
    "#程序文件Pex2_10.py\n",
    "import numpy as np\n",
    "a=np.arange(4).reshape(2,2)  #生成数组[[0,1],[2,3]]\n",
    "b=np.arange(4).reshape(2,2)  #生成数组[[0,1],[2,3]]\n",
    "print(a.reshape(4,),'\\n',a)  #输出：[0 1 2 3]和[[0,1],[2,3]]\n",
    "print(b.resize(4,),'\\n',b)   #输出：None和[0 1 2 3] "
   ]
  },
  {
   "cell_type": "markdown",
   "metadata": {},
   "source": [
    "> 如上结果所示，虽然reshape和resize都是用来改变数组形状的，但是reshape只是返回改变形状后的视图，数组本身是不变的；而resize没有返回，直接改变数组本身的形状。\n",
    "<br>如果需要将多维数组降为一维数组，利用ravel、flatten和reshape三种方法均可以实现。\n"
   ]
  },
  {
   "cell_type": "markdown",
   "metadata": {},
   "source": [
    "例2.11  数组降维示例。"
   ]
  },
  {
   "cell_type": "code",
   "execution_count": null,
   "metadata": {},
   "outputs": [
    {
     "name": "stdout",
     "output_type": "stream",
     "text": [
      "[0 1 2 3] \n",
      " [[0 1]\n",
      " [2 3]]\n",
      "[0 1 2 3] \n",
      " [[0 1]\n",
      " [2 3]]\n",
      "[0 1 2 3] \n",
      " [[0 1]\n",
      " [2 3]]\n"
     ]
    }
   ],
   "source": [
    "#程序文件Pex2_11.py\n",
    "import numpy as np\n",
    "a=np.arange(4).reshape(2,2)  #生成数组[[0,1],[2,3]]\n",
    "b=np.arange(4).reshape(2,2)  #生成数组[[0,1],[2,3]]\n",
    "c=np.arange(4).reshape(2,2)  #生成数组[[0,1],[2,3]]\n",
    "print(a.reshape(-1),'\\n',a)  #输出：[0 1 2 3]和[[0,1],[2,3]]\n",
    "print(b.ravel(),'\\n',b)      #输出：[0 1 2 3]和[[0,1],[2,3]]\n",
    "print(c.flatten(),'\\n',c)    #输出：[0 1 2 3]和[[0,1],[2,3]]"
   ]
  },
  {
   "cell_type": "markdown",
   "metadata": {},
   "source": [
    "> 从显示效果看，三种方法是一样的，原数组都没有修改。<br>但我们在平时使用时，flatten()比较合适，在使用过程中flatten()分配了新的内存；ravel()返回的是一个数组的视图，e=b.ravel()是允许的。\n",
    "\n"
   ]
  },
  {
   "cell_type": "markdown",
   "metadata": {},
   "source": [
    "例2.12  数组组合效果示例。"
   ]
  },
  {
   "cell_type": "code",
   "execution_count": null,
   "metadata": {},
   "outputs": [],
   "source": [
    "#程序文件Pex2_12.py\n",
    "import numpy as np\n",
    "a=np.arange(4).reshape(2,2)  #生成数组[[0,1],[2,3]]\n",
    "b=np.arange(4,8).reshape(2,2)  #生成数组[[4,5],[6,7]]\n",
    "c1=np.vstack([a,b])   #垂直方向组合\n",
    "c2=np.r_[a,b]        #垂直方向组合\n",
    "d1=np.hstack([a,b])   #水平方向组合\n",
    "d2=np.c_[a,b]        #水平方向组合"
   ]
  },
  {
   "cell_type": "markdown",
   "metadata": {},
   "source": [
    "例2.13  数组分割示例。\n"
   ]
  },
  {
   "cell_type": "code",
   "execution_count": null,
   "metadata": {},
   "outputs": [
    {
     "name": "stdout",
     "output_type": "stream",
     "text": [
      "[[0]\n",
      " [2]] \n",
      " [[1]\n",
      " [3]] \n",
      " [[0 1]] \n",
      " [[2 3]]\n"
     ]
    }
   ],
   "source": [
    "#程序文件Pex2_13.py\n",
    "import numpy as np\n",
    "a=np.arange(4).reshape(2,2)  #构造2行2列的数组\n",
    "b=np.hsplit(a,2)  #把a平均分成2个列数组\n",
    "c=np.vsplit(a,2)  #把a平均分成2个行数组\n",
    "print(b[0],'\\n',b[1],'\\n',c[0],'\\n',c[1])"
   ]
  },
  {
   "cell_type": "markdown",
   "metadata": {},
   "source": [
    "### 2.1.2  数组的运算、通用函数和广播运算"
   ]
  },
  {
   "cell_type": "markdown",
   "metadata": {},
   "source": [
    "(1) 四则运算"
   ]
  },
  {
   "cell_type": "markdown",
   "metadata": {},
   "source": [
    "在NumPy库中，实现四则运算既可以使用运算符号+、-、*、/，也可以使用函数add、substract、multiply、divide。需要注意的是，函数只能接受两个对象的运算，如果需要多个对象的运算，就得使用嵌套方法。"
   ]
  },
  {
   "cell_type": "markdown",
   "metadata": {},
   "source": [
    "另外还有三个数学运算符，分别是余数、整除和幂次，可以使用符号%、//、**，也可以使用函数`fmod`、`modf`和`power`。但是整除的函数应用会稍微复杂一点，需要写成`np.modf(a/b)[1]`的格式，因为`modf`可以返回数值的小数部分和整数部分，而整数部分就是要取的整数值。\n",
    "\n"
   ]
  },
  {
   "cell_type": "markdown",
   "metadata": {},
   "source": [
    "例2.14  数组简单运算示例。\n"
   ]
  },
  {
   "cell_type": "code",
   "execution_count": null,
   "metadata": {},
   "outputs": [],
   "source": [
    "#程序文件Pex2_14.py\n",
    "import numpy as np\n",
    "a=np.arange(10,15); b=np.arange(5,10)\n",
    "c=a+b; d=a*b  #对应元素相加和相乘\n",
    "e1=np.modf(a/b)[0]  #对应元素相除的小数部分\n",
    "e2=np.modf(a/b)[1]  #对应元素相除的整数部分"
   ]
  },
  {
   "cell_type": "markdown",
   "metadata": {},
   "source": [
    "(2) 比较运算"
   ]
  },
  {
   "cell_type": "markdown",
   "metadata": {},
   "source": [
    "|     符号    |     函数                  |     含义                              |\n",
    "|-------------|---------------------------|---------------------------------------|\n",
    "|     >       |     greater(a,b)          |     判断a的元素是否大于b的元素        |\n",
    "|     >=      |     greater_equal(a,b)    |     判断a的元素是否大于等于b的元素    |\n",
    "|     <       |     less(a,b)             |     判断a的元素是否小于b的元素        |\n",
    "|     <=      |     less_equal(a,b)       |     判断a的元素是否小于等于b的元素    |\n",
    "|     ==      |     equal(a,b)            |     判断a的元素是否等于b的元素        |\n",
    "|     !=      |     not_equal(a,b)        |     判断a的元素是否不等于b的元素      |\n",
    "\n",
    "运用比较运算符返回的是bool类型的值，即True和False。"
   ]
  },
  {
   "cell_type": "markdown",
   "metadata": {},
   "source": [
    "例2.15 比较运算示例。"
   ]
  },
  {
   "cell_type": "code",
   "execution_count": null,
   "metadata": {},
   "outputs": [
    {
     "name": "stdout",
     "output_type": "stream",
     "text": [
      "[ 3  9 12 15]\n",
      "[12 15]\n",
      "[[ 3  4  9]\n",
      " [-1 -1  1]]\n",
      "[[ 0  0  0]\n",
      " [-1 -1  0]]\n"
     ]
    }
   ],
   "source": [
    "#程序文件Pex2_15.py\n",
    "import numpy as np\n",
    "a=np.array([[3,4,9],[12,15,1]])\n",
    "b=np.array([[2,6,3],[7,8,12]])\n",
    "print(a[a>b])  #取出a大于b的所有元素，输出：[ 3  9  12  15]\n",
    "print(a[a>10]) #取出a大于10的所有元素，输出：[12  15]\n",
    "print(np.where(a>10,-1,a)) #a中大于10的元素改为-1\n",
    "print(np.where(a>10,-1,0)) #a中大于10的元素改为-1，否则为0"
   ]
  },
  {
   "cell_type": "markdown",
   "metadata": {},
   "source": [
    "> 多维数组通过bool索引返回的都是一维数组；np.where返回的数组保持原来的形状。"
   ]
  },
  {
   "cell_type": "markdown",
   "metadata": {},
   "source": [
    "(3)ufunc函数\n",
    "\n",
    "**ufunc函数全称为通用函数，是一种能够对数组中的逐个元素进行操作的函数。**\n",
    "\n",
    "ufunc函数是针对数组进行操作的，并且都以NumPy数组作为输出。使用ufunc函数比使用math库中的函数效率要高很多。目前NumPy支持超过60多种的通用函数。这些函数包括广泛的操作，如四则运算、求模、取绝对值、幂函数、指数函数、三角函数、位运算、比较运算和逻辑运算等。\n"
   ]
  },
  {
   "cell_type": "markdown",
   "metadata": {},
   "source": [
    "例2.16  ufunc函数效率示例。"
   ]
  },
  {
   "cell_type": "code",
   "execution_count": null,
   "metadata": {},
   "outputs": [
    {
     "name": "stdout",
     "output_type": "stream",
     "text": [
      "math.sin: 0.23738932609558105\n",
      "numpy.sin: 0.008977651596069336\n"
     ]
    }
   ],
   "source": [
    "#程序文件Pex2_16.py\n",
    "import numpy as np, time, math\n",
    "x=[i*0.01 for i in range(1000000)]\n",
    "start=time.time()  # 1970纪元后经过的浮点秒数\n",
    "for (i,t) in enumerate(x): x[i]=math.sin(t)\n",
    "print(\"math.sin:\", time.time()-start)\n",
    "y=np.array([i*0.01 for i in range(1000000)])\n",
    "start=time.time()\n",
    "y=np.sin(y)\n",
    "print(\"numpy.sin:\", time.time()-start)"
   ]
  },
  {
   "cell_type": "markdown",
   "metadata": {},
   "source": [
    "> 可以发现对数组的操作，numpy函数整体花费时间比math模块函数要少得多。"
   ]
  },
  {
   "cell_type": "markdown",
   "metadata": {},
   "source": [
    "(4) 4.ufunc函数的广播机制\n",
    "\n",
    "**广播（Broadcasting）是指不同形状的数组之间执行算术运算的方式。**\n",
    "\n",
    "当使用ufunc函数进行数组计算时，ufunc函数会对两个数组的对应元素进行计算。进行这种计算的前提是两个数组的维度相容。若两个数组的维度不相容时，则NumPy会实行广播机制。但是数组的广播功能是有规则的，如果不满足这些规则，运算时就会出错。数组的主要广播规则为：\n"
   ]
  },
  {
   "cell_type": "markdown",
   "metadata": {},
   "source": [
    "+ 各输入数组的维度可以不相等，但必须确保从右到左的对应维度值相等。\n",
    "+ 如果对应维度值不相等，就必须保证其中一个为1。\n",
    "\n"
   ]
  },
  {
   "cell_type": "markdown",
   "metadata": {},
   "source": [
    "例2.17  广播机制示例。"
   ]
  },
  {
   "cell_type": "code",
   "execution_count": null,
   "metadata": {},
   "outputs": [
    {
     "name": "stdout",
     "output_type": "stream",
     "text": [
      "[[ 0  1  2]\n",
      " [10 11 12]]\n"
     ]
    }
   ],
   "source": [
    "#程序文件Pex2_17.py\n",
    "import numpy as np\n",
    "a=np.arange(0, 20, 10).reshape(-1, 1)  #变形为1列的数组，行数自动计算\n",
    "b=np.arange(0, 3)\n",
    "print(a+b)"
   ]
  },
  {
   "cell_type": "markdown",
   "metadata": {},
   "source": [
    "### 2.1.3 NumPy.random模块的随机数生成"
   ]
  },
  {
   "cell_type": "markdown",
   "metadata": {},
   "source": [
    "虽然在Python内置的random模块中可以生成随机数，但是每次只能随机生成一个随机数，而且随机数的种类也不够丰富。\n",
    "\n",
    "建议使用NumPy.random模块的随机数生成函数，一方面可以生成随机向量，另一方面函数丰富。\n",
    "\n",
    "关于各种常见的随机数生成函数，如下\n",
    "\n"
   ]
  },
  {
   "cell_type": "markdown",
   "metadata": {},
   "source": [
    "|     函数                                            |     说明                      |\n",
    "|-----------------------------------------------------|-------------------------------|\n",
    "|     seed(n)                                         |     设置随机数种子            |\n",
    "|     beta(a,b,size=None)                             |     生成Beta分布随机数        |\n",
    "|     exponential(scale=1.0,size=None)                |     生成指数分布随机数        |\n",
    "|     f(dfnum,dfden,size=None)                        |     生成F分布随机数           |\n",
    "|     gamma(shape,scale=1.0,size=None)                |     生成伽玛分布随机数        |\n",
    "|     geometric(p,size=None)                          |     生成几何分布随机数        |\n",
    "|     hypergeometric(ngood,nbad,nsample,size=None)    |     生成超几何分布随机数      |\n",
    "|     laplace(loc=0.0,scale=1.0,size=None)            |     生成Laplace分布随机数     |\n",
    "|     logistic(loc=0.0,scale=1.0,size=None)           |     生成Logistic分布随机数    |\n",
    "|     chisquare(df,size=None)                         |     生成自由度为df的$\\chi ^{2}$ 分布随机数|\n",
    "|     choice(a,size=None,replace=None,p=None)         | 从a中有放回地随机挑选指定数量的样本  |                       |\n",
    "|     lognormal(mean=0.0,sigma=1.0,size=None)          |     生成对数正态分布随机数                |\n",
    "|     negative_binomial(n,p,size=None)                 |     生成负二项分布随机数                  |\n",
    "|     multinomial(p,pvals,size=None)                   |     生成多项分布随机数                    |\n",
    "|     multivariate_normal(mean,cov[,size])             |     生成多元正态分布随机数                |\n",
    "|     normal(loc=0.0,scale=1.0,size=None)              |     生成正态分布随机数                    |\n",
    "|     pareto(a,size=None)                              |     生成帕累托分布随机数                  |\n",
    "|     poisson(lam=1.0,size=None)                       |     生成泊松分布随机数                    |\n",
    "|     rand(d0,d1,…,dn)                                 |     生成n+1维的[0,1)上均匀分布随机数      |\n",
    "|     randn(d0,d1,…,dn)                                |     生成n+1维的标准正态分布随机数         |\n",
    "|     randint(low, high=None, size=None, dtype='l')    |     生成区间[low,high)上的随机整数        |\n",
    "|     uniform(low=0.0,hign=1.0,size=None)              |     生成区间[low,high)上均匀分布随机数    |\n",
    "| standard_t(df,size=None)                             |  生成标准的t分布随机数                                   |"
   ]
  },
  {
   "cell_type": "markdown",
   "metadata": {},
   "source": [
    "### 2.1.4  文本文件和二进制文件存取\n"
   ]
  },
  {
   "cell_type": "markdown",
   "metadata": {},
   "source": [
    "NumPy提供了多种文件操作函数以方便用户存取数组内容。文件存取的格式分为两类：二进制和文本。而二进制格式的文件又分为NumPy专用的格式化二进制类型和无格式类型。"
   ]
  },
  {
   "cell_type": "markdown",
   "metadata": {},
   "source": [
    "(1)**文本文件的存取**\n"
   ]
  },
  {
   "cell_type": "markdown",
   "metadata": {},
   "source": [
    "①savetxt()和loadtxt()存取文本文件\n",
    "\n",
    "\n",
    "savetxt()可以把1维和2维数组保存到文本文件。loadtxt()可以把文本文件中的数据加载到1维和2维数组中。\n",
    "\n"
   ]
  },
  {
   "cell_type": "code",
   "execution_count": null,
   "metadata": {},
   "outputs": [
    {
     "name": "stdout",
     "output_type": "stream",
     "text": [
      "b= [[0.  0.5 1. ]\n",
      " [1.5 2.  2.5]]\n",
      "c= [[0. 0. 1.]\n",
      " [1. 2. 2.]]\n"
     ]
    }
   ],
   "source": [
    "# 例2.18  文本文件存取示例。\n",
    "#程序文件Pex2_18.py\n",
    "import numpy as np\n",
    "a=np.arange(0,3,0.5).reshape(2,3)  #生成2×3的数组\n",
    "np.savetxt(\"Pdata2_18_1.txt\", a)  #缺省按照'%.18e'格式保存数值，以空格分隔\n",
    "b=np.loadtxt(\"Pdata2_18_1.txt\")  #返回浮点型数组\n",
    "print(\"b=\",b)\n",
    "np.savetxt(\"Pdata2_18_2.txt\", a, fmt=\"%d\", delimiter=\",\")  #保存为整型数据，以逗号分隔\n",
    "c=np.loadtxt(\"Pdata2_18_2.txt\",delimiter=\",\")  #读入的时候也需要指定逗号分隔\n",
    "print(\"c=\",c)"
   ]
  },
  {
   "cell_type": "markdown",
   "metadata": {},
   "source": [
    "例2.19  文本文件Pdata2_19.txt中存放如下格式的数据：\n",
    "\n",
    "6\t2\t6\t7\t4\t2\t5\t9<br>\n",
    "4\t9\t5\t3\t8\t5\t8\t2<br>\n",
    "5\t2\t1\t9\t7\t4\t3\t3<br>\n",
    "7\t6\t7\t3\t9\t2\t7\t1<br>\n",
    "2\t3\t9\t5\t7\t2\t6\t5<br>\n",
    "5\t5\t2\t2\t8\t1\t4\t3<br>\n",
    "\n",
    "\n",
    "把其中的数据读入到数组a，并提取数组a的前2行、第2列到第4列的元素，构造一个2行3列的数组b。\n"
   ]
  },
  {
   "cell_type": "markdown",
   "metadata": {},
   "source": [
    "import numpy as np\n",
    "\n",
    "a=np.loadtxt(\"Pdata2_19.txt\")  #返回值a为浮点型数据\n",
    "\n",
    "b=a[0:2,1:4]  #获取a的第1,2行，第2,3,4列\n",
    "\n",
    "print(\"b=\",b)\n",
    "\n",
    "程序运行结果如下：\n",
    "\n",
    "b= [[2.  6.  7.]\n",
    "<br> [9.  5.  3.]]\n"
   ]
  },
  {
   "cell_type": "markdown",
   "metadata": {},
   "source": [
    "②genfromtxt读入文本文件数据\n",
    "\n",
    "它的调用格式为：\n",
    "\n",
    "``genfromtxt(fname, dtype=<class 'float'>, comments='#', delimiter=None, skip_header=0, skip_footer=0, converters=None, missing_values=None, filling_values=None, usecols=None, names=None, excludelist=None, deletechars=None, replace_space='_', autostrip=False, case_sensitive=True, defaultfmt='f%i', unpack=None, usemask=False, loose=True, invalid_raise=True, max_rows=None, encoding='bytes')``"
   ]
  },
  {
   "cell_type": "markdown",
   "metadata": {},
   "source": [
    "参数说明：\n",
    "\n",
    "        （1）fname：指定需要读入数据的文件名。\n",
    "        （2）dtype：指定读入数据的数据类型，默认为浮点型，如果原数据集中含有字符型数据，必须指定数据类型为“str”。\n",
    "        （3）comments：指定注释符，默认为“#”，如果原数据的行首有“#”，将忽略这些行的读入。\n",
    "        （4）delimiter：指定数据集的列分隔符。\n",
    "        （5）skip_header：是否跳过数据集的首行，默认不跳过。\n",
    "        （6）skip_footer：是否跳过数据集的脚注，默认不跳过。\n",
    "        （7）converters：将指定列的数据转换成其他数值。\n",
    "        （8）miss_values：指定缺失值的标记，如果原数据集含指定的标记，读入后这样的数据就为缺失值。\n",
    "        （9）filling_values：指定缺失值的填充值。\n",
    "        （10）usecols：指定需要读入的列。\n",
    "        （11）names：为读入数据的列设置列名称\n",
    "        （12）encoding：如果文件中含有中文，有时需要指定字符编码。\n",
    "\n",
    "\n"
   ]
  },
  {
   "cell_type": "markdown",
   "metadata": {},
   "source": [
    "(2)**二进制文件的读取**"
   ]
  },
  {
   "cell_type": "markdown",
   "metadata": {},
   "source": [
    "①.tofile()和fromfile()存取二进制格式文件\n",
    "\n",
    "使用数组对象的tofile()方法可以方便地将数组中的数据以二进制格式写进文件，\n",
    "tofile()输出的数据不保存数组形状和元素类型等信息。因此用fromfile()函数读回数据时需要用户指定元素类型，并对数组的形状进行适当的修改。\n"
   ]
  },
  {
   "cell_type": "markdown",
   "metadata": {},
   "source": [
    "②.load()、save()和savez()存取NumPy专用的二进制格式文件\n",
    "\n",
    "load()和save()用NumPy专用的二进制格式存取数据，它们会自动处理元素类型和形状等信息。\n",
    "\n",
    "如果想将多个数组保存到一个文件中，可以使用savez()。savez()的第一个参数是文件名，其后的参数都是需要保存的数组，输出的是一个扩展名为npz的压缩文件。\n"
   ]
  },
  {
   "cell_type": "markdown",
   "metadata": {},
   "source": [
    "## 2.4 Matplotlib可视化\n"
   ]
  },
  {
   "cell_type": "markdown",
   "metadata": {},
   "source": [
    "### 2.4.1基础操作\n",
    "\n",
    "Matplotlib提出了Object Container（对象容器）的概念，它有Figure、Axes、Axis、Tick四种类型的对象容器。\n",
    "+ Figure负责图形大小、位置等操作；\n",
    "+ Axes负责坐标轴位置、绘图等操作；\n",
    "+ Axis负责坐标轴的设置等操作；\n",
    "+ Tick负责格式化刻度的样式等操作；\n",
    "<br>四种对象容器之间是层层包含的关系。\n",
    "\n"
   ]
  },
  {
   "cell_type": "markdown",
   "metadata": {},
   "source": [
    "**Matplotlib.pyplot模块画折线图的plot函数的常用语法和参数含义如下：**\n",
    "<center>\n",
    "plot(x, y, s)</center>\n",
    "\n",
    "其中x为数据点的$x$ 坐标，y为数据点的$y$ 坐标，s为指定线条颜色、线条样式和数据点形状的字符串，详见表2.10.\n"
   ]
  },
  {
   "cell_type": "markdown",
   "metadata": {},
   "source": [
    "**plot函数也可以使用如下调用格式：**<br>\n",
    "plot(x, y, linestyle, linewidth, color, marker, markersize, markeredgecolor, markerfacecolor, markeredgewidth, label, alpha)\n",
    "\n"
   ]
  },
  {
   "cell_type": "markdown",
   "metadata": {},
   "source": [
    "linestyle：指定折线的类型，可以是实线、虚线和点画线等，默认为实线。<br>\n",
    "linewidth：指定折线的宽度。<br>\n",
    "marker：可以为折线图添加点，该参数设置点的形状。<br>\n",
    "markersize：设置点的大小。<br>\n",
    "markeredgecolor：设置点的边框色。<br>\n",
    "markerfacecolor：设置点的填充色。<br>\n",
    "markeredgewidth：设置点的边框宽度。<br>\n",
    "label：添加折线图的标签，类似于图例的作用。<br>\n",
    "alpha：设置图形的透明度。<br>\n",
    "|     符号参数    |     类型        |     含义            |\n",
    "|-----------------|-----------------|---------------------|\n",
    "|     b           |     线条颜色    |     Blue，蓝色      |\n",
    "|     c           |     线条颜色    |     Cyan，青色      |\n",
    "|     g           |     线条颜色    |     Green，绿色     |\n",
    "|     k           |     线条颜色    |     Black，黑色     |\n",
    "|     m           |     线条颜色    |     Magenta         |\n",
    "|     r           |     线条颜色    |     Red，红色       |\n",
    "|     w           |     线条颜色    |     White，白色     |\n",
    "|     y           |     线条颜色    |     Yellow，黄色    |\n",
    "|     b           |     线条颜色    |     Blue，蓝色      |\n",
    "|     c           |     线条颜色    |     Cyan，青色      |\n",
    "|     g           |     线条颜色    |     Green，绿色     |\n",
    "|     k           |     线条颜色    |     Black，黑色     |\n",
    "|     m           |     线条颜色    |     Magenta         |\n",
    "|     r           |     线条颜色    |     Red，红色       |\n",
    "|     w           |     线条颜色    |     White，白色     |\n",
    "|     y           |     线条颜色    |     Yellow，黄色    |\n",
    "|     .           |     数据点形状    |     点（Point）                             |\n",
    "|     o           |     数据点形状    |     圆圈（Circle）                          |\n",
    "|     *           |     数据点形状    |     星形（Star）                            |\n",
    "|     x           |     数据点形状    |     十字架（Cross）                         |\n",
    "|     s           |     数据点形状    |     正方形（Square）                        |\n",
    "|     p           |     数据点形状    |     五角星（Pentagon）                      |\n",
    "|     D/d         |     数据点形状    |     钻石（Diamond）/小钻石                  |\n",
    "|     h           |     数据点形状    |     六角形（Hexagon）                       |\n",
    "|     +           |     数据点形状    |     加号                                    |\n",
    "|     \\|          |     数据点形状    |     竖直线                                  |\n",
    "|     V^<>        |     数据点形状    |     分别是下三角、上三角、左三角、右三角    |\n"
   ]
  },
  {
   "cell_type": "markdown",
   "metadata": {},
   "source": [
    "**Matplotlib.pyplot模块其他常用函数有：**<br>\n",
    "（1）pie()：绘制饼状图。<br>\n",
    "（2）bar()：绘制柱状图。<br>\n",
    "（3）hist()：绘制二维直方图。<br>\n",
    "（4）scatter()：绘制散点图。"
   ]
  },
  {
   "cell_type": "markdown",
   "metadata": {},
   "source": [
    "**Matplotlib绘图主要包括以下几个步骤：**\n",
    "\n",
    "（1）导入Matplotlib.pyplot模块。<br>\n",
    "（2）设置绘图的数据及参数。<br>\n",
    "（3）调用Matplotlib.pyplot模块的plot()、pie()、bar()、hist()、scatter()等函数进行绘图。<br>\n",
    "（4）设置绘图的 轴、 轴、标题、网格线、图例等内容。<br>\n",
    "（5）调用show()函数显示已绘制的图形。<br>\n",
    "\n"
   ]
  },
  {
   "cell_type": "markdown",
   "metadata": {},
   "source": [
    "**为了将而向对象的绘图库包装成只使用函数的API，pyplot模块的内部保存了当前图形以及当前子图等信息。**\n",
    "+ 可以使用gcf()和gca()获得这两个对象，它们分别是“Get Current Figure” 和“Get Current Axes”开头字母的缩写。\n",
    "+ gcf()获得的是表示图形的Figure对象，而gca()获得的则是表示子图的Axes对象。例如：\n",
    "```python \n",
    "fig = gcf() \n",
    "axes = gca()\n",
    "```"
   ]
  },
  {
   "cell_type": "markdown",
   "metadata": {},
   "source": [
    "> 注2.6  Matplotlib画图显示中文时通常为乱码，如果想在图形中显示中文字符、负号等，则需要使用如下代码进行设置。<br>\n",
    "> ``` python\n",
    "> rcParams['font.sans-serif']=['SimHei']   #用来正常显示中文标签\n",
    "> rcParams['axes.unicode_minus']=False  #用来正常显示负号\n",
    "> ```\n",
    "> 或者等价地写为：\n",
    "> ```python\n",
    "> rc('font',family='SimHei') #用来正常显示中文标签\n",
    "> rc('axes',unicode_minus=False) #用来正常显示负号\n",
    ">  ```"
   ]
  },
  {
   "cell_type": "markdown",
   "metadata": {},
   "source": [
    "### 2.4.2  Matplotlib.pyplot的可视化应用\n",
    "\n",
    "**Matplotlib工具库依赖于NumPy等工具库，可以绘制多种形式的图形，是计算结果可视化的重要工具，下面给出一些可视化示例。**\n",
    "\n"
   ]
  },
  {
   "cell_type": "markdown",
   "metadata": {},
   "source": [
    "(1)散点图\n",
    "\n",
    "例2.37:为了测量刀具的磨损速度，我们做这样的实验：经过一定时间（如每隔一小时），测量一次刀具的厚度，得到一组实验数据 如表2.11所示。试画出观测数据的散点图。\n",
    "\n",
    "0|\t1|\t2|\t3|\t4|\t5|\t6 |\t7\n",
    "--|--|--|--|--|--|--|-- \n",
    "27.0|\t26.8|\t26.5|\t26.3|\t26.1|\t25.7|\t25.3|\t24.8\n",
    "\n",
    "\n"
   ]
  },
  {
   "cell_type": "code",
   "execution_count": null,
   "metadata": {},
   "outputs": [
    {
     "data": {
      "image/png": "[encoded data removed]",
      "text/plain": [
       "<Figure size 432x288 with 1 Axes>"
      ]
     },
     "metadata": {
      "needs_background": "light"
     },
     "output_type": "display_data"
    }
   ],
   "source": [
    "#程序文件Pex2_37.py\n",
    "import numpy as np\n",
    "from matplotlib.pyplot import *\n",
    "x=np.array(range(8))\n",
    "y='27.0  26.8\t  26.5\t26.3\t 26.1  25.7\t 25.3\t24.8'  #数据是粘贴过来的\n",
    "y=\",\".join(y.split())    #把空格替换成逗号\n",
    "y=np.array(eval(y))      #数据之间加逗号太麻烦，我们用程序转换\n",
    "scatter(x,y)\n",
    "savefig('figure2_23.png',dpi=500); show()"
   ]
  },
  {
   "cell_type": "markdown",
   "metadata": {},
   "source": [
    "2.多个图形显示在一个图形画面\n",
    "\n",
    "例2.38  在同一个图形界面上分别画出$y=sin(x)$ ，$y=cos(x^2)$ ，$x \\in [0,2\\pi]$ 的图形。\n"
   ]
  },
  {
   "cell_type": "code",
   "execution_count": null,
   "metadata": {},
   "outputs": [
    {
     "data": {
      "image/png": "[encoded data removed]",
      "text/plain": [
       "<Figure size 432x288 with 1 Axes>"
      ]
     },
     "metadata": {
      "needs_background": "light"
     },
     "output_type": "display_data"
    }
   ],
   "source": [
    "#程序文件Pex2_38.py\n",
    "import numpy as np\n",
    "from matplotlib.pyplot import *\n",
    "x=np.linspace(0,2*np.pi,200)\n",
    "y1=np.sin(x); y2=np.cos(pow(x,2))\n",
    "rc('font',size=16); \n",
    "# rc('text', usetex=True)  #调用tex字库\n",
    "plot(x,y1,'r',label='$sin(x)$',linewidth=2)  #Latex格式显示公式\n",
    "plot(x,y2,'b--',label='$cos(x^2)$')\n",
    "xlabel('$x$'); ylabel('$y$',rotation=0)\n",
    "savefig('figure2_38.png',dpi=500); legend(); show()"
   ]
  },
  {
   "cell_type": "markdown",
   "metadata": {},
   "source": [
    "> 注2.7: 要使用LaTeX格式需要安装LaTeX的两个宏包basic-miktex-2.9.7021-x64和gs926aw64。<br>\n",
    "> 否则把上面的语句rc('text', usetex=True) 注释掉。\n",
    "\n"
   ]
  },
  {
   "cell_type": "markdown",
   "metadata": {},
   "source": [
    "(3).多个图形单独显示\n",
    "\n",
    "\n",
    "例2.39  把屏幕开成3个子窗口，上面两个子窗口，下面一个大的子窗口，3个子窗口分别画曲线$y=sin(x)$ ，$y=cos(x)$ ，$y=sin(x^2)$ ，$x\\in [0,2\\pi]$  。\n"
   ]
  },
  {
   "cell_type": "code",
   "execution_count": null,
   "metadata": {},
   "outputs": [
    {
     "data": {
      "image/png": "[encoded data removed]",
      "text/plain": [
       "<Figure size 432x288 with 3 Axes>"
      ]
     },
     "metadata": {
      "needs_background": "light"
     },
     "output_type": "display_data"
    }
   ],
   "source": [
    "#程序文件Pex2_39.py\n",
    "import numpy as np\n",
    "from matplotlib.pyplot import *\n",
    "x=np.linspace(0,2*np.pi,200)\n",
    "y1=np.sin(x); y2=np.cos(x); y3=np.sin(x*x)\n",
    "rc('font',size=16);\n",
    "# rc('text', usetex=True)  #调用tex字库\n",
    "ax1=subplot(2,2,1)  #新建左上1号子窗口\n",
    "ax1.plot(x,y1,'r',label='$sin(x)$') #画图\n",
    "legend()  #添加图例\n",
    "ax2=subplot(2,2,2)  #新建右上2号子窗口\n",
    "ax2.plot(x,y2,'b--',label='$cos(x)$'); legend() \n",
    "ax3=subplot(2,1,2)  #新建两行、1列的下面子窗口\n",
    "ax3.plot(x,y3,'k--',label='$sin(x^2)$'); legend(); \n",
    "savefig('figure2_39.png',dpi=500); show()"
   ]
  },
  {
   "cell_type": "markdown",
   "metadata": {},
   "source": [
    "(4) 三维空间的曲线\n",
    "\n",
    "例2.40  画出三维曲线 $x=tsin(t)$，$y=tcos(t)$ ，$z=t$ $(t\\in [0,100])$的图形。\n"
   ]
  },
  {
   "cell_type": "code",
   "execution_count": null,
   "metadata": {},
   "outputs": [
    {
     "data": {
      "image/png": "[encoded data removed]",
      "text/plain": [
       "<Figure size 432x288 with 1 Axes>"
      ]
     },
     "metadata": {
      "needs_background": "light"
     },
     "output_type": "display_data"
    }
   ],
   "source": [
    "#程序文件Pex2_40.py\n",
    "from mpl_toolkits import mplot3d\n",
    "import matplotlib.pyplot as plt\n",
    "import numpy as np\n",
    "ax=plt.axes(projection='3d')  #设置三维图形模式\n",
    "z=np.linspace(0, 100, 1000)\n",
    "x=np.sin(z)*z; y=np.cos(z)*z\n",
    "ax.plot3D(x, y, z, 'k')\n",
    "plt.savefig('figure2_40.png',dpi=500); plt.show()"
   ]
  },
  {
   "cell_type": "markdown",
   "metadata": {},
   "source": [
    "(5)三维曲面图形\n",
    "\n",
    "例2. 41  画出三维曲面$z=sin(\\sqrt{x^2+y^2}) $的三维表面图形和三维网格图形。\n"
   ]
  },
  {
   "cell_type": "code",
   "execution_count": null,
   "metadata": {},
   "outputs": [
    {
     "data": {
      "image/png": "[encoded data removed]",
      "text/plain": [
       "<Figure size 432x288 with 2 Axes>"
      ]
     },
     "metadata": {
      "needs_background": "light"
     },
     "output_type": "display_data"
    }
   ],
   "source": [
    "#程序文件Pex2_41.py\n",
    "from mpl_toolkits import mplot3d\n",
    "import matplotlib.pyplot as plt\n",
    "import numpy as np\n",
    "x=np.linspace(-6,6,30)\n",
    "y=np.linspace(-6,6,30)\n",
    "X,Y=np.meshgrid(x, y)\n",
    "Z= np.sin(np.sqrt(X ** 2 + Y ** 2))\n",
    "ax1=plt.subplot(1,2,1,projection='3d')\n",
    "ax1.plot_surface(X, Y, Z,cmap='viridis')\n",
    "ax1.set_xlabel('x'); ax1.set_ylabel('y'); ax1.set_zlabel('z')\n",
    "ax2=plt.subplot(1,2,2,projection='3d'); \n",
    "ax2.plot_wireframe(X, Y, Z,color='c')\n",
    "ax2.set_xlabel('x'); ax2.set_ylabel('y'); ax2.set_zlabel('z')\n",
    "plt.savefig('figure2_41.png',dpi=500); plt.show()"
   ]
  },
  {
   "cell_type": "markdown",
   "metadata": {},
   "source": [
    "(6)等高线图\n",
    "\n",
    "例2.42  已知平面区域 $0\\le x\\le 1400$，$0\\le y\\le 1200$ 步长间隔为100的网格节点高程数据见表2.12(单位：m)。\n",
    "\n"
   ]
  },
  {
   "cell_type": "markdown",
   "metadata": {},
   "source": [
    "（1）画出该区域的等高线. \n",
    "（2）画出该区域的三维表面图. "
   ]
  },
  {
   "cell_type": "code",
   "execution_count": null,
   "metadata": {},
   "outputs": [
    {
     "data": {
      "image/png": "[encoded data removed]",
      "text/plain": [
       "<Figure size 432x288 with 1 Axes>"
      ]
     },
     "metadata": {
      "needs_background": "light"
     },
     "output_type": "display_data"
    },
    {
     "data": {
      "image/png": "[encoded data removed]",
      "text/plain": [
       "<Figure size 432x288 with 1 Axes>"
      ]
     },
     "metadata": {
      "needs_background": "light"
     },
     "output_type": "display_data"
    }
   ],
   "source": [
    "#程序文件Pex2_42_1.py\n",
    "from mpl_toolkits import mplot3d\n",
    "import matplotlib.pyplot as plt\n",
    "import numpy as np\n",
    "z=np.loadtxt(\"Pdata2_42.txt\")  #加载高程数据\n",
    "x=np.arange(0,1500,100)\n",
    "y=np.arange(1200,-10,-100)\n",
    "contr=plt.contour(x,y,z); plt.clabel(contr)  #画等高线并标注\n",
    "plt.xlabel('$x$'); plt.ylabel('$y$',rotation=0)\n",
    "plt.savefig('figure2_42_1.png',dpi=500)\n",
    "plt.figure()  #创建一个绘图对象\n",
    "ax=plt.axes(projection='3d') #用这个绘图对象创建一个三维坐标轴对象\n",
    "X,Y=np.meshgrid(x,y)\n",
    "ax.plot_surface(X, Y, z,cmap='viridis')\n",
    "ax.set_xlabel('x'); ax.set_ylabel('y'); ax.set_zlabel('z')\n",
    "plt.savefig('figure2_42_2.png',dpi=500); plt.show()"
   ]
  },
  {
   "cell_type": "code",
   "execution_count": null,
   "metadata": {},
   "outputs": [
    {
     "data": {
      "image/png": "[encoded data removed]",
      "text/plain": [
       "<Figure size 432x288 with 1 Axes>"
      ]
     },
     "metadata": {
      "needs_background": "light"
     },
     "output_type": "display_data"
    }
   ],
   "source": [
    "#程序文件Pex2_43.py\n",
    "import matplotlib.pyplot as plt\n",
    "from numpy import *\n",
    "x=linspace(0,15,11); y=linspace(0,10,12)\n",
    "x,y=meshgrid(x,y)  #生成网格数据\n",
    "v1=y*cos(x); v2=y*sin(x)\n",
    "plt.quiver(x,y,v1,v2)\n",
    "plt.savefig('figure2_43.png',dpi=500); plt.show()"
   ]
  }
 ],
 "metadata": {
  "kernelspec": {
   "display_name": "Python 3 (ipykernel)",
   "language": "python",
   "name": "python3"
  },
  "language_info": {
   "codemirror_mode": {
    "name": "ipython",
    "version": 3
   },
   "file_extension": ".py",
   "mimetype": "text/x-python",
   "name": "python",
   "nbconvert_exporter": "python",
   "pygments_lexer": "ipython3",
   "version": "3.9.12"
  },
  "vscode": {
   "interpreter": {
    "hash": "dc07d24e2f18896857f0b2a651fe84ba40ce7b297e58d8804a308c8039f752a6"
   }
  }
 },
 "nbformat": 4,
 "nbformat_minor": 2
}
