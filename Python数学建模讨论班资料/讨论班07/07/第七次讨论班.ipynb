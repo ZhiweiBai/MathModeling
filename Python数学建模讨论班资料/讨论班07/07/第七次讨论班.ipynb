{
 "cells": [
  {
   "cell_type": "code",
   "execution_count": 3,
   "metadata": {
    "collapsed": true
   },
   "outputs": [
    {
     "name": "stdout",
     "output_type": "stream",
     "text": [
      "Optimization terminated successfully.\n",
      "         Current function value: -3360.000000\n",
      "         Iterations: 4\n",
      "     con: array([], dtype=float64)\n",
      "     fun: -3360.0\n",
      " message: 'Optimization terminated successfully.'\n",
      "     nit: 4\n",
      "   slack: array([0., 0.])\n",
      "  status: 0\n",
      " success: True\n",
      "       x: array([20., 30.])\n"
     ]
    }
   ],
   "source": [
    "from scipy.optimize import linprog as Li\n",
    "c = [-72, -64]\n",
    "A = [[1,1], [12,8]]\n",
    "b = [[50], [480]]\n",
    "bound = ((0,100/3.0), (0,None))\n",
    "resp = Li(c=c,A_ub=A,b_ub=b,bounds=bound,method='simplex',options={\"disp\":True})\n",
    "print(resp)\n",
    "\n"
   ]
  },
  {
   "cell_type": "code",
   "execution_count": 3,
   "metadata": {
    "pycharm": {
     "name": "#%%\n"
    }
   },
   "outputs": [
    {
     "data": {
      "image/png": "[encoded data removed]",
      "text/plain": [
       "<Figure size 432x288 with 1 Axes>"
      ]
     },
     "metadata": {
      "needs_background": "light"
     },
     "output_type": "display_data"
    }
   ],
   "source": [
    "import matplotlib.pyplot as plt\n",
    "from numpy import ones, diag, c_, zeros\n",
    "from scipy.optimize import linprog\n",
    "# plt.rc('text',usetex=True)\n",
    "plt.rc('font',size=16)\n",
    "c = [-0.05,-0.27,-0.19,-0.185,-0.185]\n",
    "A = c_[zeros(4),diag([0.025,0.015,0.055,0.026])]\n",
    "Aeq =[[1,1.01,1.02,1.045,1.065]]; beq = [1]\n",
    "a=0; aa=[]; ss=[]\n",
    "while a<0.05:\n",
    "    b = ones(4)*a\n",
    "    res = linprog(c,A,b,Aeq,beq)\n",
    "    x = res.x; Q = -res.fun\n",
    "    aa.append(a); ss.append(Q) #把最优值都保存起来\n",
    "    a = a+0.001\n",
    "plt.plot(aa,ss,'r*')\n",
    "plt.xlabel('$a$'); plt.ylabel('$Q$',rotation=90)\n",
    "plt.show()"
   ]
  },
  {
   "cell_type": "code",
   "execution_count": 4,
   "metadata": {
    "pycharm": {
     "name": "#%%\n"
    }
   },
   "outputs": [
    {
     "data": {
      "image/png": "[encoded data removed]",
      "text/plain": [
       "<Figure size 432x288 with 1 Axes>"
      ]
     },
     "metadata": {
      "needs_background": "light"
     },
     "output_type": "display_data"
    }
   ],
   "source": [
    "# 程序文件Pan5_1_2.py\n",
    "import matplotlib.pyplot as plt\n",
    "import numpy as np\n",
    "import cvxpy as cp\n",
    "\n",
    "# plt.rc('text', usetex=True)\n",
    "plt.rc('font', size=16)\n",
    "x = cp.Variable(6, pos=True)\n",
    "obj = cp.Minimize(x[5])\n",
    "a1 = np.array([0.025, 0.015, 0.055, 0.026])\n",
    "a2 = np.array([0.05, 0.27, 0.19, 0.185, 0.185])\n",
    "a3 = np.array([1, 1.01, 1.02, 1.045, 1.065])\n",
    "k = 0.05\n",
    "kk = []\n",
    "ss = []\n",
    "while k < 0.27:\n",
    "    con = [cp.multiply(a1, x[1:5]) - x[5] <= 0,\n",
    "           a2 @ x[:-1] >= k, a3 @ x[:-1] == 1]\n",
    "    prob = cp.Problem(obj, con)\n",
    "    prob.solve(solver='GLPK_MI')\n",
    "    kk.append(k)\n",
    "    ss.append(prob.value)\n",
    "    k = k + 0.005\n",
    "plt.plot(kk, ss, 'r*')\n",
    "plt.xlabel('k')\n",
    "plt.ylabel('R', rotation=90)\n",
    "plt.show()\n",
    "\n"
   ]
  },
  {
   "cell_type": "code",
   "execution_count": 12,
   "metadata": {
    "pycharm": {
     "name": "#%%\n"
    }
   },
   "outputs": [
    {
     "name": "stdout",
     "output_type": "stream",
     "text": [
      "z1:\n",
      "     con: array([], dtype=float64)\n",
      "     fun: -5960.0\n",
      " message: 'Optimization terminated successfully.'\n",
      "     nit: 5\n",
      "   slack: array([0., 9., 0., 0.])\n",
      "  status: 0\n",
      " success: True\n",
      "       x: array([14., 16., 39.,  0.])\n",
      " z2:\n",
      "     con: array([], dtype=float64)\n",
      "     fun: 30.0\n",
      " message: 'Optimization terminated successfully.'\n",
      "     nit: 5\n",
      "   slack: array([ 0.,  0.,  0., 18.])\n",
      "  status: 0\n",
      " success: True\n",
      "       x: array([20., 10., 30.,  0.])\n"
     ]
    }
   ],
   "source": [
    "\n",
    "# 程序文件Pan5_1_2.py\n",
    "import matplotlib.pyplot as plt\n",
    "import numpy as np\n",
    "import cvxpy as cp\n",
    "\n",
    "# plt.rc('text', usetex=True)\n",
    "plt.rc('font', size=16)\n",
    "x = cp.Variable(6, pos=True)\n",
    "a1 = np.array([0.025, 0.015, 0.055, 0.026])\n",
    "a2 = np.array([0.05, 0.27, 0.19, 0.185, 0.185])\n",
    "a3 = np.array([1, 1.01, 1.02, 1.045, 1.065])\n",
    "s = 0.00\n",
    "ss = []\n",
    "ff = []\n",
    "while s <= 1:\n",
    "    obj = cp.Minimize(s*x[5] - (1-s)*sum(cp.multiply(a2,x[:-1])))\n",
    "    con = [cp.multiply(a1, x[1:5]) - x[5] <= 0,\n",
    "            a3 @ x[:-1] == 1]\n",
    "    prob = cp.Problem(obj, con)\n",
    "    prob.solve(solver='GLPK_MI')\n",
    "    ss.append(s)\n",
    "    ff.append(prob.value)\n",
    "    s = s + 0.01\n",
    "plt.plot(ss, ff, 'r*')\n",
    "plt.xlabel('s')\n",
    "plt.ylabel('R', rotation=90)\n",
    "plt.show()\n",
    "\n",
    "\n",
    "\n",
    "\n"
   ]
  }
 ],
 "metadata": {
  "kernelspec": {
   "display_name": "Python 3",
   "language": "python",
   "name": "python3"
  },
  "language_info": {
   "codemirror_mode": {
    "name": "ipython",
    "version": 3
   },
   "file_extension": ".py",
   "mimetype": "text/x-python",
   "name": "python",
   "nbconvert_exporter": "python",
   "pygments_lexer": "ipython3",
   "version": "3.7.4"
  }
 },
 "nbformat": 4,
 "nbformat_minor": 1
}